{
 "cells": [
  {
   "cell_type": "markdown",
   "metadata": {},
   "source": [
    "# Книжное дело"
   ]
  },
  {
   "cell_type": "markdown",
   "metadata": {},
   "source": [
    "Компанией было приобретен крупный сервис для чтения книг по подписке. Необходимо проанализировать имеющуюся информацию и определить направления развития  \n",
    "  \n",
    "**Цель:**  \n",
    "Пронализировать базу данных, в которой находятся данные о книгах с целью формулирования ценностного предложения для нового продукта.  \n",
    "  \n",
    "**Исходные данные:**  \n",
    "Информация о книгах, издательствах, авторах, а также пользовательские обзоры книг  \n",
    "База данных, содержащая таблицы: ***books, authors, publishers, ratings и reviews***"
   ]
  },
  {
   "cell_type": "markdown",
   "metadata": {},
   "source": [
    "## Подключение к базе данных"
   ]
  },
  {
   "cell_type": "code",
   "execution_count": 1,
   "metadata": {},
   "outputs": [],
   "source": [
    "# импортируем библиотеки\n",
    "import pandas as pd\n",
    "from sqlalchemy import create_engine\n",
    "\n",
    "# устанавливаем параметры\n",
    "db_config = {\n",
    "    'user': 'praktikum_student',\n",
    "    'pwd': 'Sdf4$2;d-d30pp',\n",
    "    'host': 'rc1b-wcoijxj3yxfsf3fs.mdb.yandexcloud.net',\n",
    "    'port': 6432, \n",
    "    'db': 'data-analyst-final-project-db'} \n",
    "connection_string = 'postgresql://{}:{}@{}:{}/{}'.format(db_config['user'],\n",
    "db_config['pwd'],\n",
    "db_config['host'],\n",
    "db_config['port'],\n",
    "db_config['db'])\n",
    "# сохраняем коннектор\n",
    "engine = create_engine(connection_string, connect_args={'sslmode':'require'}) "
   ]
  },
  {
   "cell_type": "code",
   "execution_count": 2,
   "metadata": {},
   "outputs": [],
   "source": [
    "sql='''\n",
    "SELECT *\n",
    "FROM books\n",
    "LIMIT 5\n",
    "'''"
   ]
  },
  {
   "cell_type": "code",
   "execution_count": 3,
   "metadata": {},
   "outputs": [
    {
     "data": {
      "text/html": [
       "<div>\n",
       "<style scoped>\n",
       "    .dataframe tbody tr th:only-of-type {\n",
       "        vertical-align: middle;\n",
       "    }\n",
       "\n",
       "    .dataframe tbody tr th {\n",
       "        vertical-align: top;\n",
       "    }\n",
       "\n",
       "    .dataframe thead th {\n",
       "        text-align: right;\n",
       "    }\n",
       "</style>\n",
       "<table border=\"1\" class=\"dataframe\">\n",
       "  <thead>\n",
       "    <tr style=\"text-align: right;\">\n",
       "      <th></th>\n",
       "      <th>book_id</th>\n",
       "      <th>author_id</th>\n",
       "      <th>title</th>\n",
       "      <th>num_pages</th>\n",
       "      <th>publication_date</th>\n",
       "      <th>publisher_id</th>\n",
       "    </tr>\n",
       "  </thead>\n",
       "  <tbody>\n",
       "    <tr>\n",
       "      <td>0</td>\n",
       "      <td>1</td>\n",
       "      <td>546</td>\n",
       "      <td>'Salem's Lot</td>\n",
       "      <td>594</td>\n",
       "      <td>2005-11-01</td>\n",
       "      <td>93</td>\n",
       "    </tr>\n",
       "    <tr>\n",
       "      <td>1</td>\n",
       "      <td>2</td>\n",
       "      <td>465</td>\n",
       "      <td>1 000 Places to See Before You Die</td>\n",
       "      <td>992</td>\n",
       "      <td>2003-05-22</td>\n",
       "      <td>336</td>\n",
       "    </tr>\n",
       "    <tr>\n",
       "      <td>2</td>\n",
       "      <td>3</td>\n",
       "      <td>407</td>\n",
       "      <td>13 Little Blue Envelopes (Little Blue Envelope...</td>\n",
       "      <td>322</td>\n",
       "      <td>2010-12-21</td>\n",
       "      <td>135</td>\n",
       "    </tr>\n",
       "    <tr>\n",
       "      <td>3</td>\n",
       "      <td>4</td>\n",
       "      <td>82</td>\n",
       "      <td>1491: New Revelations of the Americas Before C...</td>\n",
       "      <td>541</td>\n",
       "      <td>2006-10-10</td>\n",
       "      <td>309</td>\n",
       "    </tr>\n",
       "    <tr>\n",
       "      <td>4</td>\n",
       "      <td>5</td>\n",
       "      <td>125</td>\n",
       "      <td>1776</td>\n",
       "      <td>386</td>\n",
       "      <td>2006-07-04</td>\n",
       "      <td>268</td>\n",
       "    </tr>\n",
       "  </tbody>\n",
       "</table>\n",
       "</div>"
      ],
      "text/plain": [
       "   book_id  author_id                                              title  \\\n",
       "0        1        546                                       'Salem's Lot   \n",
       "1        2        465                 1 000 Places to See Before You Die   \n",
       "2        3        407  13 Little Blue Envelopes (Little Blue Envelope...   \n",
       "3        4         82  1491: New Revelations of the Americas Before C...   \n",
       "4        5        125                                               1776   \n",
       "\n",
       "   num_pages publication_date  publisher_id  \n",
       "0        594       2005-11-01            93  \n",
       "1        992       2003-05-22           336  \n",
       "2        322       2010-12-21           135  \n",
       "3        541       2006-10-10           309  \n",
       "4        386       2006-07-04           268  "
      ]
     },
     "execution_count": 3,
     "metadata": {},
     "output_type": "execute_result"
    }
   ],
   "source": [
    "pd.io.sql.read_sql(sql, con = engine) "
   ]
  },
  {
   "cell_type": "markdown",
   "metadata": {},
   "source": [
    "Завернем выполнение SQL-запроса в функцию для удобства"
   ]
  },
  {
   "cell_type": "code",
   "execution_count": 4,
   "metadata": {},
   "outputs": [],
   "source": [
    "def select(sql):\n",
    "    return pd.io.sql.read_sql(sql, con = engine) "
   ]
  },
  {
   "cell_type": "code",
   "execution_count": 5,
   "metadata": {},
   "outputs": [
    {
     "data": {
      "text/html": [
       "<div>\n",
       "<style scoped>\n",
       "    .dataframe tbody tr th:only-of-type {\n",
       "        vertical-align: middle;\n",
       "    }\n",
       "\n",
       "    .dataframe tbody tr th {\n",
       "        vertical-align: top;\n",
       "    }\n",
       "\n",
       "    .dataframe thead th {\n",
       "        text-align: right;\n",
       "    }\n",
       "</style>\n",
       "<table border=\"1\" class=\"dataframe\">\n",
       "  <thead>\n",
       "    <tr style=\"text-align: right;\">\n",
       "      <th></th>\n",
       "      <th>book_id</th>\n",
       "      <th>author_id</th>\n",
       "      <th>title</th>\n",
       "      <th>num_pages</th>\n",
       "      <th>publication_date</th>\n",
       "      <th>publisher_id</th>\n",
       "    </tr>\n",
       "  </thead>\n",
       "  <tbody>\n",
       "    <tr>\n",
       "      <td>0</td>\n",
       "      <td>1</td>\n",
       "      <td>546</td>\n",
       "      <td>'Salem's Lot</td>\n",
       "      <td>594</td>\n",
       "      <td>2005-11-01</td>\n",
       "      <td>93</td>\n",
       "    </tr>\n",
       "    <tr>\n",
       "      <td>1</td>\n",
       "      <td>2</td>\n",
       "      <td>465</td>\n",
       "      <td>1 000 Places to See Before You Die</td>\n",
       "      <td>992</td>\n",
       "      <td>2003-05-22</td>\n",
       "      <td>336</td>\n",
       "    </tr>\n",
       "    <tr>\n",
       "      <td>2</td>\n",
       "      <td>3</td>\n",
       "      <td>407</td>\n",
       "      <td>13 Little Blue Envelopes (Little Blue Envelope...</td>\n",
       "      <td>322</td>\n",
       "      <td>2010-12-21</td>\n",
       "      <td>135</td>\n",
       "    </tr>\n",
       "    <tr>\n",
       "      <td>3</td>\n",
       "      <td>4</td>\n",
       "      <td>82</td>\n",
       "      <td>1491: New Revelations of the Americas Before C...</td>\n",
       "      <td>541</td>\n",
       "      <td>2006-10-10</td>\n",
       "      <td>309</td>\n",
       "    </tr>\n",
       "    <tr>\n",
       "      <td>4</td>\n",
       "      <td>5</td>\n",
       "      <td>125</td>\n",
       "      <td>1776</td>\n",
       "      <td>386</td>\n",
       "      <td>2006-07-04</td>\n",
       "      <td>268</td>\n",
       "    </tr>\n",
       "  </tbody>\n",
       "</table>\n",
       "</div>"
      ],
      "text/plain": [
       "   book_id  author_id                                              title  \\\n",
       "0        1        546                                       'Salem's Lot   \n",
       "1        2        465                 1 000 Places to See Before You Die   \n",
       "2        3        407  13 Little Blue Envelopes (Little Blue Envelope...   \n",
       "3        4         82  1491: New Revelations of the Americas Before C...   \n",
       "4        5        125                                               1776   \n",
       "\n",
       "   num_pages publication_date  publisher_id  \n",
       "0        594       2005-11-01            93  \n",
       "1        992       2003-05-22           336  \n",
       "2        322       2010-12-21           135  \n",
       "3        541       2006-10-10           309  \n",
       "4        386       2006-07-04           268  "
      ]
     },
     "execution_count": 5,
     "metadata": {},
     "output_type": "execute_result"
    }
   ],
   "source": [
    "select(sql)"
   ]
  },
  {
   "cell_type": "markdown",
   "metadata": {},
   "source": [
    "## Изучение данных"
   ]
  },
  {
   "cell_type": "markdown",
   "metadata": {},
   "source": [
    "Рассмотрим подробнее таблицы, выведем первые строки и узнаем объем"
   ]
  },
  {
   "cell_type": "code",
   "execution_count": 6,
   "metadata": {},
   "outputs": [],
   "source": [
    "sql='''\n",
    "SELECT *\n",
    "FROM books b\n",
    "LIMIT 5\n",
    "'''"
   ]
  },
  {
   "cell_type": "code",
   "execution_count": 7,
   "metadata": {},
   "outputs": [
    {
     "data": {
      "text/html": [
       "<div>\n",
       "<style scoped>\n",
       "    .dataframe tbody tr th:only-of-type {\n",
       "        vertical-align: middle;\n",
       "    }\n",
       "\n",
       "    .dataframe tbody tr th {\n",
       "        vertical-align: top;\n",
       "    }\n",
       "\n",
       "    .dataframe thead th {\n",
       "        text-align: right;\n",
       "    }\n",
       "</style>\n",
       "<table border=\"1\" class=\"dataframe\">\n",
       "  <thead>\n",
       "    <tr style=\"text-align: right;\">\n",
       "      <th></th>\n",
       "      <th>book_id</th>\n",
       "      <th>author_id</th>\n",
       "      <th>title</th>\n",
       "      <th>num_pages</th>\n",
       "      <th>publication_date</th>\n",
       "      <th>publisher_id</th>\n",
       "    </tr>\n",
       "  </thead>\n",
       "  <tbody>\n",
       "    <tr>\n",
       "      <td>0</td>\n",
       "      <td>1</td>\n",
       "      <td>546</td>\n",
       "      <td>'Salem's Lot</td>\n",
       "      <td>594</td>\n",
       "      <td>2005-11-01</td>\n",
       "      <td>93</td>\n",
       "    </tr>\n",
       "    <tr>\n",
       "      <td>1</td>\n",
       "      <td>2</td>\n",
       "      <td>465</td>\n",
       "      <td>1 000 Places to See Before You Die</td>\n",
       "      <td>992</td>\n",
       "      <td>2003-05-22</td>\n",
       "      <td>336</td>\n",
       "    </tr>\n",
       "    <tr>\n",
       "      <td>2</td>\n",
       "      <td>3</td>\n",
       "      <td>407</td>\n",
       "      <td>13 Little Blue Envelopes (Little Blue Envelope...</td>\n",
       "      <td>322</td>\n",
       "      <td>2010-12-21</td>\n",
       "      <td>135</td>\n",
       "    </tr>\n",
       "    <tr>\n",
       "      <td>3</td>\n",
       "      <td>4</td>\n",
       "      <td>82</td>\n",
       "      <td>1491: New Revelations of the Americas Before C...</td>\n",
       "      <td>541</td>\n",
       "      <td>2006-10-10</td>\n",
       "      <td>309</td>\n",
       "    </tr>\n",
       "    <tr>\n",
       "      <td>4</td>\n",
       "      <td>5</td>\n",
       "      <td>125</td>\n",
       "      <td>1776</td>\n",
       "      <td>386</td>\n",
       "      <td>2006-07-04</td>\n",
       "      <td>268</td>\n",
       "    </tr>\n",
       "  </tbody>\n",
       "</table>\n",
       "</div>"
      ],
      "text/plain": [
       "   book_id  author_id                                              title  \\\n",
       "0        1        546                                       'Salem's Lot   \n",
       "1        2        465                 1 000 Places to See Before You Die   \n",
       "2        3        407  13 Little Blue Envelopes (Little Blue Envelope...   \n",
       "3        4         82  1491: New Revelations of the Americas Before C...   \n",
       "4        5        125                                               1776   \n",
       "\n",
       "   num_pages publication_date  publisher_id  \n",
       "0        594       2005-11-01            93  \n",
       "1        992       2003-05-22           336  \n",
       "2        322       2010-12-21           135  \n",
       "3        541       2006-10-10           309  \n",
       "4        386       2006-07-04           268  "
      ]
     },
     "execution_count": 7,
     "metadata": {},
     "output_type": "execute_result"
    }
   ],
   "source": [
    "select(sql)"
   ]
  },
  {
   "cell_type": "code",
   "execution_count": 8,
   "metadata": {},
   "outputs": [],
   "source": [
    "sql='''\n",
    "SELECT count(b.book_id) AS cnt\n",
    "FROM books b\n",
    "'''"
   ]
  },
  {
   "cell_type": "code",
   "execution_count": 9,
   "metadata": {},
   "outputs": [
    {
     "data": {
      "text/html": [
       "<div>\n",
       "<style scoped>\n",
       "    .dataframe tbody tr th:only-of-type {\n",
       "        vertical-align: middle;\n",
       "    }\n",
       "\n",
       "    .dataframe tbody tr th {\n",
       "        vertical-align: top;\n",
       "    }\n",
       "\n",
       "    .dataframe thead th {\n",
       "        text-align: right;\n",
       "    }\n",
       "</style>\n",
       "<table border=\"1\" class=\"dataframe\">\n",
       "  <thead>\n",
       "    <tr style=\"text-align: right;\">\n",
       "      <th></th>\n",
       "      <th>cnt</th>\n",
       "    </tr>\n",
       "  </thead>\n",
       "  <tbody>\n",
       "    <tr>\n",
       "      <td>0</td>\n",
       "      <td>1000</td>\n",
       "    </tr>\n",
       "  </tbody>\n",
       "</table>\n",
       "</div>"
      ],
      "text/plain": [
       "    cnt\n",
       "0  1000"
      ]
     },
     "execution_count": 9,
     "metadata": {},
     "output_type": "execute_result"
    }
   ],
   "source": [
    "select(sql)"
   ]
  },
  {
   "cell_type": "markdown",
   "metadata": {},
   "source": [
    "Таблица `books` содержит 1000 записей. В таблице представлены идентификаторы книг, авторов и издательств, а также наименования книг, количество страниц и дату издания."
   ]
  },
  {
   "cell_type": "code",
   "execution_count": 10,
   "metadata": {},
   "outputs": [],
   "source": [
    "sql='''\n",
    "SELECT *\n",
    "FROM authors a\n",
    "LIMIT 5\n",
    "'''"
   ]
  },
  {
   "cell_type": "code",
   "execution_count": 11,
   "metadata": {},
   "outputs": [
    {
     "data": {
      "text/html": [
       "<div>\n",
       "<style scoped>\n",
       "    .dataframe tbody tr th:only-of-type {\n",
       "        vertical-align: middle;\n",
       "    }\n",
       "\n",
       "    .dataframe tbody tr th {\n",
       "        vertical-align: top;\n",
       "    }\n",
       "\n",
       "    .dataframe thead th {\n",
       "        text-align: right;\n",
       "    }\n",
       "</style>\n",
       "<table border=\"1\" class=\"dataframe\">\n",
       "  <thead>\n",
       "    <tr style=\"text-align: right;\">\n",
       "      <th></th>\n",
       "      <th>author_id</th>\n",
       "      <th>author</th>\n",
       "    </tr>\n",
       "  </thead>\n",
       "  <tbody>\n",
       "    <tr>\n",
       "      <td>0</td>\n",
       "      <td>1</td>\n",
       "      <td>A.S. Byatt</td>\n",
       "    </tr>\n",
       "    <tr>\n",
       "      <td>1</td>\n",
       "      <td>2</td>\n",
       "      <td>Aesop/Laura Harris/Laura Gibbs</td>\n",
       "    </tr>\n",
       "    <tr>\n",
       "      <td>2</td>\n",
       "      <td>3</td>\n",
       "      <td>Agatha Christie</td>\n",
       "    </tr>\n",
       "    <tr>\n",
       "      <td>3</td>\n",
       "      <td>4</td>\n",
       "      <td>Alan Brennert</td>\n",
       "    </tr>\n",
       "    <tr>\n",
       "      <td>4</td>\n",
       "      <td>5</td>\n",
       "      <td>Alan Moore/David   Lloyd</td>\n",
       "    </tr>\n",
       "  </tbody>\n",
       "</table>\n",
       "</div>"
      ],
      "text/plain": [
       "   author_id                          author\n",
       "0          1                      A.S. Byatt\n",
       "1          2  Aesop/Laura Harris/Laura Gibbs\n",
       "2          3                 Agatha Christie\n",
       "3          4                   Alan Brennert\n",
       "4          5        Alan Moore/David   Lloyd"
      ]
     },
     "execution_count": 11,
     "metadata": {},
     "output_type": "execute_result"
    }
   ],
   "source": [
    "select(sql)"
   ]
  },
  {
   "cell_type": "code",
   "execution_count": 12,
   "metadata": {},
   "outputs": [],
   "source": [
    "sql='''\n",
    "SELECT count(a.author_id) AS cnt\n",
    "FROM authors a\n",
    "'''"
   ]
  },
  {
   "cell_type": "code",
   "execution_count": 13,
   "metadata": {},
   "outputs": [
    {
     "data": {
      "text/html": [
       "<div>\n",
       "<style scoped>\n",
       "    .dataframe tbody tr th:only-of-type {\n",
       "        vertical-align: middle;\n",
       "    }\n",
       "\n",
       "    .dataframe tbody tr th {\n",
       "        vertical-align: top;\n",
       "    }\n",
       "\n",
       "    .dataframe thead th {\n",
       "        text-align: right;\n",
       "    }\n",
       "</style>\n",
       "<table border=\"1\" class=\"dataframe\">\n",
       "  <thead>\n",
       "    <tr style=\"text-align: right;\">\n",
       "      <th></th>\n",
       "      <th>cnt</th>\n",
       "    </tr>\n",
       "  </thead>\n",
       "  <tbody>\n",
       "    <tr>\n",
       "      <td>0</td>\n",
       "      <td>636</td>\n",
       "    </tr>\n",
       "  </tbody>\n",
       "</table>\n",
       "</div>"
      ],
      "text/plain": [
       "   cnt\n",
       "0  636"
      ]
     },
     "execution_count": 13,
     "metadata": {},
     "output_type": "execute_result"
    }
   ],
   "source": [
    "select(sql)"
   ]
  },
  {
   "cell_type": "markdown",
   "metadata": {},
   "source": [
    "Таблица `authors` содержит 636 записей об авторах книг. Таблица содержит идентификаторы авторов и имена/псевдонимы. По первым строкам таблицы можно увидеть упорядоченость по алфавиту"
   ]
  },
  {
   "cell_type": "code",
   "execution_count": 14,
   "metadata": {},
   "outputs": [],
   "source": [
    "sql='''\n",
    "SELECT *\n",
    "FROM publishers p\n",
    "LIMIT 5\n",
    "'''"
   ]
  },
  {
   "cell_type": "code",
   "execution_count": 15,
   "metadata": {},
   "outputs": [
    {
     "data": {
      "text/html": [
       "<div>\n",
       "<style scoped>\n",
       "    .dataframe tbody tr th:only-of-type {\n",
       "        vertical-align: middle;\n",
       "    }\n",
       "\n",
       "    .dataframe tbody tr th {\n",
       "        vertical-align: top;\n",
       "    }\n",
       "\n",
       "    .dataframe thead th {\n",
       "        text-align: right;\n",
       "    }\n",
       "</style>\n",
       "<table border=\"1\" class=\"dataframe\">\n",
       "  <thead>\n",
       "    <tr style=\"text-align: right;\">\n",
       "      <th></th>\n",
       "      <th>publisher_id</th>\n",
       "      <th>publisher</th>\n",
       "    </tr>\n",
       "  </thead>\n",
       "  <tbody>\n",
       "    <tr>\n",
       "      <td>0</td>\n",
       "      <td>1</td>\n",
       "      <td>Ace</td>\n",
       "    </tr>\n",
       "    <tr>\n",
       "      <td>1</td>\n",
       "      <td>2</td>\n",
       "      <td>Ace Book</td>\n",
       "    </tr>\n",
       "    <tr>\n",
       "      <td>2</td>\n",
       "      <td>3</td>\n",
       "      <td>Ace Books</td>\n",
       "    </tr>\n",
       "    <tr>\n",
       "      <td>3</td>\n",
       "      <td>4</td>\n",
       "      <td>Ace Hardcover</td>\n",
       "    </tr>\n",
       "    <tr>\n",
       "      <td>4</td>\n",
       "      <td>5</td>\n",
       "      <td>Addison Wesley Publishing Company</td>\n",
       "    </tr>\n",
       "  </tbody>\n",
       "</table>\n",
       "</div>"
      ],
      "text/plain": [
       "   publisher_id                          publisher\n",
       "0             1                                Ace\n",
       "1             2                           Ace Book\n",
       "2             3                          Ace Books\n",
       "3             4                      Ace Hardcover\n",
       "4             5  Addison Wesley Publishing Company"
      ]
     },
     "execution_count": 15,
     "metadata": {},
     "output_type": "execute_result"
    }
   ],
   "source": [
    "select(sql)"
   ]
  },
  {
   "cell_type": "code",
   "execution_count": 16,
   "metadata": {},
   "outputs": [],
   "source": [
    "sql='''\n",
    "SELECT count(p.publisher_id) AS cnt\n",
    "FROM publishers p\n",
    "'''"
   ]
  },
  {
   "cell_type": "code",
   "execution_count": 17,
   "metadata": {},
   "outputs": [
    {
     "data": {
      "text/html": [
       "<div>\n",
       "<style scoped>\n",
       "    .dataframe tbody tr th:only-of-type {\n",
       "        vertical-align: middle;\n",
       "    }\n",
       "\n",
       "    .dataframe tbody tr th {\n",
       "        vertical-align: top;\n",
       "    }\n",
       "\n",
       "    .dataframe thead th {\n",
       "        text-align: right;\n",
       "    }\n",
       "</style>\n",
       "<table border=\"1\" class=\"dataframe\">\n",
       "  <thead>\n",
       "    <tr style=\"text-align: right;\">\n",
       "      <th></th>\n",
       "      <th>cnt</th>\n",
       "    </tr>\n",
       "  </thead>\n",
       "  <tbody>\n",
       "    <tr>\n",
       "      <td>0</td>\n",
       "      <td>340</td>\n",
       "    </tr>\n",
       "  </tbody>\n",
       "</table>\n",
       "</div>"
      ],
      "text/plain": [
       "   cnt\n",
       "0  340"
      ]
     },
     "execution_count": 17,
     "metadata": {},
     "output_type": "execute_result"
    }
   ],
   "source": [
    "select(sql)"
   ]
  },
  {
   "cell_type": "markdown",
   "metadata": {},
   "source": [
    "Таблица `publishers` содержит 340 записей об издательствах: идентификаторы издательств и названия. Аналогично по первым строкам таблицы можно увидеть упоядоченость по алфавиту"
   ]
  },
  {
   "cell_type": "code",
   "execution_count": 18,
   "metadata": {},
   "outputs": [],
   "source": [
    "sql='''\n",
    "SELECT *\n",
    "FROM ratings r\n",
    "LIMIT 5\n",
    "'''"
   ]
  },
  {
   "cell_type": "code",
   "execution_count": 19,
   "metadata": {},
   "outputs": [
    {
     "data": {
      "text/html": [
       "<div>\n",
       "<style scoped>\n",
       "    .dataframe tbody tr th:only-of-type {\n",
       "        vertical-align: middle;\n",
       "    }\n",
       "\n",
       "    .dataframe tbody tr th {\n",
       "        vertical-align: top;\n",
       "    }\n",
       "\n",
       "    .dataframe thead th {\n",
       "        text-align: right;\n",
       "    }\n",
       "</style>\n",
       "<table border=\"1\" class=\"dataframe\">\n",
       "  <thead>\n",
       "    <tr style=\"text-align: right;\">\n",
       "      <th></th>\n",
       "      <th>rating_id</th>\n",
       "      <th>book_id</th>\n",
       "      <th>username</th>\n",
       "      <th>rating</th>\n",
       "    </tr>\n",
       "  </thead>\n",
       "  <tbody>\n",
       "    <tr>\n",
       "      <td>0</td>\n",
       "      <td>1</td>\n",
       "      <td>1</td>\n",
       "      <td>ryanfranco</td>\n",
       "      <td>4</td>\n",
       "    </tr>\n",
       "    <tr>\n",
       "      <td>1</td>\n",
       "      <td>2</td>\n",
       "      <td>1</td>\n",
       "      <td>grantpatricia</td>\n",
       "      <td>2</td>\n",
       "    </tr>\n",
       "    <tr>\n",
       "      <td>2</td>\n",
       "      <td>3</td>\n",
       "      <td>1</td>\n",
       "      <td>brandtandrea</td>\n",
       "      <td>5</td>\n",
       "    </tr>\n",
       "    <tr>\n",
       "      <td>3</td>\n",
       "      <td>4</td>\n",
       "      <td>2</td>\n",
       "      <td>lorichen</td>\n",
       "      <td>3</td>\n",
       "    </tr>\n",
       "    <tr>\n",
       "      <td>4</td>\n",
       "      <td>5</td>\n",
       "      <td>2</td>\n",
       "      <td>mariokeller</td>\n",
       "      <td>2</td>\n",
       "    </tr>\n",
       "  </tbody>\n",
       "</table>\n",
       "</div>"
      ],
      "text/plain": [
       "   rating_id  book_id       username  rating\n",
       "0          1        1     ryanfranco       4\n",
       "1          2        1  grantpatricia       2\n",
       "2          3        1   brandtandrea       5\n",
       "3          4        2       lorichen       3\n",
       "4          5        2    mariokeller       2"
      ]
     },
     "execution_count": 19,
     "metadata": {},
     "output_type": "execute_result"
    }
   ],
   "source": [
    "select(sql)"
   ]
  },
  {
   "cell_type": "code",
   "execution_count": 20,
   "metadata": {},
   "outputs": [],
   "source": [
    "sql='''\n",
    "SELECT count(r.rating_id) AS cnt\n",
    "FROM ratings r\n",
    "'''"
   ]
  },
  {
   "cell_type": "code",
   "execution_count": 21,
   "metadata": {},
   "outputs": [
    {
     "data": {
      "text/html": [
       "<div>\n",
       "<style scoped>\n",
       "    .dataframe tbody tr th:only-of-type {\n",
       "        vertical-align: middle;\n",
       "    }\n",
       "\n",
       "    .dataframe tbody tr th {\n",
       "        vertical-align: top;\n",
       "    }\n",
       "\n",
       "    .dataframe thead th {\n",
       "        text-align: right;\n",
       "    }\n",
       "</style>\n",
       "<table border=\"1\" class=\"dataframe\">\n",
       "  <thead>\n",
       "    <tr style=\"text-align: right;\">\n",
       "      <th></th>\n",
       "      <th>cnt</th>\n",
       "    </tr>\n",
       "  </thead>\n",
       "  <tbody>\n",
       "    <tr>\n",
       "      <td>0</td>\n",
       "      <td>6456</td>\n",
       "    </tr>\n",
       "  </tbody>\n",
       "</table>\n",
       "</div>"
      ],
      "text/plain": [
       "    cnt\n",
       "0  6456"
      ]
     },
     "execution_count": 21,
     "metadata": {},
     "output_type": "execute_result"
    }
   ],
   "source": [
    "select(sql)"
   ]
  },
  {
   "cell_type": "markdown",
   "metadata": {},
   "source": [
    "Таблица `ratings` содержит 6456 записей. Таблица содержит информацию об идентификаторах книг и оценки, а также имя пользователя и поставленная этим пользователем оценка"
   ]
  },
  {
   "cell_type": "code",
   "execution_count": 22,
   "metadata": {},
   "outputs": [],
   "source": [
    "sql='''\n",
    "SELECT *\n",
    "FROM reviews rev\n",
    "LIMIT 5\n",
    "'''"
   ]
  },
  {
   "cell_type": "code",
   "execution_count": 23,
   "metadata": {},
   "outputs": [
    {
     "data": {
      "text/html": [
       "<div>\n",
       "<style scoped>\n",
       "    .dataframe tbody tr th:only-of-type {\n",
       "        vertical-align: middle;\n",
       "    }\n",
       "\n",
       "    .dataframe tbody tr th {\n",
       "        vertical-align: top;\n",
       "    }\n",
       "\n",
       "    .dataframe thead th {\n",
       "        text-align: right;\n",
       "    }\n",
       "</style>\n",
       "<table border=\"1\" class=\"dataframe\">\n",
       "  <thead>\n",
       "    <tr style=\"text-align: right;\">\n",
       "      <th></th>\n",
       "      <th>review_id</th>\n",
       "      <th>book_id</th>\n",
       "      <th>username</th>\n",
       "      <th>text</th>\n",
       "    </tr>\n",
       "  </thead>\n",
       "  <tbody>\n",
       "    <tr>\n",
       "      <td>0</td>\n",
       "      <td>1</td>\n",
       "      <td>1</td>\n",
       "      <td>brandtandrea</td>\n",
       "      <td>Mention society tell send professor analysis. ...</td>\n",
       "    </tr>\n",
       "    <tr>\n",
       "      <td>1</td>\n",
       "      <td>2</td>\n",
       "      <td>1</td>\n",
       "      <td>ryanfranco</td>\n",
       "      <td>Foot glass pretty audience hit themselves. Amo...</td>\n",
       "    </tr>\n",
       "    <tr>\n",
       "      <td>2</td>\n",
       "      <td>3</td>\n",
       "      <td>2</td>\n",
       "      <td>lorichen</td>\n",
       "      <td>Listen treat keep worry. Miss husband tax but ...</td>\n",
       "    </tr>\n",
       "    <tr>\n",
       "      <td>3</td>\n",
       "      <td>4</td>\n",
       "      <td>3</td>\n",
       "      <td>johnsonamanda</td>\n",
       "      <td>Finally month interesting blue could nature cu...</td>\n",
       "    </tr>\n",
       "    <tr>\n",
       "      <td>4</td>\n",
       "      <td>5</td>\n",
       "      <td>3</td>\n",
       "      <td>scotttamara</td>\n",
       "      <td>Nation purpose heavy give wait song will. List...</td>\n",
       "    </tr>\n",
       "  </tbody>\n",
       "</table>\n",
       "</div>"
      ],
      "text/plain": [
       "   review_id  book_id       username  \\\n",
       "0          1        1   brandtandrea   \n",
       "1          2        1     ryanfranco   \n",
       "2          3        2       lorichen   \n",
       "3          4        3  johnsonamanda   \n",
       "4          5        3    scotttamara   \n",
       "\n",
       "                                                text  \n",
       "0  Mention society tell send professor analysis. ...  \n",
       "1  Foot glass pretty audience hit themselves. Amo...  \n",
       "2  Listen treat keep worry. Miss husband tax but ...  \n",
       "3  Finally month interesting blue could nature cu...  \n",
       "4  Nation purpose heavy give wait song will. List...  "
      ]
     },
     "execution_count": 23,
     "metadata": {},
     "output_type": "execute_result"
    }
   ],
   "source": [
    "select(sql)"
   ]
  },
  {
   "cell_type": "code",
   "execution_count": 24,
   "metadata": {},
   "outputs": [],
   "source": [
    "sql='''\n",
    "SELECT count(rev.review_id) AS cnt\n",
    "FROM reviews rev\n",
    "'''"
   ]
  },
  {
   "cell_type": "code",
   "execution_count": 25,
   "metadata": {},
   "outputs": [
    {
     "data": {
      "text/html": [
       "<div>\n",
       "<style scoped>\n",
       "    .dataframe tbody tr th:only-of-type {\n",
       "        vertical-align: middle;\n",
       "    }\n",
       "\n",
       "    .dataframe tbody tr th {\n",
       "        vertical-align: top;\n",
       "    }\n",
       "\n",
       "    .dataframe thead th {\n",
       "        text-align: right;\n",
       "    }\n",
       "</style>\n",
       "<table border=\"1\" class=\"dataframe\">\n",
       "  <thead>\n",
       "    <tr style=\"text-align: right;\">\n",
       "      <th></th>\n",
       "      <th>cnt</th>\n",
       "    </tr>\n",
       "  </thead>\n",
       "  <tbody>\n",
       "    <tr>\n",
       "      <td>0</td>\n",
       "      <td>2793</td>\n",
       "    </tr>\n",
       "  </tbody>\n",
       "</table>\n",
       "</div>"
      ],
      "text/plain": [
       "    cnt\n",
       "0  2793"
      ]
     },
     "execution_count": 25,
     "metadata": {},
     "output_type": "execute_result"
    }
   ],
   "source": [
    "select(sql)"
   ]
  },
  {
   "cell_type": "markdown",
   "metadata": {},
   "source": [
    "Таблица `reviews` содержит 2793 записей. Таблица содержит информацию об идентификаторах книг и обзоров, а также имя пользователя и текст обзора"
   ]
  },
  {
   "cell_type": "markdown",
   "metadata": {},
   "source": [
    "## Аналитика данных о книгах"
   ]
  },
  {
   "cell_type": "markdown",
   "metadata": {},
   "source": [
    "Проведем аналитику отвечая на интересующие вопросы"
   ]
  },
  {
   "cell_type": "markdown",
   "metadata": {},
   "source": [
    "### Сколько книг вышло после 1 января 2000 года?"
   ]
  },
  {
   "cell_type": "code",
   "execution_count": 26,
   "metadata": {},
   "outputs": [],
   "source": [
    "sql='''\n",
    "SELECT count(b.book_id) AS cnt\n",
    "FROM books b\n",
    "WHERE publication_date > '2000-01-01'\n",
    "'''"
   ]
  },
  {
   "cell_type": "code",
   "execution_count": 27,
   "metadata": {},
   "outputs": [
    {
     "data": {
      "text/html": [
       "<div>\n",
       "<style scoped>\n",
       "    .dataframe tbody tr th:only-of-type {\n",
       "        vertical-align: middle;\n",
       "    }\n",
       "\n",
       "    .dataframe tbody tr th {\n",
       "        vertical-align: top;\n",
       "    }\n",
       "\n",
       "    .dataframe thead th {\n",
       "        text-align: right;\n",
       "    }\n",
       "</style>\n",
       "<table border=\"1\" class=\"dataframe\">\n",
       "  <thead>\n",
       "    <tr style=\"text-align: right;\">\n",
       "      <th></th>\n",
       "      <th>cnt</th>\n",
       "    </tr>\n",
       "  </thead>\n",
       "  <tbody>\n",
       "    <tr>\n",
       "      <td>0</td>\n",
       "      <td>819</td>\n",
       "    </tr>\n",
       "  </tbody>\n",
       "</table>\n",
       "</div>"
      ],
      "text/plain": [
       "   cnt\n",
       "0  819"
      ]
     },
     "execution_count": 27,
     "metadata": {},
     "output_type": "execute_result"
    }
   ],
   "source": [
    "select(sql)"
   ]
  },
  {
   "cell_type": "markdown",
   "metadata": {},
   "source": [
    "Начиная со 2 января 2000 года было издано 819 книг"
   ]
  },
  {
   "cell_type": "markdown",
   "metadata": {},
   "source": [
    "### Какое количество обзоров и средняя оценка у каждой книги?"
   ]
  },
  {
   "cell_type": "markdown",
   "metadata": {},
   "source": [
    "Воспользуемся конструкцией with для написания подзапросов"
   ]
  },
  {
   "cell_type": "code",
   "execution_count": 28,
   "metadata": {},
   "outputs": [],
   "source": [
    "sql='''\n",
    "WITH average_rating AS\n",
    "  (SELECT b.book_id,\n",
    "          title,\n",
    "          avg(r.rating) AS average_rating\n",
    "   FROM books b\n",
    "   LEFT JOIN ratings r ON r.book_id = b.book_id\n",
    "   GROUP BY b.book_id),\n",
    "     count_reviews AS\n",
    "  (SELECT b.book_id,\n",
    "          title,\n",
    "          count(rev.review_id) AS count_reviews\n",
    "   FROM books b\n",
    "   LEFT JOIN reviews rev ON rev.book_id = b.book_id\n",
    "   GROUP BY b.book_id)\n",
    "SELECT a.book_id,\n",
    "       a.title, \n",
    "       c.count_reviews,\n",
    "       a.average_rating\n",
    "FROM average_rating a\n",
    "JOIN count_reviews c ON a.book_id = c.book_id\n",
    "ORDER BY a.average_rating DESC\n",
    "LIMIT 5\n",
    "'''"
   ]
  },
  {
   "cell_type": "code",
   "execution_count": 29,
   "metadata": {},
   "outputs": [
    {
     "data": {
      "text/html": [
       "<div>\n",
       "<style scoped>\n",
       "    .dataframe tbody tr th:only-of-type {\n",
       "        vertical-align: middle;\n",
       "    }\n",
       "\n",
       "    .dataframe tbody tr th {\n",
       "        vertical-align: top;\n",
       "    }\n",
       "\n",
       "    .dataframe thead th {\n",
       "        text-align: right;\n",
       "    }\n",
       "</style>\n",
       "<table border=\"1\" class=\"dataframe\">\n",
       "  <thead>\n",
       "    <tr style=\"text-align: right;\">\n",
       "      <th></th>\n",
       "      <th>book_id</th>\n",
       "      <th>title</th>\n",
       "      <th>count_reviews</th>\n",
       "      <th>average_rating</th>\n",
       "    </tr>\n",
       "  </thead>\n",
       "  <tbody>\n",
       "    <tr>\n",
       "      <td>0</td>\n",
       "      <td>55</td>\n",
       "      <td>A Woman of Substance (Emma Harte Saga #1)</td>\n",
       "      <td>2</td>\n",
       "      <td>5.0</td>\n",
       "    </tr>\n",
       "    <tr>\n",
       "      <td>1</td>\n",
       "      <td>57</td>\n",
       "      <td>Act of Treason (Mitch Rapp  #9)</td>\n",
       "      <td>2</td>\n",
       "      <td>5.0</td>\n",
       "    </tr>\n",
       "    <tr>\n",
       "      <td>2</td>\n",
       "      <td>17</td>\n",
       "      <td>A Dirty Job (Grim Reaper  #1)</td>\n",
       "      <td>4</td>\n",
       "      <td>5.0</td>\n",
       "    </tr>\n",
       "    <tr>\n",
       "      <td>3</td>\n",
       "      <td>20</td>\n",
       "      <td>A Fistful of Charms (The Hollows  #4)</td>\n",
       "      <td>2</td>\n",
       "      <td>5.0</td>\n",
       "    </tr>\n",
       "    <tr>\n",
       "      <td>4</td>\n",
       "      <td>62</td>\n",
       "      <td>Alas  Babylon</td>\n",
       "      <td>2</td>\n",
       "      <td>5.0</td>\n",
       "    </tr>\n",
       "  </tbody>\n",
       "</table>\n",
       "</div>"
      ],
      "text/plain": [
       "   book_id                                      title  count_reviews  \\\n",
       "0       55  A Woman of Substance (Emma Harte Saga #1)              2   \n",
       "1       57            Act of Treason (Mitch Rapp  #9)              2   \n",
       "2       17              A Dirty Job (Grim Reaper  #1)              4   \n",
       "3       20      A Fistful of Charms (The Hollows  #4)              2   \n",
       "4       62                              Alas  Babylon              2   \n",
       "\n",
       "   average_rating  \n",
       "0             5.0  \n",
       "1             5.0  \n",
       "2             5.0  \n",
       "3             5.0  \n",
       "4             5.0  "
      ]
     },
     "execution_count": 29,
     "metadata": {},
     "output_type": "execute_result"
    }
   ],
   "source": [
    "select(sql)"
   ]
  },
  {
   "cell_type": "markdown",
   "metadata": {},
   "source": [
    "Проверим правильность выполнения"
   ]
  },
  {
   "cell_type": "code",
   "execution_count": 30,
   "metadata": {},
   "outputs": [],
   "source": [
    "sql='''\n",
    "SELECT avg(r.rating)\n",
    "FROM ratings r\n",
    "WHERE r.book_id = 55\n",
    "'''"
   ]
  },
  {
   "cell_type": "code",
   "execution_count": 31,
   "metadata": {},
   "outputs": [
    {
     "data": {
      "text/html": [
       "<div>\n",
       "<style scoped>\n",
       "    .dataframe tbody tr th:only-of-type {\n",
       "        vertical-align: middle;\n",
       "    }\n",
       "\n",
       "    .dataframe tbody tr th {\n",
       "        vertical-align: top;\n",
       "    }\n",
       "\n",
       "    .dataframe thead th {\n",
       "        text-align: right;\n",
       "    }\n",
       "</style>\n",
       "<table border=\"1\" class=\"dataframe\">\n",
       "  <thead>\n",
       "    <tr style=\"text-align: right;\">\n",
       "      <th></th>\n",
       "      <th>avg</th>\n",
       "    </tr>\n",
       "  </thead>\n",
       "  <tbody>\n",
       "    <tr>\n",
       "      <td>0</td>\n",
       "      <td>5.0</td>\n",
       "    </tr>\n",
       "  </tbody>\n",
       "</table>\n",
       "</div>"
      ],
      "text/plain": [
       "   avg\n",
       "0  5.0"
      ]
     },
     "execution_count": 31,
     "metadata": {},
     "output_type": "execute_result"
    }
   ],
   "source": [
    "select(sql)"
   ]
  },
  {
   "cell_type": "code",
   "execution_count": 32,
   "metadata": {},
   "outputs": [],
   "source": [
    "sql='''\n",
    "SELECT count(rev.review_id)\n",
    "FROM reviews rev\n",
    "WHERE rev.book_id = 57\n",
    "'''"
   ]
  },
  {
   "cell_type": "code",
   "execution_count": 33,
   "metadata": {},
   "outputs": [
    {
     "data": {
      "text/html": [
       "<div>\n",
       "<style scoped>\n",
       "    .dataframe tbody tr th:only-of-type {\n",
       "        vertical-align: middle;\n",
       "    }\n",
       "\n",
       "    .dataframe tbody tr th {\n",
       "        vertical-align: top;\n",
       "    }\n",
       "\n",
       "    .dataframe thead th {\n",
       "        text-align: right;\n",
       "    }\n",
       "</style>\n",
       "<table border=\"1\" class=\"dataframe\">\n",
       "  <thead>\n",
       "    <tr style=\"text-align: right;\">\n",
       "      <th></th>\n",
       "      <th>count</th>\n",
       "    </tr>\n",
       "  </thead>\n",
       "  <tbody>\n",
       "    <tr>\n",
       "      <td>0</td>\n",
       "      <td>2</td>\n",
       "    </tr>\n",
       "  </tbody>\n",
       "</table>\n",
       "</div>"
      ],
      "text/plain": [
       "   count\n",
       "0      2"
      ]
     },
     "execution_count": 33,
     "metadata": {},
     "output_type": "execute_result"
    }
   ],
   "source": [
    "select(sql)"
   ]
  },
  {
   "cell_type": "markdown",
   "metadata": {},
   "source": [
    "Для каждой книги мы определили количество обзоров и среднюю оценку. Отсортировав данные можно заметить, что максимально поставленной оценкой является 5, а минимально поставленной 1.5"
   ]
  },
  {
   "cell_type": "markdown",
   "metadata": {},
   "source": [
    "### Какое издательство, выпустило наибольшее число книг толще 50 страниц?"
   ]
  },
  {
   "cell_type": "markdown",
   "metadata": {},
   "source": [
    "Отсекая книги менее 50 страниц мы отсекаем брошюры из анализа"
   ]
  },
  {
   "cell_type": "code",
   "execution_count": 34,
   "metadata": {},
   "outputs": [],
   "source": [
    "sql='''\n",
    "SELECT p.publisher_id,\n",
    "       p.publisher,\n",
    "       count(book_id) AS cnt\n",
    "FROM books b\n",
    "JOIN publishers p ON p.publisher_id = b.publisher_id\n",
    "WHERE num_pages > 50\n",
    "GROUP BY p.publisher_id,\n",
    "         p.publisher\n",
    "HAVING count(book_id) =\n",
    "  (SELECT max(cnt)\n",
    "   FROM\n",
    "     (SELECT count(book_id) AS cnt\n",
    "      FROM books b\n",
    "      WHERE num_pages > 50\n",
    "      GROUP BY b.publisher_id) AS t)\n",
    "'''"
   ]
  },
  {
   "cell_type": "code",
   "execution_count": 35,
   "metadata": {},
   "outputs": [
    {
     "data": {
      "text/html": [
       "<div>\n",
       "<style scoped>\n",
       "    .dataframe tbody tr th:only-of-type {\n",
       "        vertical-align: middle;\n",
       "    }\n",
       "\n",
       "    .dataframe tbody tr th {\n",
       "        vertical-align: top;\n",
       "    }\n",
       "\n",
       "    .dataframe thead th {\n",
       "        text-align: right;\n",
       "    }\n",
       "</style>\n",
       "<table border=\"1\" class=\"dataframe\">\n",
       "  <thead>\n",
       "    <tr style=\"text-align: right;\">\n",
       "      <th></th>\n",
       "      <th>publisher_id</th>\n",
       "      <th>publisher</th>\n",
       "      <th>cnt</th>\n",
       "    </tr>\n",
       "  </thead>\n",
       "  <tbody>\n",
       "    <tr>\n",
       "      <td>0</td>\n",
       "      <td>212</td>\n",
       "      <td>Penguin Books</td>\n",
       "      <td>42</td>\n",
       "    </tr>\n",
       "  </tbody>\n",
       "</table>\n",
       "</div>"
      ],
      "text/plain": [
       "   publisher_id      publisher  cnt\n",
       "0           212  Penguin Books   42"
      ]
     },
     "execution_count": 35,
     "metadata": {},
     "output_type": "execute_result"
    }
   ],
   "source": [
    "select(sql)"
   ]
  },
  {
   "cell_type": "markdown",
   "metadata": {},
   "source": [
    "Больше всего книг (42 штуки) объемом более 50 страниц выпустило издательство `Penguin Books\t`"
   ]
  },
  {
   "cell_type": "markdown",
   "metadata": {},
   "source": [
    "### Какой автор с самой высокой средней оценкой книг?"
   ]
  },
  {
   "cell_type": "markdown",
   "metadata": {},
   "source": [
    "Учитываются только книги с 50 и более оценками"
   ]
  },
  {
   "cell_type": "markdown",
   "metadata": {},
   "source": [
    "Вопрос поставлен таким образом, что его можно интерпретировать двумя ответами.  \n",
    "**Вариант 1:**\n",
    "   * находим все книги у которых есть больше 50 оценок\n",
    "   * по каждой книге находим среднее значение оценок\n",
    "   * из всех средних оценок находим максимальную\n",
    "   * находим автора книги с максимальной средней оценкой"
   ]
  },
  {
   "cell_type": "code",
   "execution_count": 68,
   "metadata": {},
   "outputs": [],
   "source": [
    "sql='''\n",
    "WITH TEMP AS\n",
    "  (SELECT *,\n",
    "          rank() OVER (\n",
    "                       ORDER BY t.avg_rating DESC) AS rank\n",
    "   FROM\n",
    "     (SELECT a.author_id,\n",
    "             a.author,\n",
    "             b.title,\n",
    "             avg(r.rating) AS avg_rating\n",
    "      FROM books b\n",
    "      LEFT JOIN authors a ON a.author_id = b.author_id\n",
    "      LEFT JOIN ratings r ON r.book_id = b.book_id\n",
    "      GROUP BY a.author_id,\n",
    "               a.author,\n",
    "               b.title\n",
    "      HAVING (count(r.rating_id) >= 50)) AS t)\n",
    "SELECT temp.author_id,\n",
    "       temp.author,\n",
    "       temp.title,\n",
    "       temp.avg_rating\n",
    "FROM TEMP\n",
    "WHERE temp.rank=1\n",
    "'''"
   ]
  },
  {
   "cell_type": "code",
   "execution_count": 69,
   "metadata": {},
   "outputs": [
    {
     "data": {
      "text/html": [
       "<div>\n",
       "<style scoped>\n",
       "    .dataframe tbody tr th:only-of-type {\n",
       "        vertical-align: middle;\n",
       "    }\n",
       "\n",
       "    .dataframe tbody tr th {\n",
       "        vertical-align: top;\n",
       "    }\n",
       "\n",
       "    .dataframe thead th {\n",
       "        text-align: right;\n",
       "    }\n",
       "</style>\n",
       "<table border=\"1\" class=\"dataframe\">\n",
       "  <thead>\n",
       "    <tr style=\"text-align: right;\">\n",
       "      <th></th>\n",
       "      <th>author_id</th>\n",
       "      <th>author</th>\n",
       "      <th>title</th>\n",
       "      <th>avg_rating</th>\n",
       "    </tr>\n",
       "  </thead>\n",
       "  <tbody>\n",
       "    <tr>\n",
       "      <td>0</td>\n",
       "      <td>236</td>\n",
       "      <td>J.K. Rowling/Mary GrandPré</td>\n",
       "      <td>Harry Potter and the Prisoner of Azkaban (Harr...</td>\n",
       "      <td>4.414634</td>\n",
       "    </tr>\n",
       "  </tbody>\n",
       "</table>\n",
       "</div>"
      ],
      "text/plain": [
       "   author_id                      author  \\\n",
       "0        236  J.K. Rowling/Mary GrandPré   \n",
       "\n",
       "                                               title  avg_rating  \n",
       "0  Harry Potter and the Prisoner of Azkaban (Harr...    4.414634  "
      ]
     },
     "execution_count": 69,
     "metadata": {},
     "output_type": "execute_result"
    }
   ],
   "source": [
    "select(sql)"
   ]
  },
  {
   "cell_type": "markdown",
   "metadata": {},
   "source": [
    "Книгой с самой высокой средней оценкой равной 4.4 является книга `Гарри Поттер и Узник Азкабана` автором которой является Joanne Rowling "
   ]
  },
  {
   "cell_type": "markdown",
   "metadata": {},
   "source": [
    "**Вариант 2:**\n",
    "   * находим все книги у которых есть больше 50 оценок\n",
    "   * по каждому автору находим средние значения оценок всех его книг из пункта выше\n",
    "   * находим автора с самой высокой средней оценкой его книг"
   ]
  },
  {
   "cell_type": "code",
   "execution_count": 119,
   "metadata": {},
   "outputs": [],
   "source": [
    "sql='''\n",
    "WITH TEMP AS\n",
    "  (SELECT *,\n",
    "          rank() OVER (\n",
    "                       ORDER BY t.avg_rating DESC) AS rank\n",
    "   FROM\n",
    "     (SELECT a.author_id,\n",
    "             a.author,\n",
    "             avg(r.rating) AS avg_rating\n",
    "      FROM books b\n",
    "      LEFT JOIN authors a ON a.author_id = b.author_id\n",
    "      LEFT JOIN ratings r ON r.book_id = b.book_id\n",
    "      GROUP BY a.author_id,\n",
    "               a.author\n",
    "      HAVING (count(r.rating_id) >= 50)) AS t)\n",
    "SELECT temp.author_id,\n",
    "       temp.author,\n",
    "       temp.avg_rating\n",
    "FROM TEMP\n",
    "WHERE temp.rank=1\n",
    "'''"
   ]
  },
  {
   "cell_type": "code",
   "execution_count": 120,
   "metadata": {},
   "outputs": [
    {
     "data": {
      "text/html": [
       "<div>\n",
       "<style scoped>\n",
       "    .dataframe tbody tr th:only-of-type {\n",
       "        vertical-align: middle;\n",
       "    }\n",
       "\n",
       "    .dataframe tbody tr th {\n",
       "        vertical-align: top;\n",
       "    }\n",
       "\n",
       "    .dataframe thead th {\n",
       "        text-align: right;\n",
       "    }\n",
       "</style>\n",
       "<table border=\"1\" class=\"dataframe\">\n",
       "  <thead>\n",
       "    <tr style=\"text-align: right;\">\n",
       "      <th></th>\n",
       "      <th>author_id</th>\n",
       "      <th>author</th>\n",
       "      <th>avg_rating</th>\n",
       "    </tr>\n",
       "  </thead>\n",
       "  <tbody>\n",
       "    <tr>\n",
       "      <td>0</td>\n",
       "      <td>130</td>\n",
       "      <td>Diana Gabaldon</td>\n",
       "      <td>4.3</td>\n",
       "    </tr>\n",
       "  </tbody>\n",
       "</table>\n",
       "</div>"
      ],
      "text/plain": [
       "   author_id          author  avg_rating\n",
       "0        130  Diana Gabaldon         4.3"
      ]
     },
     "execution_count": 120,
     "metadata": {},
     "output_type": "execute_result"
    }
   ],
   "source": [
    "select(sql)"
   ]
  },
  {
   "cell_type": "markdown",
   "metadata": {},
   "source": [
    "Автор, у которого средняя оценка всех его книг (которые имеют больше 50 оценок) максимальная и равная 4.3 является Diana Gabaldon"
   ]
  },
  {
   "cell_type": "markdown",
   "metadata": {},
   "source": [
    "*Мы спорили с мужем, он склоняется ко 2 варианту, я к 1-му*  \n",
    "Обоим вариантам имеет место быть, за подробностями необходимо обратиться к заказчику:)"
   ]
  },
  {
   "cell_type": "markdown",
   "metadata": {},
   "source": [
    "### Какое среднее количество обзоров от пользователей, которые поставили больше 50 оценок?"
   ]
  },
  {
   "cell_type": "code",
   "execution_count": 125,
   "metadata": {},
   "outputs": [],
   "source": [
    "sql='''\n",
    "WITH users_more_50 AS\n",
    "  (SELECT r.username\n",
    "   FROM ratings r\n",
    "   GROUP BY r.username\n",
    "   HAVING (count(r.rating_id) > 50))\n",
    "SELECT avg(t.cnt) AS avg_review\n",
    "FROM\n",
    "  (SELECT count(rev.review_id) AS cnt\n",
    "   FROM reviews rev\n",
    "   WHERE rev.username in\n",
    "       (SELECT *\n",
    "        FROM users_more_50)\n",
    "   GROUP BY rev.username) AS t\n",
    "'''"
   ]
  },
  {
   "cell_type": "code",
   "execution_count": 126,
   "metadata": {},
   "outputs": [
    {
     "data": {
      "text/html": [
       "<div>\n",
       "<style scoped>\n",
       "    .dataframe tbody tr th:only-of-type {\n",
       "        vertical-align: middle;\n",
       "    }\n",
       "\n",
       "    .dataframe tbody tr th {\n",
       "        vertical-align: top;\n",
       "    }\n",
       "\n",
       "    .dataframe thead th {\n",
       "        text-align: right;\n",
       "    }\n",
       "</style>\n",
       "<table border=\"1\" class=\"dataframe\">\n",
       "  <thead>\n",
       "    <tr style=\"text-align: right;\">\n",
       "      <th></th>\n",
       "      <th>avg_review</th>\n",
       "    </tr>\n",
       "  </thead>\n",
       "  <tbody>\n",
       "    <tr>\n",
       "      <td>0</td>\n",
       "      <td>24.333333</td>\n",
       "    </tr>\n",
       "  </tbody>\n",
       "</table>\n",
       "</div>"
      ],
      "text/plain": [
       "   avg_review\n",
       "0   24.333333"
      ]
     },
     "execution_count": 126,
     "metadata": {},
     "output_type": "execute_result"
    }
   ],
   "source": [
    "select(sql)"
   ]
  },
  {
   "cell_type": "markdown",
   "metadata": {},
   "source": [
    "В среднем, пользователь, поставивший больше 50-ти оценок составляет 24 обзора на книги"
   ]
  },
  {
   "cell_type": "markdown",
   "metadata": {},
   "source": [
    "## Вывод"
   ]
  },
  {
   "cell_type": "markdown",
   "metadata": {},
   "source": [
    "В ходе анализа базы данных, содержащей информацию о книгах (в том числе об авторах, издательствах, оценках и обзорах), были определены следующие факты:\n",
    "   * в базе данных хранится информация о 1000 книг\n",
    "   * 819 книг из 1000 были изданы в 21 веке (после 1 января 2000)\n",
    "   * максимальная оценка книги является 5, а минимальная (из имеющихся) 1.5\n",
    "   * 42 книги выпустило издательство `Penguin Books`, что является наибольшим значением среди всех издательств (брошюры не учитывались)\n",
    "   * автором с самыми высокими оценками (в разрезе книг автора или всех книг из БД) является `Diana Gabaldon`\n",
    "   * пользователи, оставляющие более 50 оценок к книгам, в среднем делают по 24 обзора"
   ]
  }
 ],
 "metadata": {
  "ExecuteTimeLog": [
   {
    "duration": 851,
    "start_time": "2021-07-09T04:08:05.276Z"
   },
   {
    "duration": 4,
    "start_time": "2021-07-09T04:08:06.130Z"
   },
   {
    "duration": 62,
    "start_time": "2021-07-09T04:08:06.138Z"
   },
   {
    "duration": 4,
    "start_time": "2021-07-09T04:08:06.204Z"
   },
   {
    "duration": 28,
    "start_time": "2021-07-09T04:08:06.211Z"
   },
   {
    "duration": 14,
    "start_time": "2021-07-09T04:08:06.242Z"
   },
   {
    "duration": 24,
    "start_time": "2021-07-09T04:08:06.259Z"
   },
   {
    "duration": 4,
    "start_time": "2021-07-09T04:08:06.286Z"
   },
   {
    "duration": 19,
    "start_time": "2021-07-09T04:08:06.296Z"
   },
   {
    "duration": 4,
    "start_time": "2021-07-09T04:08:06.319Z"
   },
   {
    "duration": 19,
    "start_time": "2021-07-09T04:08:06.357Z"
   },
   {
    "duration": 4,
    "start_time": "2021-07-09T04:08:06.379Z"
   },
   {
    "duration": 22,
    "start_time": "2021-07-09T04:08:06.386Z"
   },
   {
    "duration": 4,
    "start_time": "2021-07-09T04:08:06.414Z"
   },
   {
    "duration": 43,
    "start_time": "2021-07-09T04:08:06.421Z"
   },
   {
    "duration": 4,
    "start_time": "2021-07-09T04:08:06.467Z"
   },
   {
    "duration": 25,
    "start_time": "2021-07-09T04:08:06.474Z"
   },
   {
    "duration": 3,
    "start_time": "2021-07-09T04:08:06.501Z"
   },
   {
    "duration": 21,
    "start_time": "2021-07-09T04:08:06.506Z"
   },
   {
    "duration": 5,
    "start_time": "2021-07-09T04:08:06.530Z"
   },
   {
    "duration": 14,
    "start_time": "2021-07-09T04:08:06.556Z"
   },
   {
    "duration": 11,
    "start_time": "2021-07-09T04:08:06.572Z"
   },
   {
    "duration": 18,
    "start_time": "2021-07-09T04:08:06.586Z"
   },
   {
    "duration": 4,
    "start_time": "2021-07-09T04:08:06.606Z"
   },
   {
    "duration": 27,
    "start_time": "2021-07-09T04:08:06.612Z"
   },
   {
    "duration": 14,
    "start_time": "2021-07-09T04:08:06.642Z"
   },
   {
    "duration": 26,
    "start_time": "2021-07-09T04:08:06.662Z"
   },
   {
    "duration": 3,
    "start_time": "2021-07-09T04:08:06.691Z"
   },
   {
    "duration": 44,
    "start_time": "2021-07-09T04:08:06.696Z"
   },
   {
    "duration": 3,
    "start_time": "2021-07-09T04:08:06.742Z"
   },
   {
    "duration": 21,
    "start_time": "2021-07-09T04:08:06.748Z"
   },
   {
    "duration": 3,
    "start_time": "2021-07-09T04:08:06.771Z"
   },
   {
    "duration": 15,
    "start_time": "2021-07-09T04:08:06.776Z"
   },
   {
    "duration": 3,
    "start_time": "2021-07-09T04:08:06.794Z"
   },
   {
    "duration": 21,
    "start_time": "2021-07-09T04:08:06.800Z"
   },
   {
    "duration": 3,
    "start_time": "2021-07-09T04:08:06.823Z"
   },
   {
    "duration": 45,
    "start_time": "2021-07-09T04:08:06.829Z"
   },
   {
    "duration": 4,
    "start_time": "2021-07-09T04:08:06.878Z"
   },
   {
    "duration": 32,
    "start_time": "2021-07-09T04:08:06.885Z"
   },
   {
    "duration": 4,
    "start_time": "2021-07-09T04:08:06.920Z"
   },
   {
    "duration": 30,
    "start_time": "2021-07-09T04:08:06.927Z"
   },
   {
    "duration": 3,
    "start_time": "2021-07-09T04:11:15.645Z"
   },
   {
    "duration": 19,
    "start_time": "2021-07-09T04:11:15.939Z"
   },
   {
    "duration": 840,
    "start_time": "2021-07-09T04:13:14.141Z"
   },
   {
    "duration": 4,
    "start_time": "2021-07-09T04:13:14.984Z"
   },
   {
    "duration": 56,
    "start_time": "2021-07-09T04:13:14.992Z"
   },
   {
    "duration": 6,
    "start_time": "2021-07-09T04:13:15.050Z"
   },
   {
    "duration": 21,
    "start_time": "2021-07-09T04:13:15.058Z"
   },
   {
    "duration": 3,
    "start_time": "2021-07-09T04:13:15.081Z"
   },
   {
    "duration": 25,
    "start_time": "2021-07-09T04:13:15.086Z"
   },
   {
    "duration": 3,
    "start_time": "2021-07-09T04:13:15.114Z"
   },
   {
    "duration": 37,
    "start_time": "2021-07-09T04:13:15.120Z"
   },
   {
    "duration": 3,
    "start_time": "2021-07-09T04:13:15.159Z"
   },
   {
    "duration": 17,
    "start_time": "2021-07-09T04:13:15.164Z"
   },
   {
    "duration": 2,
    "start_time": "2021-07-09T04:13:15.184Z"
   },
   {
    "duration": 13,
    "start_time": "2021-07-09T04:13:15.189Z"
   },
   {
    "duration": 2,
    "start_time": "2021-07-09T04:13:15.205Z"
   },
   {
    "duration": 16,
    "start_time": "2021-07-09T04:13:15.209Z"
   },
   {
    "duration": 3,
    "start_time": "2021-07-09T04:13:15.256Z"
   },
   {
    "duration": 18,
    "start_time": "2021-07-09T04:13:15.261Z"
   },
   {
    "duration": 3,
    "start_time": "2021-07-09T04:13:15.281Z"
   },
   {
    "duration": 18,
    "start_time": "2021-07-09T04:13:15.286Z"
   },
   {
    "duration": 3,
    "start_time": "2021-07-09T04:13:15.307Z"
   },
   {
    "duration": 17,
    "start_time": "2021-07-09T04:13:15.312Z"
   },
   {
    "duration": 25,
    "start_time": "2021-07-09T04:13:15.331Z"
   },
   {
    "duration": 17,
    "start_time": "2021-07-09T04:13:15.361Z"
   },
   {
    "duration": 3,
    "start_time": "2021-07-09T04:13:15.380Z"
   },
   {
    "duration": 17,
    "start_time": "2021-07-09T04:13:15.385Z"
   },
   {
    "duration": 3,
    "start_time": "2021-07-09T04:13:15.405Z"
   },
   {
    "duration": 47,
    "start_time": "2021-07-09T04:13:15.410Z"
   },
   {
    "duration": 3,
    "start_time": "2021-07-09T04:13:15.459Z"
   },
   {
    "duration": 22,
    "start_time": "2021-07-09T04:13:15.464Z"
   },
   {
    "duration": 3,
    "start_time": "2021-07-09T04:13:15.488Z"
   },
   {
    "duration": 17,
    "start_time": "2021-07-09T04:13:15.493Z"
   },
   {
    "duration": 3,
    "start_time": "2021-07-09T04:13:15.512Z"
   },
   {
    "duration": 39,
    "start_time": "2021-07-09T04:13:15.518Z"
   },
   {
    "duration": 3,
    "start_time": "2021-07-09T04:13:15.559Z"
   },
   {
    "duration": 26,
    "start_time": "2021-07-09T04:13:15.564Z"
   },
   {
    "duration": 2,
    "start_time": "2021-07-09T04:13:15.593Z"
   },
   {
    "duration": 29,
    "start_time": "2021-07-09T04:13:15.598Z"
   },
   {
    "duration": 3,
    "start_time": "2021-07-09T04:13:15.629Z"
   },
   {
    "duration": 23,
    "start_time": "2021-07-09T04:13:15.634Z"
   },
   {
    "duration": 3,
    "start_time": "2021-07-09T04:13:15.659Z"
   },
   {
    "duration": 16,
    "start_time": "2021-07-09T04:13:15.665Z"
   },
   {
    "duration": 5,
    "start_time": "2021-07-09T06:08:25.897Z"
   },
   {
    "duration": 317,
    "start_time": "2021-07-09T06:08:30.123Z"
   },
   {
    "duration": 851,
    "start_time": "2021-07-09T06:08:36.695Z"
   },
   {
    "duration": 3,
    "start_time": "2021-07-09T06:08:37.549Z"
   },
   {
    "duration": 58,
    "start_time": "2021-07-09T06:08:37.555Z"
   },
   {
    "duration": 3,
    "start_time": "2021-07-09T06:08:37.616Z"
   },
   {
    "duration": 23,
    "start_time": "2021-07-09T06:08:37.621Z"
   },
   {
    "duration": 4,
    "start_time": "2021-07-09T06:08:37.646Z"
   },
   {
    "duration": 21,
    "start_time": "2021-07-09T06:08:37.652Z"
   },
   {
    "duration": 25,
    "start_time": "2021-07-09T06:08:37.676Z"
   },
   {
    "duration": 15,
    "start_time": "2021-07-09T06:08:37.705Z"
   },
   {
    "duration": 3,
    "start_time": "2021-07-09T06:08:37.723Z"
   },
   {
    "duration": 19,
    "start_time": "2021-07-09T06:08:37.728Z"
   },
   {
    "duration": 4,
    "start_time": "2021-07-09T06:08:37.749Z"
   },
   {
    "duration": 22,
    "start_time": "2021-07-09T06:08:37.755Z"
   },
   {
    "duration": 4,
    "start_time": "2021-07-09T06:08:37.800Z"
   },
   {
    "duration": 21,
    "start_time": "2021-07-09T06:08:37.806Z"
   },
   {
    "duration": 3,
    "start_time": "2021-07-09T06:08:37.829Z"
   },
   {
    "duration": 17,
    "start_time": "2021-07-09T06:08:37.835Z"
   },
   {
    "duration": 3,
    "start_time": "2021-07-09T06:08:37.854Z"
   },
   {
    "duration": 47,
    "start_time": "2021-07-09T06:08:37.859Z"
   },
   {
    "duration": 3,
    "start_time": "2021-07-09T06:08:37.908Z"
   },
   {
    "duration": 18,
    "start_time": "2021-07-09T06:08:37.914Z"
   },
   {
    "duration": 3,
    "start_time": "2021-07-09T06:08:37.935Z"
   },
   {
    "duration": 26,
    "start_time": "2021-07-09T06:08:37.940Z"
   },
   {
    "duration": 3,
    "start_time": "2021-07-09T06:08:37.968Z"
   },
   {
    "duration": 35,
    "start_time": "2021-07-09T06:08:37.973Z"
   },
   {
    "duration": 4,
    "start_time": "2021-07-09T06:08:38.011Z"
   },
   {
    "duration": 14,
    "start_time": "2021-07-09T06:08:38.022Z"
   },
   {
    "duration": 4,
    "start_time": "2021-07-09T06:08:38.039Z"
   },
   {
    "duration": 678,
    "start_time": "2021-07-09T06:08:38.046Z"
   },
   {
    "duration": -1641,
    "start_time": "2021-07-09T06:08:40.368Z"
   },
   {
    "duration": -1644,
    "start_time": "2021-07-09T06:08:40.372Z"
   },
   {
    "duration": -1657,
    "start_time": "2021-07-09T06:08:40.387Z"
   },
   {
    "duration": -1659,
    "start_time": "2021-07-09T06:08:40.390Z"
   },
   {
    "duration": -1658,
    "start_time": "2021-07-09T06:08:40.391Z"
   },
   {
    "duration": -1658,
    "start_time": "2021-07-09T06:08:40.392Z"
   },
   {
    "duration": -1658,
    "start_time": "2021-07-09T06:08:40.394Z"
   },
   {
    "duration": -1658,
    "start_time": "2021-07-09T06:08:40.395Z"
   },
   {
    "duration": -1666,
    "start_time": "2021-07-09T06:08:40.404Z"
   },
   {
    "duration": -1669,
    "start_time": "2021-07-09T06:08:40.409Z"
   },
   {
    "duration": -1670,
    "start_time": "2021-07-09T06:08:40.411Z"
   },
   {
    "duration": -1671,
    "start_time": "2021-07-09T06:08:40.414Z"
   },
   {
    "duration": 844,
    "start_time": "2021-07-09T06:09:14.105Z"
   },
   {
    "duration": 4,
    "start_time": "2021-07-09T06:09:14.952Z"
   },
   {
    "duration": 53,
    "start_time": "2021-07-09T06:09:14.960Z"
   },
   {
    "duration": 4,
    "start_time": "2021-07-09T06:09:15.015Z"
   },
   {
    "duration": 32,
    "start_time": "2021-07-09T06:09:15.021Z"
   },
   {
    "duration": 3,
    "start_time": "2021-07-09T06:09:15.056Z"
   },
   {
    "duration": 21,
    "start_time": "2021-07-09T06:09:15.062Z"
   },
   {
    "duration": 3,
    "start_time": "2021-07-09T06:09:15.103Z"
   },
   {
    "duration": 18,
    "start_time": "2021-07-09T06:09:15.109Z"
   },
   {
    "duration": 3,
    "start_time": "2021-07-09T06:09:15.130Z"
   },
   {
    "duration": 21,
    "start_time": "2021-07-09T06:09:15.136Z"
   },
   {
    "duration": 3,
    "start_time": "2021-07-09T06:09:15.160Z"
   },
   {
    "duration": 44,
    "start_time": "2021-07-09T06:09:15.165Z"
   },
   {
    "duration": 3,
    "start_time": "2021-07-09T06:09:15.211Z"
   },
   {
    "duration": 19,
    "start_time": "2021-07-09T06:09:15.217Z"
   },
   {
    "duration": 4,
    "start_time": "2021-07-09T06:09:15.239Z"
   },
   {
    "duration": 18,
    "start_time": "2021-07-09T06:09:15.246Z"
   },
   {
    "duration": 3,
    "start_time": "2021-07-09T06:09:15.266Z"
   },
   {
    "duration": 44,
    "start_time": "2021-07-09T06:09:15.271Z"
   },
   {
    "duration": 4,
    "start_time": "2021-07-09T06:09:15.317Z"
   },
   {
    "duration": 17,
    "start_time": "2021-07-09T06:09:15.323Z"
   },
   {
    "duration": 3,
    "start_time": "2021-07-09T06:09:15.342Z"
   },
   {
    "duration": 51,
    "start_time": "2021-07-09T06:09:15.351Z"
   },
   {
    "duration": 4,
    "start_time": "2021-07-09T06:09:15.405Z"
   },
   {
    "duration": 23,
    "start_time": "2021-07-09T06:09:15.411Z"
   },
   {
    "duration": 3,
    "start_time": "2021-07-09T06:09:15.437Z"
   },
   {
    "duration": 16,
    "start_time": "2021-07-09T06:09:15.442Z"
   },
   {
    "duration": 3,
    "start_time": "2021-07-09T06:09:15.461Z"
   },
   {
    "duration": 54,
    "start_time": "2021-07-09T06:09:15.466Z"
   },
   {
    "duration": 3,
    "start_time": "2021-07-09T06:09:15.523Z"
   },
   {
    "duration": 25,
    "start_time": "2021-07-09T06:09:15.528Z"
   },
   {
    "duration": 3,
    "start_time": "2021-07-09T06:09:15.556Z"
   },
   {
    "duration": 25,
    "start_time": "2021-07-09T06:09:15.562Z"
   },
   {
    "duration": 4,
    "start_time": "2021-07-09T06:09:15.590Z"
   },
   {
    "duration": 17,
    "start_time": "2021-07-09T06:09:15.600Z"
   },
   {
    "duration": 5,
    "start_time": "2021-07-09T06:09:15.619Z"
   },
   {
    "duration": 32,
    "start_time": "2021-07-09T06:09:15.627Z"
   },
   {
    "duration": 4,
    "start_time": "2021-07-09T06:09:15.661Z"
   },
   {
    "duration": 39,
    "start_time": "2021-07-09T06:09:15.667Z"
   },
   {
    "duration": 4,
    "start_time": "2021-07-09T06:09:15.708Z"
   },
   {
    "duration": 19,
    "start_time": "2021-07-09T06:09:15.714Z"
   },
   {
    "duration": 3,
    "start_time": "2021-07-09T06:09:35.041Z"
   },
   {
    "duration": 15,
    "start_time": "2021-07-09T06:09:35.554Z"
   },
   {
    "duration": 4,
    "start_time": "2021-07-09T06:09:40.605Z"
   },
   {
    "duration": 4,
    "start_time": "2021-07-09T06:09:56.076Z"
   },
   {
    "duration": 16,
    "start_time": "2021-07-09T06:10:00.972Z"
   },
   {
    "duration": 3,
    "start_time": "2021-07-09T06:10:05.660Z"
   },
   {
    "duration": 4,
    "start_time": "2021-07-09T06:10:17.699Z"
   },
   {
    "duration": 14,
    "start_time": "2021-07-09T06:10:18.962Z"
   },
   {
    "duration": 911,
    "start_time": "2021-07-09T06:26:30.857Z"
   },
   {
    "duration": 3,
    "start_time": "2021-07-09T06:26:31.771Z"
   },
   {
    "duration": 77,
    "start_time": "2021-07-09T06:26:31.777Z"
   },
   {
    "duration": 3,
    "start_time": "2021-07-09T06:26:31.857Z"
   },
   {
    "duration": 57,
    "start_time": "2021-07-09T06:26:31.862Z"
   },
   {
    "duration": 5,
    "start_time": "2021-07-09T06:26:31.922Z"
   },
   {
    "duration": 29,
    "start_time": "2021-07-09T06:26:31.930Z"
   },
   {
    "duration": 4,
    "start_time": "2021-07-09T06:26:31.961Z"
   },
   {
    "duration": 21,
    "start_time": "2021-07-09T06:26:31.969Z"
   },
   {
    "duration": 3,
    "start_time": "2021-07-09T06:26:32.001Z"
   },
   {
    "duration": 29,
    "start_time": "2021-07-09T06:26:32.007Z"
   },
   {
    "duration": 7,
    "start_time": "2021-07-09T06:26:32.038Z"
   },
   {
    "duration": 23,
    "start_time": "2021-07-09T06:26:32.047Z"
   },
   {
    "duration": 5,
    "start_time": "2021-07-09T06:26:32.073Z"
   },
   {
    "duration": 38,
    "start_time": "2021-07-09T06:26:32.080Z"
   },
   {
    "duration": 3,
    "start_time": "2021-07-09T06:26:32.120Z"
   },
   {
    "duration": 31,
    "start_time": "2021-07-09T06:26:32.125Z"
   },
   {
    "duration": 19,
    "start_time": "2021-07-09T06:26:32.158Z"
   },
   {
    "duration": 46,
    "start_time": "2021-07-09T06:26:32.180Z"
   },
   {
    "duration": 4,
    "start_time": "2021-07-09T06:26:32.229Z"
   },
   {
    "duration": 35,
    "start_time": "2021-07-09T06:26:32.236Z"
   },
   {
    "duration": 14,
    "start_time": "2021-07-09T06:26:32.273Z"
   },
   {
    "duration": 53,
    "start_time": "2021-07-09T06:26:32.290Z"
   },
   {
    "duration": 13,
    "start_time": "2021-07-09T06:26:32.345Z"
   },
   {
    "duration": 35,
    "start_time": "2021-07-09T06:26:32.361Z"
   },
   {
    "duration": 22,
    "start_time": "2021-07-09T06:26:32.399Z"
   },
   {
    "duration": 34,
    "start_time": "2021-07-09T06:26:32.426Z"
   },
   {
    "duration": 6,
    "start_time": "2021-07-09T06:26:32.463Z"
   },
   {
    "duration": 53,
    "start_time": "2021-07-09T06:26:32.471Z"
   },
   {
    "duration": 19,
    "start_time": "2021-07-09T06:26:32.526Z"
   },
   {
    "duration": 27,
    "start_time": "2021-07-09T06:26:32.547Z"
   },
   {
    "duration": 6,
    "start_time": "2021-07-09T06:26:32.576Z"
   },
   {
    "duration": 42,
    "start_time": "2021-07-09T06:26:32.584Z"
   },
   {
    "duration": 4,
    "start_time": "2021-07-09T06:26:32.628Z"
   },
   {
    "duration": 38,
    "start_time": "2021-07-09T06:26:32.634Z"
   },
   {
    "duration": 5,
    "start_time": "2021-07-09T06:26:32.674Z"
   },
   {
    "duration": 39,
    "start_time": "2021-07-09T06:26:32.681Z"
   },
   {
    "duration": 4,
    "start_time": "2021-07-09T06:26:32.723Z"
   },
   {
    "duration": 32,
    "start_time": "2021-07-09T06:26:32.730Z"
   },
   {
    "duration": 7,
    "start_time": "2021-07-09T06:26:32.765Z"
   },
   {
    "duration": 34,
    "start_time": "2021-07-09T06:26:32.774Z"
   },
   {
    "duration": 897,
    "start_time": "2021-07-11T22:19:58.605Z"
   },
   {
    "duration": 4,
    "start_time": "2021-07-11T22:19:59.505Z"
   },
   {
    "duration": 67,
    "start_time": "2021-07-11T22:19:59.512Z"
   },
   {
    "duration": 4,
    "start_time": "2021-07-11T22:19:59.581Z"
   },
   {
    "duration": 26,
    "start_time": "2021-07-11T22:19:59.587Z"
   },
   {
    "duration": 3,
    "start_time": "2021-07-11T22:19:59.616Z"
   },
   {
    "duration": 29,
    "start_time": "2021-07-11T22:19:59.621Z"
   },
   {
    "duration": 3,
    "start_time": "2021-07-11T22:19:59.652Z"
   },
   {
    "duration": 31,
    "start_time": "2021-07-11T22:19:59.660Z"
   },
   {
    "duration": 4,
    "start_time": "2021-07-11T22:19:59.694Z"
   },
   {
    "duration": 21,
    "start_time": "2021-07-11T22:19:59.701Z"
   },
   {
    "duration": 3,
    "start_time": "2021-07-11T22:19:59.725Z"
   },
   {
    "duration": 23,
    "start_time": "2021-07-11T22:19:59.731Z"
   },
   {
    "duration": 3,
    "start_time": "2021-07-11T22:19:59.756Z"
   },
   {
    "duration": 14,
    "start_time": "2021-07-11T22:19:59.786Z"
   },
   {
    "duration": 3,
    "start_time": "2021-07-11T22:19:59.803Z"
   },
   {
    "duration": 21,
    "start_time": "2021-07-11T22:19:59.808Z"
   },
   {
    "duration": 3,
    "start_time": "2021-07-11T22:19:59.831Z"
   },
   {
    "duration": 27,
    "start_time": "2021-07-11T22:19:59.837Z"
   },
   {
    "duration": 3,
    "start_time": "2021-07-11T22:19:59.886Z"
   },
   {
    "duration": 19,
    "start_time": "2021-07-11T22:19:59.892Z"
   },
   {
    "duration": 4,
    "start_time": "2021-07-11T22:19:59.914Z"
   },
   {
    "duration": 24,
    "start_time": "2021-07-11T22:19:59.920Z"
   },
   {
    "duration": 3,
    "start_time": "2021-07-11T22:19:59.947Z"
   },
   {
    "duration": 46,
    "start_time": "2021-07-11T22:19:59.952Z"
   },
   {
    "duration": 3,
    "start_time": "2021-07-11T22:20:00.000Z"
   },
   {
    "duration": 23,
    "start_time": "2021-07-11T22:20:00.008Z"
   },
   {
    "duration": 10,
    "start_time": "2021-07-11T22:20:00.034Z"
   },
   {
    "duration": 40,
    "start_time": "2021-07-11T22:20:00.047Z"
   },
   {
    "duration": 4,
    "start_time": "2021-07-11T22:20:00.089Z"
   },
   {
    "duration": 24,
    "start_time": "2021-07-11T22:20:00.095Z"
   },
   {
    "duration": 3,
    "start_time": "2021-07-11T22:20:00.121Z"
   },
   {
    "duration": 27,
    "start_time": "2021-07-11T22:20:00.127Z"
   },
   {
    "duration": 4,
    "start_time": "2021-07-11T22:20:00.157Z"
   },
   {
    "duration": 36,
    "start_time": "2021-07-11T22:20:00.164Z"
   },
   {
    "duration": 4,
    "start_time": "2021-07-11T22:20:00.203Z"
   },
   {
    "duration": 45,
    "start_time": "2021-07-11T22:20:00.210Z"
   },
   {
    "duration": 4,
    "start_time": "2021-07-11T22:20:00.257Z"
   },
   {
    "duration": 37,
    "start_time": "2021-07-11T22:20:00.263Z"
   },
   {
    "duration": 6,
    "start_time": "2021-07-11T22:20:00.302Z"
   },
   {
    "duration": 38,
    "start_time": "2021-07-11T22:20:00.311Z"
   },
   {
    "duration": 3,
    "start_time": "2021-07-11T22:26:41.687Z"
   },
   {
    "duration": 14,
    "start_time": "2021-07-11T22:26:42.059Z"
   },
   {
    "duration": 5,
    "start_time": "2021-07-11T22:27:03.099Z"
   },
   {
    "duration": 22,
    "start_time": "2021-07-11T22:27:03.654Z"
   },
   {
    "duration": 4,
    "start_time": "2021-07-11T22:28:14.348Z"
   },
   {
    "duration": 21,
    "start_time": "2021-07-11T22:28:14.679Z"
   },
   {
    "duration": 4,
    "start_time": "2021-07-11T22:28:33.518Z"
   },
   {
    "duration": 22,
    "start_time": "2021-07-11T22:28:33.601Z"
   },
   {
    "duration": 4,
    "start_time": "2021-07-11T22:29:39.495Z"
   },
   {
    "duration": 26,
    "start_time": "2021-07-11T22:29:40.098Z"
   },
   {
    "duration": 4,
    "start_time": "2021-07-11T22:29:43.716Z"
   },
   {
    "duration": 19,
    "start_time": "2021-07-11T22:29:45.083Z"
   },
   {
    "duration": 3,
    "start_time": "2021-07-11T22:35:20.845Z"
   },
   {
    "duration": 29,
    "start_time": "2021-07-11T22:35:25.401Z"
   },
   {
    "duration": 4,
    "start_time": "2021-07-11T22:35:52.591Z"
   },
   {
    "duration": 25,
    "start_time": "2021-07-11T22:35:53.472Z"
   },
   {
    "duration": 4,
    "start_time": "2021-07-11T22:36:21.576Z"
   },
   {
    "duration": 24,
    "start_time": "2021-07-11T22:36:22.423Z"
   },
   {
    "duration": 4,
    "start_time": "2021-07-11T22:36:40.806Z"
   },
   {
    "duration": 23,
    "start_time": "2021-07-11T22:36:41.231Z"
   },
   {
    "duration": 3,
    "start_time": "2021-07-11T22:36:49.593Z"
   },
   {
    "duration": 14,
    "start_time": "2021-07-11T22:36:50.217Z"
   },
   {
    "duration": 3,
    "start_time": "2021-07-11T22:36:53.708Z"
   },
   {
    "duration": 13,
    "start_time": "2021-07-11T22:36:54.116Z"
   },
   {
    "duration": 3,
    "start_time": "2021-07-11T22:37:16.656Z"
   },
   {
    "duration": 13,
    "start_time": "2021-07-11T22:37:16.923Z"
   },
   {
    "duration": 3,
    "start_time": "2021-07-11T22:37:23.300Z"
   },
   {
    "duration": 12,
    "start_time": "2021-07-11T22:37:23.673Z"
   },
   {
    "duration": 930,
    "start_time": "2021-07-11T22:40:01.466Z"
   },
   {
    "duration": 4,
    "start_time": "2021-07-11T22:40:02.398Z"
   },
   {
    "duration": 77,
    "start_time": "2021-07-11T22:40:02.405Z"
   },
   {
    "duration": 3,
    "start_time": "2021-07-11T22:40:02.485Z"
   },
   {
    "duration": 43,
    "start_time": "2021-07-11T22:40:02.491Z"
   },
   {
    "duration": 26,
    "start_time": "2021-07-11T22:40:02.537Z"
   },
   {
    "duration": 48,
    "start_time": "2021-07-11T22:40:02.565Z"
   },
   {
    "duration": 17,
    "start_time": "2021-07-11T22:40:02.615Z"
   },
   {
    "duration": 40,
    "start_time": "2021-07-11T22:40:02.636Z"
   },
   {
    "duration": 36,
    "start_time": "2021-07-11T22:40:02.679Z"
   },
   {
    "duration": 40,
    "start_time": "2021-07-11T22:40:02.717Z"
   },
   {
    "duration": 3,
    "start_time": "2021-07-11T22:40:02.759Z"
   },
   {
    "duration": 33,
    "start_time": "2021-07-11T22:40:02.765Z"
   },
   {
    "duration": 12,
    "start_time": "2021-07-11T22:40:02.800Z"
   },
   {
    "duration": 30,
    "start_time": "2021-07-11T22:40:02.814Z"
   },
   {
    "duration": 7,
    "start_time": "2021-07-11T22:40:02.846Z"
   },
   {
    "duration": 27,
    "start_time": "2021-07-11T22:40:02.856Z"
   },
   {
    "duration": 10,
    "start_time": "2021-07-11T22:40:02.885Z"
   },
   {
    "duration": 36,
    "start_time": "2021-07-11T22:40:02.897Z"
   },
   {
    "duration": 12,
    "start_time": "2021-07-11T22:40:02.935Z"
   },
   {
    "duration": 30,
    "start_time": "2021-07-11T22:40:02.949Z"
   },
   {
    "duration": 20,
    "start_time": "2021-07-11T22:40:02.981Z"
   },
   {
    "duration": 44,
    "start_time": "2021-07-11T22:40:03.003Z"
   },
   {
    "duration": 4,
    "start_time": "2021-07-11T22:40:03.049Z"
   },
   {
    "duration": 24,
    "start_time": "2021-07-11T22:40:03.055Z"
   },
   {
    "duration": 3,
    "start_time": "2021-07-11T22:40:03.082Z"
   },
   {
    "duration": 34,
    "start_time": "2021-07-11T22:40:03.089Z"
   },
   {
    "duration": 3,
    "start_time": "2021-07-11T22:40:03.126Z"
   },
   {
    "duration": 44,
    "start_time": "2021-07-11T22:40:03.131Z"
   },
   {
    "duration": 4,
    "start_time": "2021-07-11T22:40:03.177Z"
   },
   {
    "duration": 22,
    "start_time": "2021-07-11T22:40:03.183Z"
   },
   {
    "duration": 3,
    "start_time": "2021-07-11T22:40:03.208Z"
   },
   {
    "duration": 25,
    "start_time": "2021-07-11T22:40:03.213Z"
   },
   {
    "duration": 11,
    "start_time": "2021-07-11T22:40:03.240Z"
   },
   {
    "duration": 33,
    "start_time": "2021-07-11T22:40:03.253Z"
   },
   {
    "duration": 5,
    "start_time": "2021-07-11T22:40:03.289Z"
   },
   {
    "duration": 44,
    "start_time": "2021-07-11T22:40:03.296Z"
   },
   {
    "duration": 4,
    "start_time": "2021-07-11T22:40:03.344Z"
   },
   {
    "duration": 46,
    "start_time": "2021-07-11T22:40:03.350Z"
   },
   {
    "duration": 4,
    "start_time": "2021-07-11T22:40:03.398Z"
   },
   {
    "duration": 38,
    "start_time": "2021-07-11T22:40:03.405Z"
   },
   {
    "duration": 5,
    "start_time": "2021-07-12T04:33:20.081Z"
   },
   {
    "duration": 480,
    "start_time": "2021-07-12T04:33:20.526Z"
   },
   {
    "duration": 876,
    "start_time": "2021-07-12T04:33:25.096Z"
   },
   {
    "duration": 4,
    "start_time": "2021-07-12T04:33:25.975Z"
   },
   {
    "duration": 214,
    "start_time": "2021-07-12T04:33:25.982Z"
   },
   {
    "duration": 3,
    "start_time": "2021-07-12T04:33:26.199Z"
   },
   {
    "duration": 66,
    "start_time": "2021-07-12T04:33:26.204Z"
   },
   {
    "duration": 3,
    "start_time": "2021-07-12T04:33:26.273Z"
   },
   {
    "duration": 76,
    "start_time": "2021-07-12T04:33:26.279Z"
   },
   {
    "duration": 4,
    "start_time": "2021-07-12T04:33:26.358Z"
   },
   {
    "duration": 60,
    "start_time": "2021-07-12T04:33:26.365Z"
   },
   {
    "duration": 4,
    "start_time": "2021-07-12T04:33:26.428Z"
   },
   {
    "duration": 61,
    "start_time": "2021-07-12T04:33:26.435Z"
   },
   {
    "duration": 3,
    "start_time": "2021-07-12T04:33:26.499Z"
   },
   {
    "duration": 60,
    "start_time": "2021-07-12T04:33:26.504Z"
   },
   {
    "duration": 3,
    "start_time": "2021-07-12T04:33:26.566Z"
   },
   {
    "duration": 62,
    "start_time": "2021-07-12T04:33:26.571Z"
   },
   {
    "duration": 4,
    "start_time": "2021-07-12T04:33:26.635Z"
   },
   {
    "duration": 63,
    "start_time": "2021-07-12T04:33:26.641Z"
   },
   {
    "duration": 3,
    "start_time": "2021-07-12T04:33:26.706Z"
   },
   {
    "duration": 62,
    "start_time": "2021-07-12T04:33:26.711Z"
   },
   {
    "duration": 3,
    "start_time": "2021-07-12T04:33:26.775Z"
   },
   {
    "duration": 62,
    "start_time": "2021-07-12T04:33:26.780Z"
   },
   {
    "duration": 3,
    "start_time": "2021-07-12T04:33:26.844Z"
   },
   {
    "duration": 61,
    "start_time": "2021-07-12T04:33:26.851Z"
   },
   {
    "duration": 4,
    "start_time": "2021-07-12T04:33:26.914Z"
   },
   {
    "duration": 65,
    "start_time": "2021-07-12T04:33:26.920Z"
   },
   {
    "duration": 3,
    "start_time": "2021-07-12T04:33:26.987Z"
   },
   {
    "duration": 60,
    "start_time": "2021-07-12T04:33:26.992Z"
   },
   {
    "duration": 3,
    "start_time": "2021-07-12T04:33:27.055Z"
   },
   {
    "duration": 70,
    "start_time": "2021-07-12T04:33:27.061Z"
   },
   {
    "duration": 3,
    "start_time": "2021-07-12T04:33:27.133Z"
   },
   {
    "duration": 64,
    "start_time": "2021-07-12T04:33:27.138Z"
   },
   {
    "duration": 3,
    "start_time": "2021-07-12T04:33:27.205Z"
   },
   {
    "duration": 59,
    "start_time": "2021-07-12T04:33:27.210Z"
   },
   {
    "duration": 3,
    "start_time": "2021-07-12T04:33:27.271Z"
   },
   {
    "duration": 63,
    "start_time": "2021-07-12T04:33:27.276Z"
   },
   {
    "duration": 3,
    "start_time": "2021-07-12T04:33:27.341Z"
   },
   {
    "duration": 75,
    "start_time": "2021-07-12T04:33:27.347Z"
   },
   {
    "duration": 3,
    "start_time": "2021-07-12T04:33:27.425Z"
   },
   {
    "duration": 919,
    "start_time": "2021-07-12T04:33:27.430Z"
   },
   {
    "duration": 2867,
    "start_time": "2021-07-12T04:33:25.484Z"
   },
   {
    "duration": 2866,
    "start_time": "2021-07-12T04:33:25.487Z"
   },
   {
    "duration": 3,
    "start_time": "2021-07-12T04:33:47.800Z"
   },
   {
    "duration": 62,
    "start_time": "2021-07-12T04:33:48.343Z"
   },
   {
    "duration": 4,
    "start_time": "2021-07-12T04:33:54.701Z"
   },
   {
    "duration": 64,
    "start_time": "2021-07-12T04:33:56.045Z"
   },
   {
    "duration": 4,
    "start_time": "2021-07-12T04:33:59.222Z"
   },
   {
    "duration": 60,
    "start_time": "2021-07-12T04:33:59.734Z"
   },
   {
    "duration": 4,
    "start_time": "2021-07-12T04:34:01.845Z"
   },
   {
    "duration": 67,
    "start_time": "2021-07-12T04:34:02.213Z"
   },
   {
    "duration": 3,
    "start_time": "2021-07-12T04:34:05.566Z"
   },
   {
    "duration": 64,
    "start_time": "2021-07-12T04:34:05.886Z"
   },
   {
    "duration": 4,
    "start_time": "2021-07-12T04:34:31.502Z"
   },
   {
    "duration": 66,
    "start_time": "2021-07-12T04:34:32.006Z"
   },
   {
    "duration": 63,
    "start_time": "2021-07-12T04:35:37.183Z"
   },
   {
    "duration": 62,
    "start_time": "2021-07-12T04:35:41.278Z"
   },
   {
    "duration": 4,
    "start_time": "2021-07-12T04:37:18.758Z"
   },
   {
    "duration": 61,
    "start_time": "2021-07-12T04:37:19.103Z"
   },
   {
    "duration": 3,
    "start_time": "2021-07-12T04:39:04.713Z"
   },
   {
    "duration": 63,
    "start_time": "2021-07-12T04:39:05.752Z"
   },
   {
    "duration": 3,
    "start_time": "2021-07-12T04:39:11.903Z"
   },
   {
    "duration": 63,
    "start_time": "2021-07-12T04:39:12.702Z"
   },
   {
    "duration": 3,
    "start_time": "2021-07-12T04:40:15.543Z"
   },
   {
    "duration": 744,
    "start_time": "2021-07-12T04:40:16.072Z"
   },
   {
    "duration": 4,
    "start_time": "2021-07-12T04:40:22.151Z"
   },
   {
    "duration": 746,
    "start_time": "2021-07-12T04:40:22.552Z"
   },
   {
    "duration": 3,
    "start_time": "2021-07-12T04:40:38.409Z"
   },
   {
    "duration": 4361,
    "start_time": "2021-07-12T04:40:39.041Z"
   },
   {
    "duration": 3,
    "start_time": "2021-07-12T04:40:47.327Z"
   },
   {
    "duration": 717,
    "start_time": "2021-07-12T04:40:47.890Z"
   },
   {
    "duration": 4,
    "start_time": "2021-07-12T04:40:57.936Z"
   },
   {
    "duration": 64,
    "start_time": "2021-07-12T04:40:58.129Z"
   },
   {
    "duration": 4,
    "start_time": "2021-07-12T04:42:20.032Z"
   },
   {
    "duration": 64,
    "start_time": "2021-07-12T04:42:20.919Z"
   },
   {
    "duration": 3,
    "start_time": "2021-07-12T04:42:25.847Z"
   },
   {
    "duration": 1242,
    "start_time": "2021-07-12T04:42:26.479Z"
   },
   {
    "duration": 3,
    "start_time": "2021-07-12T04:42:39.215Z"
   },
   {
    "duration": 66,
    "start_time": "2021-07-12T04:42:40.009Z"
   },
   {
    "duration": 64,
    "start_time": "2021-07-12T04:43:45.296Z"
   },
   {
    "duration": 62,
    "start_time": "2021-07-12T04:43:53.736Z"
   },
   {
    "duration": 448,
    "start_time": "2021-07-12T04:44:02.049Z"
   },
   {
    "duration": 4,
    "start_time": "2021-07-12T04:44:47.049Z"
   },
   {
    "duration": 64,
    "start_time": "2021-07-12T04:44:53.359Z"
   },
   {
    "duration": 62,
    "start_time": "2021-07-12T04:44:57.167Z"
   },
   {
    "duration": 733,
    "start_time": "2021-07-12T04:45:04.673Z"
   },
   {
    "duration": 794,
    "start_time": "2021-07-12T04:45:08.610Z"
   },
   {
    "duration": 65,
    "start_time": "2021-07-12T04:45:18.729Z"
   },
   {
    "duration": 756,
    "start_time": "2021-07-12T04:45:21.633Z"
   },
   {
    "duration": 3,
    "start_time": "2021-07-12T04:45:33.105Z"
   },
   {
    "duration": 732,
    "start_time": "2021-07-12T04:45:34.095Z"
   },
   {
    "duration": 4,
    "start_time": "2021-07-12T04:46:02.272Z"
   },
   {
    "duration": 62,
    "start_time": "2021-07-12T04:46:02.735Z"
   },
   {
    "duration": 5,
    "start_time": "2021-07-12T04:46:45.791Z"
   },
   {
    "duration": 1335,
    "start_time": "2021-07-12T04:46:46.455Z"
   },
   {
    "duration": 5,
    "start_time": "2021-07-12T04:46:52.849Z"
   },
   {
    "duration": 3,
    "start_time": "2021-07-12T04:46:55.657Z"
   },
   {
    "duration": 1180,
    "start_time": "2021-07-12T04:46:56.160Z"
   },
   {
    "duration": 5,
    "start_time": "2021-07-12T04:47:22.696Z"
   },
   {
    "duration": 1417,
    "start_time": "2021-07-12T04:47:23.464Z"
   },
   {
    "duration": 4,
    "start_time": "2021-07-12T04:47:34.206Z"
   },
   {
    "duration": 61,
    "start_time": "2021-07-12T04:47:35.177Z"
   },
   {
    "duration": 4,
    "start_time": "2021-07-12T04:49:12.608Z"
   },
   {
    "duration": 62,
    "start_time": "2021-07-12T04:49:13.931Z"
   },
   {
    "duration": 3,
    "start_time": "2021-07-12T04:49:29.840Z"
   },
   {
    "duration": 64,
    "start_time": "2021-07-12T04:49:30.647Z"
   },
   {
    "duration": 5,
    "start_time": "2021-07-12T04:49:38.287Z"
   },
   {
    "duration": 64,
    "start_time": "2021-07-12T04:49:39.033Z"
   },
   {
    "duration": 4,
    "start_time": "2021-07-12T04:50:24.247Z"
   },
   {
    "duration": 777,
    "start_time": "2021-07-12T04:50:24.848Z"
   },
   {
    "duration": 4,
    "start_time": "2021-07-12T04:50:35.363Z"
   },
   {
    "duration": 1273,
    "start_time": "2021-07-12T04:50:36.299Z"
   },
   {
    "duration": 3,
    "start_time": "2021-07-12T04:50:47.680Z"
   },
   {
    "duration": 62,
    "start_time": "2021-07-12T04:50:47.936Z"
   },
   {
    "duration": 3,
    "start_time": "2021-07-12T04:52:33.888Z"
   },
   {
    "duration": 62,
    "start_time": "2021-07-12T04:52:34.727Z"
   },
   {
    "duration": 3,
    "start_time": "2021-07-12T04:52:37.648Z"
   },
   {
    "duration": 69,
    "start_time": "2021-07-12T04:52:37.655Z"
   },
   {
    "duration": 4,
    "start_time": "2021-07-12T04:52:39.975Z"
   },
   {
    "duration": 63,
    "start_time": "2021-07-12T04:52:40.359Z"
   },
   {
    "duration": 3,
    "start_time": "2021-07-12T04:54:42.733Z"
   },
   {
    "duration": 736,
    "start_time": "2021-07-12T04:54:43.816Z"
   },
   {
    "duration": 4,
    "start_time": "2021-07-12T04:55:08.807Z"
   },
   {
    "duration": 62,
    "start_time": "2021-07-12T04:55:08.992Z"
   },
   {
    "duration": 3,
    "start_time": "2021-07-12T04:55:13.065Z"
   },
   {
    "duration": 63,
    "start_time": "2021-07-12T04:55:22.432Z"
   },
   {
    "duration": 756,
    "start_time": "2021-07-12T04:55:31.216Z"
   },
   {
    "duration": 756,
    "start_time": "2021-07-12T04:55:50.884Z"
   },
   {
    "duration": 3,
    "start_time": "2021-07-12T04:57:51.592Z"
   },
   {
    "duration": 59,
    "start_time": "2021-07-12T04:57:52.663Z"
   },
   {
    "duration": 63,
    "start_time": "2021-07-12T04:59:54.401Z"
   },
   {
    "duration": 532,
    "start_time": "2021-07-12T04:59:59.896Z"
   },
   {
    "duration": 62,
    "start_time": "2021-07-12T05:00:44.438Z"
   },
   {
    "duration": 378,
    "start_time": "2021-07-12T05:00:56.318Z"
   },
   {
    "duration": 66,
    "start_time": "2021-07-12T05:03:34.482Z"
   },
   {
    "duration": 63,
    "start_time": "2021-07-12T05:04:29.521Z"
   },
   {
    "duration": 63,
    "start_time": "2021-07-12T05:04:58.331Z"
   },
   {
    "duration": 66,
    "start_time": "2021-07-12T05:04:58.986Z"
   },
   {
    "duration": 62,
    "start_time": "2021-07-12T05:05:07.418Z"
   },
   {
    "duration": 65,
    "start_time": "2021-07-12T05:05:14.723Z"
   },
   {
    "duration": 63,
    "start_time": "2021-07-12T05:05:20.945Z"
   }
  ],
  "kernelspec": {
   "display_name": "Python 3",
   "language": "python",
   "name": "python3"
  },
  "language_info": {
   "codemirror_mode": {
    "name": "ipython",
    "version": 3
   },
   "file_extension": ".py",
   "mimetype": "text/x-python",
   "name": "python",
   "nbconvert_exporter": "python",
   "pygments_lexer": "ipython3",
   "version": "3.8.5"
  },
  "toc": {
   "base_numbering": 1,
   "nav_menu": {},
   "number_sections": true,
   "sideBar": true,
   "skip_h1_title": true,
   "title_cell": "Table of Contents",
   "title_sidebar": "Contents",
   "toc_cell": false,
   "toc_position": {},
   "toc_section_display": true,
   "toc_window_display": false
  }
 },
 "nbformat": 4,
 "nbformat_minor": 2
}
