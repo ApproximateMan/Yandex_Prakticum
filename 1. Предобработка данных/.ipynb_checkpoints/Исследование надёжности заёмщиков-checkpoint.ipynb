{
 "cells": [
  {
   "cell_type": "markdown",
   "metadata": {},
   "source": [
    "# Исследование надёжности заёмщиков"
   ]
  },
  {
   "cell_type": "markdown",
   "metadata": {},
   "source": [
    "**Заказчик:**  \n",
    "Кредитный отдел банка  \n",
    "  \n",
    "**Цель:**  \n",
    "Определить, влияет ли семейное положение и количество детей клиента на факт погашения кредита в срок  \n",
    "  \n",
    "**Исходные данные:**  \n",
    "Статистика о платёжеспособности клиентов\n",
    "  \n",
    "Результаты исследования будут учтены при построении модели **кредитного скоринга** — специальной системы, которая оценивает способность потенциального заёмщика вернуть кредит банку."
   ]
  },
  {
   "cell_type": "markdown",
   "metadata": {},
   "source": [
    "## Оглавление\n",
    "1. [Открытие данных](#open_data)\n",
    "2. [Предобработка данных](#preprocessing)\n",
    "    * [Обработка пропущенных значений](#skipdata)\n",
    "    * [Замена типа данных](#change_type)\n",
    "    * [Обработка дубликатов](#duplicated)\n",
    "    * [Лемматизация](#lemmatize)\n",
    "    * [Категоризация данных](#cathegory)\n",
    "3. [Анализ данных](#analysis)\n",
    "    * [Зависимость между наличием детей и возвратом кредита в срок](#question1)\n",
    "    * [Зависимость между семейным положением и возвратом кредита в срок](#question2)\n",
    "    * [Зависимость между уровнем дохода и возвратом кредита в срок](#question3)\n",
    "    * [Влияние разных целей на возврат кредита в срок](#question4)\n",
    "4. [Общий вывод](#conclusion)"
   ]
  },
  {
   "cell_type": "markdown",
   "metadata": {},
   "source": [
    "## 1. Открытие данных <a id=\"open_data\"></a>"
   ]
  },
  {
   "cell_type": "markdown",
   "metadata": {},
   "source": [
    "### Шаг 1. Откроем файл с данными и изучим общую информацию"
   ]
  },
  {
   "cell_type": "markdown",
   "metadata": {},
   "source": [
    "Импортируем необходимые библиотеки и функции, которые понадобятся для достижения цели.\n",
    "Импорт библиотек желательно проводить в самом начале кода, чтобы избежать ошибок работы интерпретатора в дальнейшем."
   ]
  },
  {
   "cell_type": "code",
   "execution_count": 1,
   "metadata": {},
   "outputs": [
    {
     "ename": "ModuleNotFoundError",
     "evalue": "No module named 'pymystem3'",
     "output_type": "error",
     "traceback": [
      "\u001b[0;31m---------------------------------------------------------------------------\u001b[0m",
      "\u001b[0;31mModuleNotFoundError\u001b[0m                       Traceback (most recent call last)",
      "Input \u001b[0;32mIn [1]\u001b[0m, in \u001b[0;36m<cell line: 3>\u001b[0;34m()\u001b[0m\n\u001b[1;32m      1\u001b[0m \u001b[38;5;28;01mimport\u001b[39;00m \u001b[38;5;21;01mnumpy\u001b[39;00m \u001b[38;5;28;01mas\u001b[39;00m \u001b[38;5;21;01mnp\u001b[39;00m\n\u001b[1;32m      2\u001b[0m \u001b[38;5;28;01mimport\u001b[39;00m \u001b[38;5;21;01mpandas\u001b[39;00m \u001b[38;5;28;01mas\u001b[39;00m \u001b[38;5;21;01mpd\u001b[39;00m\n\u001b[0;32m----> 3\u001b[0m \u001b[38;5;28;01mfrom\u001b[39;00m \u001b[38;5;21;01mpymystem3\u001b[39;00m \u001b[38;5;28;01mimport\u001b[39;00m Mystem\n\u001b[1;32m      4\u001b[0m m \u001b[38;5;241m=\u001b[39m Mystem()\n\u001b[1;32m      5\u001b[0m \u001b[38;5;28;01mfrom\u001b[39;00m \u001b[38;5;21;01mcollections\u001b[39;00m \u001b[38;5;28;01mimport\u001b[39;00m Counter\n",
      "\u001b[0;31mModuleNotFoundError\u001b[0m: No module named 'pymystem3'"
     ]
    }
   ],
   "source": [
    "import numpy as np\n",
    "import pandas as pd\n",
    "from pymystem3 import Mystem\n",
    "m = Mystem()\n",
    "from collections import Counter\n",
    "\n",
    "import warnings\n",
    "warnings.filterwarnings('ignore')"
   ]
  },
  {
   "cell_type": "code",
   "execution_count": 2,
   "metadata": {},
   "outputs": [
    {
     "name": "stdout",
     "output_type": "stream",
     "text": [
      "<class 'pandas.core.frame.DataFrame'>\n",
      "RangeIndex: 21525 entries, 0 to 21524\n",
      "Data columns (total 12 columns):\n",
      "children            21525 non-null int64\n",
      "days_employed       19351 non-null float64\n",
      "dob_years           21525 non-null int64\n",
      "education           21525 non-null object\n",
      "education_id        21525 non-null int64\n",
      "family_status       21525 non-null object\n",
      "family_status_id    21525 non-null int64\n",
      "gender              21525 non-null object\n",
      "income_type         21525 non-null object\n",
      "debt                21525 non-null int64\n",
      "total_income        19351 non-null float64\n",
      "purpose             21525 non-null object\n",
      "dtypes: float64(2), int64(5), object(5)\n",
      "memory usage: 2.0+ MB\n"
     ]
    }
   ],
   "source": [
    "data = pd.read_csv('/datasets/data.csv')\n",
    "data.info()"
   ]
  },
  {
   "cell_type": "markdown",
   "metadata": {},
   "source": [
    "Первое, что бросается в глаза - это неравное количество ненулевых значений в `days_employed` и `total_income` по сравнению с остальными столбцами. В соотвестсвии с описанием, полученных от заказчика в этих столбцах находятся информация об *общем трудовом стаже в днях* и о *ежемесячном доходе*"
   ]
  },
  {
   "cell_type": "markdown",
   "metadata": {},
   "source": [
    "Посмотрим на первые 15 строк полученных данных:"
   ]
  },
  {
   "cell_type": "code",
   "execution_count": 3,
   "metadata": {},
   "outputs": [
    {
     "data": {
      "text/html": [
       "<div>\n",
       "<style scoped>\n",
       "    .dataframe tbody tr th:only-of-type {\n",
       "        vertical-align: middle;\n",
       "    }\n",
       "\n",
       "    .dataframe tbody tr th {\n",
       "        vertical-align: top;\n",
       "    }\n",
       "\n",
       "    .dataframe thead th {\n",
       "        text-align: right;\n",
       "    }\n",
       "</style>\n",
       "<table border=\"1\" class=\"dataframe\">\n",
       "  <thead>\n",
       "    <tr style=\"text-align: right;\">\n",
       "      <th></th>\n",
       "      <th>children</th>\n",
       "      <th>days_employed</th>\n",
       "      <th>dob_years</th>\n",
       "      <th>education</th>\n",
       "      <th>education_id</th>\n",
       "      <th>family_status</th>\n",
       "      <th>family_status_id</th>\n",
       "      <th>gender</th>\n",
       "      <th>income_type</th>\n",
       "      <th>debt</th>\n",
       "      <th>total_income</th>\n",
       "      <th>purpose</th>\n",
       "    </tr>\n",
       "  </thead>\n",
       "  <tbody>\n",
       "    <tr>\n",
       "      <td>0</td>\n",
       "      <td>1</td>\n",
       "      <td>-8437.673028</td>\n",
       "      <td>42</td>\n",
       "      <td>высшее</td>\n",
       "      <td>0</td>\n",
       "      <td>женат / замужем</td>\n",
       "      <td>0</td>\n",
       "      <td>F</td>\n",
       "      <td>сотрудник</td>\n",
       "      <td>0</td>\n",
       "      <td>253875.639453</td>\n",
       "      <td>покупка жилья</td>\n",
       "    </tr>\n",
       "    <tr>\n",
       "      <td>1</td>\n",
       "      <td>1</td>\n",
       "      <td>-4024.803754</td>\n",
       "      <td>36</td>\n",
       "      <td>среднее</td>\n",
       "      <td>1</td>\n",
       "      <td>женат / замужем</td>\n",
       "      <td>0</td>\n",
       "      <td>F</td>\n",
       "      <td>сотрудник</td>\n",
       "      <td>0</td>\n",
       "      <td>112080.014102</td>\n",
       "      <td>приобретение автомобиля</td>\n",
       "    </tr>\n",
       "    <tr>\n",
       "      <td>2</td>\n",
       "      <td>0</td>\n",
       "      <td>-5623.422610</td>\n",
       "      <td>33</td>\n",
       "      <td>Среднее</td>\n",
       "      <td>1</td>\n",
       "      <td>женат / замужем</td>\n",
       "      <td>0</td>\n",
       "      <td>M</td>\n",
       "      <td>сотрудник</td>\n",
       "      <td>0</td>\n",
       "      <td>145885.952297</td>\n",
       "      <td>покупка жилья</td>\n",
       "    </tr>\n",
       "    <tr>\n",
       "      <td>3</td>\n",
       "      <td>3</td>\n",
       "      <td>-4124.747207</td>\n",
       "      <td>32</td>\n",
       "      <td>среднее</td>\n",
       "      <td>1</td>\n",
       "      <td>женат / замужем</td>\n",
       "      <td>0</td>\n",
       "      <td>M</td>\n",
       "      <td>сотрудник</td>\n",
       "      <td>0</td>\n",
       "      <td>267628.550329</td>\n",
       "      <td>дополнительное образование</td>\n",
       "    </tr>\n",
       "    <tr>\n",
       "      <td>4</td>\n",
       "      <td>0</td>\n",
       "      <td>340266.072047</td>\n",
       "      <td>53</td>\n",
       "      <td>среднее</td>\n",
       "      <td>1</td>\n",
       "      <td>гражданский брак</td>\n",
       "      <td>1</td>\n",
       "      <td>F</td>\n",
       "      <td>пенсионер</td>\n",
       "      <td>0</td>\n",
       "      <td>158616.077870</td>\n",
       "      <td>сыграть свадьбу</td>\n",
       "    </tr>\n",
       "    <tr>\n",
       "      <td>5</td>\n",
       "      <td>0</td>\n",
       "      <td>-926.185831</td>\n",
       "      <td>27</td>\n",
       "      <td>высшее</td>\n",
       "      <td>0</td>\n",
       "      <td>гражданский брак</td>\n",
       "      <td>1</td>\n",
       "      <td>M</td>\n",
       "      <td>компаньон</td>\n",
       "      <td>0</td>\n",
       "      <td>255763.565419</td>\n",
       "      <td>покупка жилья</td>\n",
       "    </tr>\n",
       "    <tr>\n",
       "      <td>6</td>\n",
       "      <td>0</td>\n",
       "      <td>-2879.202052</td>\n",
       "      <td>43</td>\n",
       "      <td>высшее</td>\n",
       "      <td>0</td>\n",
       "      <td>женат / замужем</td>\n",
       "      <td>0</td>\n",
       "      <td>F</td>\n",
       "      <td>компаньон</td>\n",
       "      <td>0</td>\n",
       "      <td>240525.971920</td>\n",
       "      <td>операции с жильем</td>\n",
       "    </tr>\n",
       "    <tr>\n",
       "      <td>7</td>\n",
       "      <td>0</td>\n",
       "      <td>-152.779569</td>\n",
       "      <td>50</td>\n",
       "      <td>СРЕДНЕЕ</td>\n",
       "      <td>1</td>\n",
       "      <td>женат / замужем</td>\n",
       "      <td>0</td>\n",
       "      <td>M</td>\n",
       "      <td>сотрудник</td>\n",
       "      <td>0</td>\n",
       "      <td>135823.934197</td>\n",
       "      <td>образование</td>\n",
       "    </tr>\n",
       "    <tr>\n",
       "      <td>8</td>\n",
       "      <td>2</td>\n",
       "      <td>-6929.865299</td>\n",
       "      <td>35</td>\n",
       "      <td>ВЫСШЕЕ</td>\n",
       "      <td>0</td>\n",
       "      <td>гражданский брак</td>\n",
       "      <td>1</td>\n",
       "      <td>F</td>\n",
       "      <td>сотрудник</td>\n",
       "      <td>0</td>\n",
       "      <td>95856.832424</td>\n",
       "      <td>на проведение свадьбы</td>\n",
       "    </tr>\n",
       "    <tr>\n",
       "      <td>9</td>\n",
       "      <td>0</td>\n",
       "      <td>-2188.756445</td>\n",
       "      <td>41</td>\n",
       "      <td>среднее</td>\n",
       "      <td>1</td>\n",
       "      <td>женат / замужем</td>\n",
       "      <td>0</td>\n",
       "      <td>M</td>\n",
       "      <td>сотрудник</td>\n",
       "      <td>0</td>\n",
       "      <td>144425.938277</td>\n",
       "      <td>покупка жилья для семьи</td>\n",
       "    </tr>\n",
       "    <tr>\n",
       "      <td>10</td>\n",
       "      <td>2</td>\n",
       "      <td>-4171.483647</td>\n",
       "      <td>36</td>\n",
       "      <td>высшее</td>\n",
       "      <td>0</td>\n",
       "      <td>женат / замужем</td>\n",
       "      <td>0</td>\n",
       "      <td>M</td>\n",
       "      <td>компаньон</td>\n",
       "      <td>0</td>\n",
       "      <td>113943.491460</td>\n",
       "      <td>покупка недвижимости</td>\n",
       "    </tr>\n",
       "    <tr>\n",
       "      <td>11</td>\n",
       "      <td>0</td>\n",
       "      <td>-792.701887</td>\n",
       "      <td>40</td>\n",
       "      <td>среднее</td>\n",
       "      <td>1</td>\n",
       "      <td>женат / замужем</td>\n",
       "      <td>0</td>\n",
       "      <td>F</td>\n",
       "      <td>сотрудник</td>\n",
       "      <td>0</td>\n",
       "      <td>77069.234271</td>\n",
       "      <td>покупка коммерческой недвижимости</td>\n",
       "    </tr>\n",
       "    <tr>\n",
       "      <td>12</td>\n",
       "      <td>0</td>\n",
       "      <td>NaN</td>\n",
       "      <td>65</td>\n",
       "      <td>среднее</td>\n",
       "      <td>1</td>\n",
       "      <td>гражданский брак</td>\n",
       "      <td>1</td>\n",
       "      <td>M</td>\n",
       "      <td>пенсионер</td>\n",
       "      <td>0</td>\n",
       "      <td>NaN</td>\n",
       "      <td>сыграть свадьбу</td>\n",
       "    </tr>\n",
       "    <tr>\n",
       "      <td>13</td>\n",
       "      <td>0</td>\n",
       "      <td>-1846.641941</td>\n",
       "      <td>54</td>\n",
       "      <td>неоконченное высшее</td>\n",
       "      <td>2</td>\n",
       "      <td>женат / замужем</td>\n",
       "      <td>0</td>\n",
       "      <td>F</td>\n",
       "      <td>сотрудник</td>\n",
       "      <td>0</td>\n",
       "      <td>130458.228857</td>\n",
       "      <td>приобретение автомобиля</td>\n",
       "    </tr>\n",
       "    <tr>\n",
       "      <td>14</td>\n",
       "      <td>0</td>\n",
       "      <td>-1844.956182</td>\n",
       "      <td>56</td>\n",
       "      <td>высшее</td>\n",
       "      <td>0</td>\n",
       "      <td>гражданский брак</td>\n",
       "      <td>1</td>\n",
       "      <td>F</td>\n",
       "      <td>компаньон</td>\n",
       "      <td>1</td>\n",
       "      <td>165127.911772</td>\n",
       "      <td>покупка жилой недвижимости</td>\n",
       "    </tr>\n",
       "  </tbody>\n",
       "</table>\n",
       "</div>"
      ],
      "text/plain": [
       "    children  days_employed  dob_years            education  education_id  \\\n",
       "0          1   -8437.673028         42               высшее             0   \n",
       "1          1   -4024.803754         36              среднее             1   \n",
       "2          0   -5623.422610         33              Среднее             1   \n",
       "3          3   -4124.747207         32              среднее             1   \n",
       "4          0  340266.072047         53              среднее             1   \n",
       "5          0    -926.185831         27               высшее             0   \n",
       "6          0   -2879.202052         43               высшее             0   \n",
       "7          0    -152.779569         50              СРЕДНЕЕ             1   \n",
       "8          2   -6929.865299         35               ВЫСШЕЕ             0   \n",
       "9          0   -2188.756445         41              среднее             1   \n",
       "10         2   -4171.483647         36               высшее             0   \n",
       "11         0    -792.701887         40              среднее             1   \n",
       "12         0            NaN         65              среднее             1   \n",
       "13         0   -1846.641941         54  неоконченное высшее             2   \n",
       "14         0   -1844.956182         56               высшее             0   \n",
       "\n",
       "       family_status  family_status_id gender income_type  debt  \\\n",
       "0    женат / замужем                 0      F   сотрудник     0   \n",
       "1    женат / замужем                 0      F   сотрудник     0   \n",
       "2    женат / замужем                 0      M   сотрудник     0   \n",
       "3    женат / замужем                 0      M   сотрудник     0   \n",
       "4   гражданский брак                 1      F   пенсионер     0   \n",
       "5   гражданский брак                 1      M   компаньон     0   \n",
       "6    женат / замужем                 0      F   компаньон     0   \n",
       "7    женат / замужем                 0      M   сотрудник     0   \n",
       "8   гражданский брак                 1      F   сотрудник     0   \n",
       "9    женат / замужем                 0      M   сотрудник     0   \n",
       "10   женат / замужем                 0      M   компаньон     0   \n",
       "11   женат / замужем                 0      F   сотрудник     0   \n",
       "12  гражданский брак                 1      M   пенсионер     0   \n",
       "13   женат / замужем                 0      F   сотрудник     0   \n",
       "14  гражданский брак                 1      F   компаньон     1   \n",
       "\n",
       "     total_income                            purpose  \n",
       "0   253875.639453                      покупка жилья  \n",
       "1   112080.014102            приобретение автомобиля  \n",
       "2   145885.952297                      покупка жилья  \n",
       "3   267628.550329         дополнительное образование  \n",
       "4   158616.077870                    сыграть свадьбу  \n",
       "5   255763.565419                      покупка жилья  \n",
       "6   240525.971920                  операции с жильем  \n",
       "7   135823.934197                        образование  \n",
       "8    95856.832424              на проведение свадьбы  \n",
       "9   144425.938277            покупка жилья для семьи  \n",
       "10  113943.491460               покупка недвижимости  \n",
       "11   77069.234271  покупка коммерческой недвижимости  \n",
       "12            NaN                    сыграть свадьбу  \n",
       "13  130458.228857            приобретение автомобиля  \n",
       "14  165127.911772         покупка жилой недвижимости  "
      ]
     },
     "execution_count": 3,
     "metadata": {},
     "output_type": "execute_result"
    }
   ],
   "source": [
    "data.head(15)"
   ]
  },
  {
   "cell_type": "markdown",
   "metadata": {},
   "source": [
    "Что можем на первый взгляд сказать о данных:\n",
    " 1. большинство данных в столбце `days_employed` имеют отрицательное значение\n",
    " 2. данные в столбце `education` имеют разный регистр букв\n",
    " 3. данные в столбце `purpose` имеют схожие цели, но разное написание. Например, \"*сыграть свадьбу*\" и \"*на проведение свадьбы*\" можно определить одним словом: \"*свадьба*\"\n",
    " 4. на 12 строке данные в столбцах `days_employed` и `total_income` имеют одинаковое значение = *NaN*"
   ]
  },
  {
   "cell_type": "markdown",
   "metadata": {},
   "source": [
    "### Вывод"
   ]
  },
  {
   "cell_type": "markdown",
   "metadata": {},
   "source": [
    "Перед предобработкой данных необходимо понимание, использование каких данных поможет ответить на поставленные заказчиком вопросы. Данное понимание сократит время предобработки и отсечет дополнительные гипотезы\n",
    "\n"
   ]
  },
  {
   "cell_type": "markdown",
   "metadata": {},
   "source": [
    "## 2. Предобработка данных <a id=\"preprocessing\"></a>"
   ]
  },
  {
   "cell_type": "markdown",
   "metadata": {},
   "source": [
    "### Шаг 2. Обработаем пропущенные значения <a id=\"skipdata\"></a>"
   ]
  },
  {
   "cell_type": "markdown",
   "metadata": {},
   "source": [
    "В Шаге 1 мы выяснили, что в столбцах `days_employed` и `total_income` есть пропущенные значения, а также выяснили по первым 15 строкам, что прощенные значения в этих столбцах могут быть в одинаковых строках. "
   ]
  },
  {
   "cell_type": "markdown",
   "metadata": {},
   "source": [
    "Проверим гипотезу: все пропущенны значения в столбцах `days_employed` и `total_income` находятся в одинаковых строках.\n",
    "Для проверки создадим временную таблицу, которую не будем использовать в дальнейшем, а только для проверки данной гипотезы. "
   ]
  },
  {
   "cell_type": "code",
   "execution_count": 4,
   "metadata": {},
   "outputs": [
    {
     "data": {
      "text/plain": [
       "days_employed       0\n",
       "total_income        0\n",
       "empty_both       2174\n",
       "dtype: int64"
      ]
     },
     "execution_count": 4,
     "metadata": {},
     "output_type": "execute_result"
    }
   ],
   "source": [
    "#создаем временную таблицу для проверки закономерности пропусков в столбцах days_employed и total_income\n",
    "temp_skipdata = data[['days_employed', 'total_income']]\n",
    "\n",
    "#функция возвращает YES если значения в обоих столбцах равно NaN и возвращает NO в ином случае\n",
    "def check_skipdata(row):\n",
    "    if np.isnan(row['days_employed']) and np.isnan(row['total_income']):\n",
    "        return 'YES'\n",
    "    else:\n",
    "        return 'NO'\n",
    "\n",
    "#создаем столбец, отражающий проверку функцией check_skipdata\n",
    "temp_skipdata['empty_both'] = temp_skipdata.apply(check_skipdata, axis=1)\n",
    "\n",
    "#выведем количество значений YES в столбце empty_both\n",
    "temp_skipdata[temp_skipdata['empty_both'] == 'YES'].count()\n"
   ]
  },
  {
   "cell_type": "markdown",
   "metadata": {},
   "source": [
    "Закономерность в данных есть: столбцы `days_employed` и `total_income` имеют знаечение \"NaN\" в одних и тех же строках. \n",
    "Причиной возникновения подобных пропусков может быть некорректная выгрузка из БД, потому как навряд ли бы выдали кредит человеку, не зная его стаж работы и ежемесячную доходность (мы же не в 2008).\n",
    "Количество пропущенных данных составляет 10% от общего количества данных - достаточно большой объем, чтобы рассмотреть вариант удаления строк с пропущенными значениями. \n",
    "Так как столбцы `days_employed` и `total_income` являются колличественными переменными, то пустые данные можно заменить средним значением или медианой."
   ]
  },
  {
   "cell_type": "markdown",
   "metadata": {},
   "source": [
    "Определим, какой метод подойдет лучше: mean() или median().\n",
    "Из Шага 1 мы помним, что большинство значений в столбце `days_employed` - отрицательные. Для начала заменим данные на положительные значения."
   ]
  },
  {
   "cell_type": "code",
   "execution_count": 5,
   "metadata": {},
   "outputs": [],
   "source": [
    "data['days_employed'] = abs(data['days_employed'])"
   ]
  },
  {
   "cell_type": "markdown",
   "metadata": {},
   "source": [
    "Определим диапазон значений (минамальное и максимальное), а также среднее и медиану для значений обоих столбцов"
   ]
  },
  {
   "cell_type": "code",
   "execution_count": 6,
   "metadata": {},
   "outputs": [
    {
     "data": {
      "text/plain": [
       "count     19351.000000\n",
       "mean      66914.728907\n",
       "std      139030.880527\n",
       "min          24.141633\n",
       "25%         927.009265\n",
       "50%        2194.220567\n",
       "75%        5537.882441\n",
       "max      401755.400475\n",
       "Name: days_employed, dtype: float64"
      ]
     },
     "execution_count": 6,
     "metadata": {},
     "output_type": "execute_result"
    }
   ],
   "source": [
    "data['days_employed'].describe()"
   ]
  },
  {
   "cell_type": "code",
   "execution_count": 7,
   "metadata": {},
   "outputs": [
    {
     "data": {
      "text/plain": [
       "count    1.935100e+04\n",
       "mean     1.674223e+05\n",
       "std      1.029716e+05\n",
       "min      2.066726e+04\n",
       "25%      1.030532e+05\n",
       "50%      1.450179e+05\n",
       "75%      2.034351e+05\n",
       "max      2.265604e+06\n",
       "Name: total_income, dtype: float64"
      ]
     },
     "execution_count": 7,
     "metadata": {},
     "output_type": "execute_result"
    }
   ],
   "source": [
    "data['total_income'].describe()"
   ]
  },
  {
   "cell_type": "markdown",
   "metadata": {},
   "source": [
    "Минимальное и максимальное значения сильно разнятся, поэтому целесообразнее использовать значения медиан для заполнения пропущенных значений в обоих столбцах."
   ]
  },
  {
   "cell_type": "code",
   "execution_count": 8,
   "metadata": {},
   "outputs": [
    {
     "data": {
      "text/plain": [
       "dob_years\n",
       "0     1759.038033\n",
       "19     724.492610\n",
       "20     674.838979\n",
       "21     618.733817\n",
       "22     703.310078\n",
       "Name: days_employed, dtype: float64"
      ]
     },
     "execution_count": 8,
     "metadata": {},
     "output_type": "execute_result"
    }
   ],
   "source": [
    "dob_years_group = data.groupby('dob_years')['days_employed'].median()\n",
    "dob_years_group.head()"
   ]
  },
  {
   "cell_type": "code",
   "execution_count": 9,
   "metadata": {},
   "outputs": [
    {
     "data": {
      "text/html": [
       "<div>\n",
       "<style scoped>\n",
       "    .dataframe tbody tr th:only-of-type {\n",
       "        vertical-align: middle;\n",
       "    }\n",
       "\n",
       "    .dataframe tbody tr th {\n",
       "        vertical-align: top;\n",
       "    }\n",
       "\n",
       "    .dataframe thead th {\n",
       "        text-align: right;\n",
       "    }\n",
       "</style>\n",
       "<table border=\"1\" class=\"dataframe\">\n",
       "  <thead>\n",
       "    <tr style=\"text-align: right;\">\n",
       "      <th></th>\n",
       "      <th>children</th>\n",
       "      <th>days_employed</th>\n",
       "      <th>dob_years</th>\n",
       "      <th>education</th>\n",
       "      <th>education_id</th>\n",
       "      <th>family_status</th>\n",
       "      <th>family_status_id</th>\n",
       "      <th>gender</th>\n",
       "      <th>income_type</th>\n",
       "      <th>debt</th>\n",
       "      <th>total_income</th>\n",
       "      <th>purpose</th>\n",
       "    </tr>\n",
       "  </thead>\n",
       "  <tbody>\n",
       "    <tr>\n",
       "      <td>1890</td>\n",
       "      <td>0</td>\n",
       "      <td>NaN</td>\n",
       "      <td>0</td>\n",
       "      <td>высшее</td>\n",
       "      <td>0</td>\n",
       "      <td>Не женат / не замужем</td>\n",
       "      <td>4</td>\n",
       "      <td>F</td>\n",
       "      <td>сотрудник</td>\n",
       "      <td>0</td>\n",
       "      <td>NaN</td>\n",
       "      <td>жилье</td>\n",
       "    </tr>\n",
       "    <tr>\n",
       "      <td>2284</td>\n",
       "      <td>0</td>\n",
       "      <td>NaN</td>\n",
       "      <td>0</td>\n",
       "      <td>среднее</td>\n",
       "      <td>1</td>\n",
       "      <td>вдовец / вдова</td>\n",
       "      <td>2</td>\n",
       "      <td>F</td>\n",
       "      <td>пенсионер</td>\n",
       "      <td>0</td>\n",
       "      <td>NaN</td>\n",
       "      <td>недвижимость</td>\n",
       "    </tr>\n",
       "    <tr>\n",
       "      <td>4064</td>\n",
       "      <td>1</td>\n",
       "      <td>NaN</td>\n",
       "      <td>0</td>\n",
       "      <td>среднее</td>\n",
       "      <td>1</td>\n",
       "      <td>гражданский брак</td>\n",
       "      <td>1</td>\n",
       "      <td>M</td>\n",
       "      <td>компаньон</td>\n",
       "      <td>0</td>\n",
       "      <td>NaN</td>\n",
       "      <td>ремонт жилью</td>\n",
       "    </tr>\n",
       "    <tr>\n",
       "      <td>5014</td>\n",
       "      <td>0</td>\n",
       "      <td>NaN</td>\n",
       "      <td>0</td>\n",
       "      <td>среднее</td>\n",
       "      <td>1</td>\n",
       "      <td>женат / замужем</td>\n",
       "      <td>0</td>\n",
       "      <td>F</td>\n",
       "      <td>компаньон</td>\n",
       "      <td>0</td>\n",
       "      <td>NaN</td>\n",
       "      <td>покупка недвижимости</td>\n",
       "    </tr>\n",
       "    <tr>\n",
       "      <td>6411</td>\n",
       "      <td>0</td>\n",
       "      <td>NaN</td>\n",
       "      <td>0</td>\n",
       "      <td>высшее</td>\n",
       "      <td>0</td>\n",
       "      <td>гражданский брак</td>\n",
       "      <td>1</td>\n",
       "      <td>F</td>\n",
       "      <td>пенсионер</td>\n",
       "      <td>0</td>\n",
       "      <td>NaN</td>\n",
       "      <td>свадьба</td>\n",
       "    </tr>\n",
       "    <tr>\n",
       "      <td>6670</td>\n",
       "      <td>0</td>\n",
       "      <td>NaN</td>\n",
       "      <td>0</td>\n",
       "      <td>Высшее</td>\n",
       "      <td>0</td>\n",
       "      <td>в разводе</td>\n",
       "      <td>3</td>\n",
       "      <td>F</td>\n",
       "      <td>пенсионер</td>\n",
       "      <td>0</td>\n",
       "      <td>NaN</td>\n",
       "      <td>покупка жилой недвижимости</td>\n",
       "    </tr>\n",
       "    <tr>\n",
       "      <td>8574</td>\n",
       "      <td>0</td>\n",
       "      <td>NaN</td>\n",
       "      <td>0</td>\n",
       "      <td>среднее</td>\n",
       "      <td>1</td>\n",
       "      <td>женат / замужем</td>\n",
       "      <td>0</td>\n",
       "      <td>F</td>\n",
       "      <td>сотрудник</td>\n",
       "      <td>0</td>\n",
       "      <td>NaN</td>\n",
       "      <td>недвижимость</td>\n",
       "    </tr>\n",
       "    <tr>\n",
       "      <td>12403</td>\n",
       "      <td>3</td>\n",
       "      <td>NaN</td>\n",
       "      <td>0</td>\n",
       "      <td>среднее</td>\n",
       "      <td>1</td>\n",
       "      <td>женат / замужем</td>\n",
       "      <td>0</td>\n",
       "      <td>M</td>\n",
       "      <td>сотрудник</td>\n",
       "      <td>0</td>\n",
       "      <td>NaN</td>\n",
       "      <td>операции с коммерческой недвижимостью</td>\n",
       "    </tr>\n",
       "    <tr>\n",
       "      <td>13741</td>\n",
       "      <td>0</td>\n",
       "      <td>NaN</td>\n",
       "      <td>0</td>\n",
       "      <td>среднее</td>\n",
       "      <td>1</td>\n",
       "      <td>гражданский брак</td>\n",
       "      <td>1</td>\n",
       "      <td>F</td>\n",
       "      <td>сотрудник</td>\n",
       "      <td>0</td>\n",
       "      <td>NaN</td>\n",
       "      <td>на проведение свадьбы</td>\n",
       "    </tr>\n",
       "    <tr>\n",
       "      <td>19829</td>\n",
       "      <td>0</td>\n",
       "      <td>NaN</td>\n",
       "      <td>0</td>\n",
       "      <td>среднее</td>\n",
       "      <td>1</td>\n",
       "      <td>женат / замужем</td>\n",
       "      <td>0</td>\n",
       "      <td>F</td>\n",
       "      <td>сотрудник</td>\n",
       "      <td>0</td>\n",
       "      <td>NaN</td>\n",
       "      <td>жилье</td>\n",
       "    </tr>\n",
       "  </tbody>\n",
       "</table>\n",
       "</div>"
      ],
      "text/plain": [
       "       children  days_employed  dob_years education  education_id  \\\n",
       "1890          0            NaN          0    высшее             0   \n",
       "2284          0            NaN          0   среднее             1   \n",
       "4064          1            NaN          0   среднее             1   \n",
       "5014          0            NaN          0   среднее             1   \n",
       "6411          0            NaN          0    высшее             0   \n",
       "6670          0            NaN          0    Высшее             0   \n",
       "8574          0            NaN          0   среднее             1   \n",
       "12403         3            NaN          0   среднее             1   \n",
       "13741         0            NaN          0   среднее             1   \n",
       "19829         0            NaN          0   среднее             1   \n",
       "\n",
       "               family_status  family_status_id gender income_type  debt  \\\n",
       "1890   Не женат / не замужем                 4      F   сотрудник     0   \n",
       "2284          вдовец / вдова                 2      F   пенсионер     0   \n",
       "4064        гражданский брак                 1      M   компаньон     0   \n",
       "5014         женат / замужем                 0      F   компаньон     0   \n",
       "6411        гражданский брак                 1      F   пенсионер     0   \n",
       "6670               в разводе                 3      F   пенсионер     0   \n",
       "8574         женат / замужем                 0      F   сотрудник     0   \n",
       "12403        женат / замужем                 0      M   сотрудник     0   \n",
       "13741       гражданский брак                 1      F   сотрудник     0   \n",
       "19829        женат / замужем                 0      F   сотрудник     0   \n",
       "\n",
       "       total_income                                purpose  \n",
       "1890            NaN                                  жилье  \n",
       "2284            NaN                           недвижимость  \n",
       "4064            NaN                           ремонт жилью  \n",
       "5014            NaN                   покупка недвижимости  \n",
       "6411            NaN                                свадьба  \n",
       "6670            NaN             покупка жилой недвижимости  \n",
       "8574            NaN                           недвижимость  \n",
       "12403           NaN  операции с коммерческой недвижимостью  \n",
       "13741           NaN                  на проведение свадьбы  \n",
       "19829           NaN                                  жилье  "
      ]
     },
     "execution_count": 9,
     "metadata": {},
     "output_type": "execute_result"
    }
   ],
   "source": [
    "data[(data['dob_years'] == 0) & (data['days_employed'].isnull() == True)]"
   ]
  },
  {
   "cell_type": "markdown",
   "metadata": {},
   "source": [
    "Если бы все строки стажа были бы заполнены при возрасте = 0, можно было бы определить зависимость стажа и возраста, выделить группы. Но в текущей ситуации для части данных мы не сможем определить количественные значения.  \n",
    "Учитывая, что в дальнейшем значения days_employed нам не понадобится для анализа, то возьмем следующий наиболее подходящий столбец для разделения на группы и определения значения days_employed - это столбец education (для удобства отображения возьмем education_id.  \n",
    "Предварительно применим к столбцу education метод, приводящий все буквы в строке к нижнему регистру (хоть это не понадобится использовать сейчас, сделаем предобработку заранее)"
   ]
  },
  {
   "cell_type": "code",
   "execution_count": 10,
   "metadata": {},
   "outputs": [
    {
     "data": {
      "text/plain": [
       "education_id\n",
       "0    1895.747795\n",
       "1    2392.483500\n",
       "2    1209.128083\n",
       "3    3043.933615\n",
       "4    5660.057032\n",
       "Name: days_employed, dtype: float64"
      ]
     },
     "execution_count": 10,
     "metadata": {},
     "output_type": "execute_result"
    }
   ],
   "source": [
    "data['education'] = data['education'].str.lower()\n",
    "data.groupby('education_id')['days_employed'].median()"
   ]
  },
  {
   "cell_type": "markdown",
   "metadata": {},
   "source": [
    "Значения видятся логичными, заполним пропуски в столбце days_employed медианными значениями по группировке столбца education_id"
   ]
  },
  {
   "cell_type": "code",
   "execution_count": 11,
   "metadata": {},
   "outputs": [],
   "source": [
    "for education_id in data['education_id'].unique():\n",
    "    median = data.loc[data['education_id'] == education_id, 'days_employed'].median()\n",
    "    data.loc[(data['days_employed'].isna()) & (data['education_id'] == education_id), 'days_employed'] = median"
   ]
  },
  {
   "cell_type": "markdown",
   "metadata": {},
   "source": [
    "Посмотрим на значения столбца income_type"
   ]
  },
  {
   "cell_type": "code",
   "execution_count": 12,
   "metadata": {},
   "outputs": [
    {
     "data": {
      "text/plain": [
       "сотрудник          11119\n",
       "компаньон           5085\n",
       "пенсионер           3856\n",
       "госслужащий         1459\n",
       "безработный            2\n",
       "предприниматель        2\n",
       "студент                1\n",
       "в декрете              1\n",
       "Name: income_type, dtype: int64"
      ]
     },
     "execution_count": 12,
     "metadata": {},
     "output_type": "execute_result"
    }
   ],
   "source": [
    "data['income_type'].value_counts()"
   ]
  },
  {
   "cell_type": "markdown",
   "metadata": {},
   "source": [
    "Данные в порядке, можно переходить к определению медианного значения"
   ]
  },
  {
   "cell_type": "code",
   "execution_count": 13,
   "metadata": {},
   "outputs": [],
   "source": [
    "for income_type in data['income_type'].unique():\n",
    "    median = data.loc[data['income_type'] == income_type, 'total_income'].median()\n",
    "    data.loc[(data['total_income'].isna()) & (data['income_type'] == income_type), 'total_income'] = median"
   ]
  },
  {
   "cell_type": "markdown",
   "metadata": {},
   "source": [
    "Проверим корректность данных, выведем срез данных, где ранее 12 строка имела значения NaN в столбцах days_employed и total_income"
   ]
  },
  {
   "cell_type": "code",
   "execution_count": 14,
   "metadata": {},
   "outputs": [
    {
     "data": {
      "text/html": [
       "<div>\n",
       "<style scoped>\n",
       "    .dataframe tbody tr th:only-of-type {\n",
       "        vertical-align: middle;\n",
       "    }\n",
       "\n",
       "    .dataframe tbody tr th {\n",
       "        vertical-align: top;\n",
       "    }\n",
       "\n",
       "    .dataframe thead th {\n",
       "        text-align: right;\n",
       "    }\n",
       "</style>\n",
       "<table border=\"1\" class=\"dataframe\">\n",
       "  <thead>\n",
       "    <tr style=\"text-align: right;\">\n",
       "      <th></th>\n",
       "      <th>children</th>\n",
       "      <th>days_employed</th>\n",
       "      <th>dob_years</th>\n",
       "      <th>education</th>\n",
       "      <th>education_id</th>\n",
       "      <th>family_status</th>\n",
       "      <th>family_status_id</th>\n",
       "      <th>gender</th>\n",
       "      <th>income_type</th>\n",
       "      <th>debt</th>\n",
       "      <th>total_income</th>\n",
       "      <th>purpose</th>\n",
       "    </tr>\n",
       "  </thead>\n",
       "  <tbody>\n",
       "    <tr>\n",
       "      <td>10</td>\n",
       "      <td>2</td>\n",
       "      <td>4171.483647</td>\n",
       "      <td>36</td>\n",
       "      <td>высшее</td>\n",
       "      <td>0</td>\n",
       "      <td>женат / замужем</td>\n",
       "      <td>0</td>\n",
       "      <td>M</td>\n",
       "      <td>компаньон</td>\n",
       "      <td>0</td>\n",
       "      <td>113943.491460</td>\n",
       "      <td>покупка недвижимости</td>\n",
       "    </tr>\n",
       "    <tr>\n",
       "      <td>11</td>\n",
       "      <td>0</td>\n",
       "      <td>792.701887</td>\n",
       "      <td>40</td>\n",
       "      <td>среднее</td>\n",
       "      <td>1</td>\n",
       "      <td>женат / замужем</td>\n",
       "      <td>0</td>\n",
       "      <td>F</td>\n",
       "      <td>сотрудник</td>\n",
       "      <td>0</td>\n",
       "      <td>77069.234271</td>\n",
       "      <td>покупка коммерческой недвижимости</td>\n",
       "    </tr>\n",
       "    <tr>\n",
       "      <td>12</td>\n",
       "      <td>0</td>\n",
       "      <td>2392.483500</td>\n",
       "      <td>65</td>\n",
       "      <td>среднее</td>\n",
       "      <td>1</td>\n",
       "      <td>гражданский брак</td>\n",
       "      <td>1</td>\n",
       "      <td>M</td>\n",
       "      <td>пенсионер</td>\n",
       "      <td>0</td>\n",
       "      <td>118514.486412</td>\n",
       "      <td>сыграть свадьбу</td>\n",
       "    </tr>\n",
       "    <tr>\n",
       "      <td>13</td>\n",
       "      <td>0</td>\n",
       "      <td>1846.641941</td>\n",
       "      <td>54</td>\n",
       "      <td>неоконченное высшее</td>\n",
       "      <td>2</td>\n",
       "      <td>женат / замужем</td>\n",
       "      <td>0</td>\n",
       "      <td>F</td>\n",
       "      <td>сотрудник</td>\n",
       "      <td>0</td>\n",
       "      <td>130458.228857</td>\n",
       "      <td>приобретение автомобиля</td>\n",
       "    </tr>\n",
       "    <tr>\n",
       "      <td>14</td>\n",
       "      <td>0</td>\n",
       "      <td>1844.956182</td>\n",
       "      <td>56</td>\n",
       "      <td>высшее</td>\n",
       "      <td>0</td>\n",
       "      <td>гражданский брак</td>\n",
       "      <td>1</td>\n",
       "      <td>F</td>\n",
       "      <td>компаньон</td>\n",
       "      <td>1</td>\n",
       "      <td>165127.911772</td>\n",
       "      <td>покупка жилой недвижимости</td>\n",
       "    </tr>\n",
       "  </tbody>\n",
       "</table>\n",
       "</div>"
      ],
      "text/plain": [
       "    children  days_employed  dob_years            education  education_id  \\\n",
       "10         2    4171.483647         36               высшее             0   \n",
       "11         0     792.701887         40              среднее             1   \n",
       "12         0    2392.483500         65              среднее             1   \n",
       "13         0    1846.641941         54  неоконченное высшее             2   \n",
       "14         0    1844.956182         56               высшее             0   \n",
       "\n",
       "       family_status  family_status_id gender income_type  debt  \\\n",
       "10   женат / замужем                 0      M   компаньон     0   \n",
       "11   женат / замужем                 0      F   сотрудник     0   \n",
       "12  гражданский брак                 1      M   пенсионер     0   \n",
       "13   женат / замужем                 0      F   сотрудник     0   \n",
       "14  гражданский брак                 1      F   компаньон     1   \n",
       "\n",
       "     total_income                            purpose  \n",
       "10  113943.491460               покупка недвижимости  \n",
       "11   77069.234271  покупка коммерческой недвижимости  \n",
       "12  118514.486412                    сыграть свадьбу  \n",
       "13  130458.228857            приобретение автомобиля  \n",
       "14  165127.911772         покупка жилой недвижимости  "
      ]
     },
     "execution_count": 14,
     "metadata": {},
     "output_type": "execute_result"
    }
   ],
   "source": [
    "data[10:15]"
   ]
  },
  {
   "cell_type": "markdown",
   "metadata": {},
   "source": [
    "Заполнение значений медианой, вычисленной при иных зависимостях - получилось длинее в написании кода, чем если просто заменить на медиану всех значений, но оно также получилось ближе к реальности."
   ]
  },
  {
   "cell_type": "markdown",
   "metadata": {},
   "source": [
    "### Вывод"
   ]
  },
  {
   "cell_type": "markdown",
   "metadata": {},
   "source": [
    "Замена пропущенных значений колличественных показателей медианным значением - это хороший способ сохранить реальную \"картину\", использование иных методов могут исказить результаты и дать не ту точность данных, которую хотелось бы. \n",
    "\n",
    "Работать с подобными закономерностями проще, чем если бы данные в столбцах `days_employed` и `total_income` были бы пропущены в разных строках. В таком случае анализ был бы в отношении каждого столбца значений отдельно и гипотезы появления таких пропусков были бы иные. \n",
    "\n",
    "Также заметим интересное максимальное значение в столбце `days_employed` = 401755.40047533 дней, а это примерно 1100 лет. Значение выходит за границу допустимых значений. Первая гипотеза - это опечатка оператора при вводе данных в БД, и чтобы ее проверить нужно рассматривать иные значения данного столбца. В рамках данного проекта в этом нет необходимости, но о таких интересных значениях стоит сообщить эксплуатационному персоналу (или администраторам)."
   ]
  },
  {
   "cell_type": "markdown",
   "metadata": {},
   "source": [
    "### Шаг 3. Заменим типы данных <a id=\"change_type\"></a>"
   ]
  },
  {
   "cell_type": "markdown",
   "metadata": {},
   "source": [
    "В инструкции по выполнению проекта *Замена типа данных* является одним из пунктов. Данных вещественного типа два: в столбцах `days_employed` и `total_income`. Значения столбца `days_employed` для вывления зависимости влияния на погашение кредита нам в дальнейшем не понадобятся, но значения столбца `total_income` понадобятся в дальнейшем. "
   ]
  },
  {
   "cell_type": "markdown",
   "metadata": {},
   "source": [
    "Ежемесячный доход может быть вещественным значением, и не будет ошибкой, если мы не переведем значения столбца `total_income` в тип int. НО, для анализа данных есть преимущество целочисленного формата перед вещественным. Поэтому для дальнейшего анализа переведем значения столбца `total_income` в тип int и проверим корректность выполнения кода"
   ]
  },
  {
   "cell_type": "code",
   "execution_count": 15,
   "metadata": {},
   "outputs": [
    {
     "name": "stdout",
     "output_type": "stream",
     "text": [
      "<class 'pandas.core.frame.DataFrame'>\n",
      "RangeIndex: 21525 entries, 0 to 21524\n",
      "Data columns (total 12 columns):\n",
      "children            21525 non-null int64\n",
      "days_employed       21525 non-null float64\n",
      "dob_years           21525 non-null int64\n",
      "education           21525 non-null object\n",
      "education_id        21525 non-null int64\n",
      "family_status       21525 non-null object\n",
      "family_status_id    21525 non-null int64\n",
      "gender              21525 non-null object\n",
      "income_type         21525 non-null object\n",
      "debt                21525 non-null int64\n",
      "total_income        21525 non-null int64\n",
      "purpose             21525 non-null object\n",
      "dtypes: float64(1), int64(6), object(5)\n",
      "memory usage: 2.0+ MB\n"
     ]
    }
   ],
   "source": [
    "data['total_income'] = data['total_income'].astype(np.int64)\n",
    "data.info()"
   ]
  },
  {
   "cell_type": "markdown",
   "metadata": {},
   "source": [
    "Проверим все возможные столбцы на недопустимые значения"
   ]
  },
  {
   "cell_type": "code",
   "execution_count": 16,
   "metadata": {},
   "outputs": [
    {
     "data": {
      "text/plain": [
       " 0     14149\n",
       " 1      4818\n",
       " 2      2055\n",
       " 3       330\n",
       " 20       76\n",
       "-1        47\n",
       " 4        41\n",
       " 5         9\n",
       "Name: children, dtype: int64"
      ]
     },
     "execution_count": 16,
     "metadata": {},
     "output_type": "execute_result"
    }
   ],
   "source": [
    "data['children'].value_counts()"
   ]
  },
  {
   "cell_type": "markdown",
   "metadata": {},
   "source": [
    "-1 - это недопустимое значение, заполним значение -1 на 0 и перепроверим данные"
   ]
  },
  {
   "cell_type": "code",
   "execution_count": 17,
   "metadata": {},
   "outputs": [
    {
     "name": "stdout",
     "output_type": "stream",
     "text": [
      "0     14196\n",
      "1      4818\n",
      "2      2055\n",
      "3       330\n",
      "20       76\n",
      "4        41\n",
      "5         9\n",
      "Name: children, dtype: int64\n"
     ]
    }
   ],
   "source": [
    "data.loc[data['children'] == -1, 'children'] = 0\n",
    "print(data['children'].value_counts())"
   ]
  },
  {
   "cell_type": "markdown",
   "metadata": {},
   "source": [
    "Проверим также значения столбца dob_years на недопустимые"
   ]
  },
  {
   "cell_type": "code",
   "execution_count": 18,
   "metadata": {},
   "outputs": [
    {
     "data": {
      "text/plain": [
       "35    617\n",
       "40    609\n",
       "41    607\n",
       "34    603\n",
       "38    598\n",
       "42    597\n",
       "33    581\n",
       "39    573\n",
       "31    560\n",
       "36    555\n",
       "44    547\n",
       "29    545\n",
       "30    540\n",
       "48    538\n",
       "37    537\n",
       "50    514\n",
       "43    513\n",
       "32    510\n",
       "49    508\n",
       "28    503\n",
       "45    497\n",
       "27    493\n",
       "56    487\n",
       "52    484\n",
       "47    480\n",
       "54    479\n",
       "46    475\n",
       "58    461\n",
       "57    460\n",
       "53    459\n",
       "51    448\n",
       "59    444\n",
       "55    443\n",
       "26    408\n",
       "60    377\n",
       "25    357\n",
       "61    355\n",
       "62    352\n",
       "63    269\n",
       "64    265\n",
       "24    264\n",
       "23    254\n",
       "65    194\n",
       "66    183\n",
       "22    183\n",
       "67    167\n",
       "21    111\n",
       "0     101\n",
       "68     99\n",
       "69     85\n",
       "70     65\n",
       "71     58\n",
       "20     51\n",
       "72     33\n",
       "19     14\n",
       "73      8\n",
       "74      6\n",
       "75      1\n",
       "Name: dob_years, dtype: int64"
      ]
     },
     "execution_count": 18,
     "metadata": {},
     "output_type": "execute_result"
    }
   ],
   "source": [
    "data['dob_years'].value_counts()"
   ]
  },
  {
   "cell_type": "markdown",
   "metadata": {},
   "source": [
    "Посмотрим на строки, где возраст равен 0 подробнее (на срез строк)"
   ]
  },
  {
   "cell_type": "code",
   "execution_count": 19,
   "metadata": {},
   "outputs": [
    {
     "data": {
      "text/html": [
       "<div>\n",
       "<style scoped>\n",
       "    .dataframe tbody tr th:only-of-type {\n",
       "        vertical-align: middle;\n",
       "    }\n",
       "\n",
       "    .dataframe tbody tr th {\n",
       "        vertical-align: top;\n",
       "    }\n",
       "\n",
       "    .dataframe thead th {\n",
       "        text-align: right;\n",
       "    }\n",
       "</style>\n",
       "<table border=\"1\" class=\"dataframe\">\n",
       "  <thead>\n",
       "    <tr style=\"text-align: right;\">\n",
       "      <th></th>\n",
       "      <th>children</th>\n",
       "      <th>days_employed</th>\n",
       "      <th>dob_years</th>\n",
       "      <th>education</th>\n",
       "      <th>education_id</th>\n",
       "      <th>family_status</th>\n",
       "      <th>family_status_id</th>\n",
       "      <th>gender</th>\n",
       "      <th>income_type</th>\n",
       "      <th>debt</th>\n",
       "      <th>total_income</th>\n",
       "      <th>purpose</th>\n",
       "    </tr>\n",
       "  </thead>\n",
       "  <tbody>\n",
       "    <tr>\n",
       "      <td>99</td>\n",
       "      <td>0</td>\n",
       "      <td>346541.618895</td>\n",
       "      <td>0</td>\n",
       "      <td>среднее</td>\n",
       "      <td>1</td>\n",
       "      <td>женат / замужем</td>\n",
       "      <td>0</td>\n",
       "      <td>F</td>\n",
       "      <td>пенсионер</td>\n",
       "      <td>0</td>\n",
       "      <td>71291</td>\n",
       "      <td>автомобиль</td>\n",
       "    </tr>\n",
       "    <tr>\n",
       "      <td>149</td>\n",
       "      <td>0</td>\n",
       "      <td>2664.273168</td>\n",
       "      <td>0</td>\n",
       "      <td>среднее</td>\n",
       "      <td>1</td>\n",
       "      <td>в разводе</td>\n",
       "      <td>3</td>\n",
       "      <td>F</td>\n",
       "      <td>сотрудник</td>\n",
       "      <td>0</td>\n",
       "      <td>70176</td>\n",
       "      <td>операции с жильем</td>\n",
       "    </tr>\n",
       "    <tr>\n",
       "      <td>270</td>\n",
       "      <td>3</td>\n",
       "      <td>1872.663186</td>\n",
       "      <td>0</td>\n",
       "      <td>среднее</td>\n",
       "      <td>1</td>\n",
       "      <td>женат / замужем</td>\n",
       "      <td>0</td>\n",
       "      <td>F</td>\n",
       "      <td>сотрудник</td>\n",
       "      <td>0</td>\n",
       "      <td>102166</td>\n",
       "      <td>ремонт жилью</td>\n",
       "    </tr>\n",
       "    <tr>\n",
       "      <td>578</td>\n",
       "      <td>0</td>\n",
       "      <td>397856.565013</td>\n",
       "      <td>0</td>\n",
       "      <td>среднее</td>\n",
       "      <td>1</td>\n",
       "      <td>женат / замужем</td>\n",
       "      <td>0</td>\n",
       "      <td>F</td>\n",
       "      <td>пенсионер</td>\n",
       "      <td>0</td>\n",
       "      <td>97620</td>\n",
       "      <td>строительство собственной недвижимости</td>\n",
       "    </tr>\n",
       "    <tr>\n",
       "      <td>1040</td>\n",
       "      <td>0</td>\n",
       "      <td>1158.029561</td>\n",
       "      <td>0</td>\n",
       "      <td>высшее</td>\n",
       "      <td>0</td>\n",
       "      <td>в разводе</td>\n",
       "      <td>3</td>\n",
       "      <td>F</td>\n",
       "      <td>компаньон</td>\n",
       "      <td>0</td>\n",
       "      <td>303994</td>\n",
       "      <td>свой автомобиль</td>\n",
       "    </tr>\n",
       "    <tr>\n",
       "      <td>1149</td>\n",
       "      <td>0</td>\n",
       "      <td>934.654854</td>\n",
       "      <td>0</td>\n",
       "      <td>среднее</td>\n",
       "      <td>1</td>\n",
       "      <td>женат / замужем</td>\n",
       "      <td>0</td>\n",
       "      <td>F</td>\n",
       "      <td>компаньон</td>\n",
       "      <td>0</td>\n",
       "      <td>201852</td>\n",
       "      <td>покупка недвижимости</td>\n",
       "    </tr>\n",
       "    <tr>\n",
       "      <td>1175</td>\n",
       "      <td>0</td>\n",
       "      <td>370879.508002</td>\n",
       "      <td>0</td>\n",
       "      <td>среднее</td>\n",
       "      <td>1</td>\n",
       "      <td>женат / замужем</td>\n",
       "      <td>0</td>\n",
       "      <td>F</td>\n",
       "      <td>пенсионер</td>\n",
       "      <td>0</td>\n",
       "      <td>313949</td>\n",
       "      <td>получение дополнительного образования</td>\n",
       "    </tr>\n",
       "    <tr>\n",
       "      <td>1386</td>\n",
       "      <td>0</td>\n",
       "      <td>5043.219890</td>\n",
       "      <td>0</td>\n",
       "      <td>высшее</td>\n",
       "      <td>0</td>\n",
       "      <td>женат / замужем</td>\n",
       "      <td>0</td>\n",
       "      <td>M</td>\n",
       "      <td>госслужащий</td>\n",
       "      <td>0</td>\n",
       "      <td>240523</td>\n",
       "      <td>сделка с автомобилем</td>\n",
       "    </tr>\n",
       "    <tr>\n",
       "      <td>1890</td>\n",
       "      <td>0</td>\n",
       "      <td>1895.747795</td>\n",
       "      <td>0</td>\n",
       "      <td>высшее</td>\n",
       "      <td>0</td>\n",
       "      <td>Не женат / не замужем</td>\n",
       "      <td>4</td>\n",
       "      <td>F</td>\n",
       "      <td>сотрудник</td>\n",
       "      <td>0</td>\n",
       "      <td>142594</td>\n",
       "      <td>жилье</td>\n",
       "    </tr>\n",
       "    <tr>\n",
       "      <td>1898</td>\n",
       "      <td>0</td>\n",
       "      <td>370144.537021</td>\n",
       "      <td>0</td>\n",
       "      <td>среднее</td>\n",
       "      <td>1</td>\n",
       "      <td>вдовец / вдова</td>\n",
       "      <td>2</td>\n",
       "      <td>F</td>\n",
       "      <td>пенсионер</td>\n",
       "      <td>0</td>\n",
       "      <td>127400</td>\n",
       "      <td>на покупку автомобиля</td>\n",
       "    </tr>\n",
       "  </tbody>\n",
       "</table>\n",
       "</div>"
      ],
      "text/plain": [
       "      children  days_employed  dob_years education  education_id  \\\n",
       "99           0  346541.618895          0   среднее             1   \n",
       "149          0    2664.273168          0   среднее             1   \n",
       "270          3    1872.663186          0   среднее             1   \n",
       "578          0  397856.565013          0   среднее             1   \n",
       "1040         0    1158.029561          0    высшее             0   \n",
       "1149         0     934.654854          0   среднее             1   \n",
       "1175         0  370879.508002          0   среднее             1   \n",
       "1386         0    5043.219890          0    высшее             0   \n",
       "1890         0    1895.747795          0    высшее             0   \n",
       "1898         0  370144.537021          0   среднее             1   \n",
       "\n",
       "              family_status  family_status_id gender  income_type  debt  \\\n",
       "99          женат / замужем                 0      F    пенсионер     0   \n",
       "149               в разводе                 3      F    сотрудник     0   \n",
       "270         женат / замужем                 0      F    сотрудник     0   \n",
       "578         женат / замужем                 0      F    пенсионер     0   \n",
       "1040              в разводе                 3      F    компаньон     0   \n",
       "1149        женат / замужем                 0      F    компаньон     0   \n",
       "1175        женат / замужем                 0      F    пенсионер     0   \n",
       "1386        женат / замужем                 0      M  госслужащий     0   \n",
       "1890  Не женат / не замужем                 4      F    сотрудник     0   \n",
       "1898         вдовец / вдова                 2      F    пенсионер     0   \n",
       "\n",
       "      total_income                                 purpose  \n",
       "99           71291                              автомобиль  \n",
       "149          70176                       операции с жильем  \n",
       "270         102166                            ремонт жилью  \n",
       "578          97620  строительство собственной недвижимости  \n",
       "1040        303994                         свой автомобиль  \n",
       "1149        201852                    покупка недвижимости  \n",
       "1175        313949   получение дополнительного образования  \n",
       "1386        240523                    сделка с автомобилем  \n",
       "1890        142594                                   жилье  \n",
       "1898        127400                   на покупку автомобиля  "
      ]
     },
     "execution_count": 19,
     "metadata": {},
     "output_type": "execute_result"
    }
   ],
   "source": [
    "data[data['dob_years'] == 0].head(10)"
   ]
  },
  {
   "cell_type": "markdown",
   "metadata": {},
   "source": [
    "Теперь точно видно, что это пропущенные значения. Заполнить их можем основываясь на средние значения посчитанные для каждого типа занятости. По аналогии с обработкой выше заполним пропущенные значения. Также заметим, что операция по вычислению медианы из целочисленного значения сделала его вещественным, поэтому применим метод изменения типа данных"
   ]
  },
  {
   "cell_type": "code",
   "execution_count": 20,
   "metadata": {},
   "outputs": [],
   "source": [
    "for income_type in data['income_type'].unique():\n",
    "    median = data.loc[data['income_type'] == income_type, 'dob_years'].median()\n",
    "    data.loc[(data['dob_years'] == 0) & (data['income_type'] == income_type), 'dob_years'] = median\n",
    "data['dob_years'] = data['dob_years'].astype(np.int64)"
   ]
  },
  {
   "cell_type": "markdown",
   "metadata": {},
   "source": [
    "И последний столбец, который проверим на недопустимые значения - это gender"
   ]
  },
  {
   "cell_type": "code",
   "execution_count": 21,
   "metadata": {},
   "outputs": [
    {
     "data": {
      "text/plain": [
       "F      14236\n",
       "M       7288\n",
       "XNA        1\n",
       "Name: gender, dtype: int64"
      ]
     },
     "execution_count": 21,
     "metadata": {},
     "output_type": "execute_result"
    }
   ],
   "source": [
    "data['gender'].value_counts()"
   ]
  },
  {
   "cell_type": "code",
   "execution_count": 22,
   "metadata": {},
   "outputs": [
    {
     "data": {
      "text/html": [
       "<div>\n",
       "<style scoped>\n",
       "    .dataframe tbody tr th:only-of-type {\n",
       "        vertical-align: middle;\n",
       "    }\n",
       "\n",
       "    .dataframe tbody tr th {\n",
       "        vertical-align: top;\n",
       "    }\n",
       "\n",
       "    .dataframe thead th {\n",
       "        text-align: right;\n",
       "    }\n",
       "</style>\n",
       "<table border=\"1\" class=\"dataframe\">\n",
       "  <thead>\n",
       "    <tr style=\"text-align: right;\">\n",
       "      <th></th>\n",
       "      <th>children</th>\n",
       "      <th>days_employed</th>\n",
       "      <th>dob_years</th>\n",
       "      <th>education</th>\n",
       "      <th>education_id</th>\n",
       "      <th>family_status</th>\n",
       "      <th>family_status_id</th>\n",
       "      <th>gender</th>\n",
       "      <th>income_type</th>\n",
       "      <th>debt</th>\n",
       "      <th>total_income</th>\n",
       "      <th>purpose</th>\n",
       "    </tr>\n",
       "  </thead>\n",
       "  <tbody>\n",
       "    <tr>\n",
       "      <td>10701</td>\n",
       "      <td>0</td>\n",
       "      <td>2358.600502</td>\n",
       "      <td>24</td>\n",
       "      <td>неоконченное высшее</td>\n",
       "      <td>2</td>\n",
       "      <td>гражданский брак</td>\n",
       "      <td>1</td>\n",
       "      <td>XNA</td>\n",
       "      <td>компаньон</td>\n",
       "      <td>0</td>\n",
       "      <td>203905</td>\n",
       "      <td>покупка недвижимости</td>\n",
       "    </tr>\n",
       "  </tbody>\n",
       "</table>\n",
       "</div>"
      ],
      "text/plain": [
       "       children  days_employed  dob_years            education  education_id  \\\n",
       "10701         0    2358.600502         24  неоконченное высшее             2   \n",
       "\n",
       "          family_status  family_status_id gender income_type  debt  \\\n",
       "10701  гражданский брак                 1    XNA   компаньон     0   \n",
       "\n",
       "       total_income               purpose  \n",
       "10701        203905  покупка недвижимости  "
      ]
     },
     "execution_count": 22,
     "metadata": {},
     "output_type": "execute_result"
    }
   ],
   "source": [
    "data[data['gender'] == 'XNA']"
   ]
  },
  {
   "cell_type": "markdown",
   "metadata": {},
   "source": [
    "Прежде чем делать выводы, нужно сходить к разработчикам и спросить, означает ли XNA что-нибудь или это пропуск значения. Учитывая, что такое значение единично и мы не знаем из какой страны кредитор, то, если данные из кредитора, находящегося в государстве где возможно деление не только на male и female, то анализ становится все интереснее"
   ]
  },
  {
   "cell_type": "markdown",
   "metadata": {},
   "source": [
    "### Вывод"
   ]
  },
  {
   "cell_type": "markdown",
   "metadata": {},
   "source": [
    "Перед началом обработки данных нужно глубоко вздохнуть, выписать вопросы на которые необходимо ответить и понять, какие данные понадобятся для анализа (какие данные помогут ответить на поставленные вопросы), а какие нет. И проводить обработку только необходимых в дальнейшем для анализа данных. "
   ]
  },
  {
   "cell_type": "markdown",
   "metadata": {},
   "source": [
    "### Шаг 4. Обработаем дубликаты <a id=\"duplicated\"></a>"
   ]
  },
  {
   "cell_type": "markdown",
   "metadata": {},
   "source": [
    "Проверим данные на дубликаты, для этого вызовем метод .duplicated() применительно ко всем данным и посчитаем сумму таких строк"
   ]
  },
  {
   "cell_type": "code",
   "execution_count": 23,
   "metadata": {},
   "outputs": [
    {
     "data": {
      "text/plain": [
       "71"
      ]
     },
     "execution_count": 23,
     "metadata": {},
     "output_type": "execute_result"
    }
   ],
   "source": [
    "data.duplicated().sum()"
   ]
  },
  {
   "cell_type": "markdown",
   "metadata": {},
   "source": [
    "Повторяющиеся строки имеются, количество их небольшое для обработки дубликатов удалим дублирующиеся строки и сделаем переиндесацию датафрейма. Проверим количество дублирующихся строк после обработки дубликатов"
   ]
  },
  {
   "cell_type": "code",
   "execution_count": 24,
   "metadata": {},
   "outputs": [
    {
     "data": {
      "text/plain": [
       "0"
      ]
     },
     "execution_count": 24,
     "metadata": {},
     "output_type": "execute_result"
    }
   ],
   "source": [
    "data = data.drop_duplicates().reset_index(drop = True)\n",
    "data.duplicated().sum()"
   ]
  },
  {
   "cell_type": "markdown",
   "metadata": {},
   "source": [
    "Напишем гипотезы появления дубликатов в данных:\n",
    "1. В БД хранится информация о заемщиках очень долго.\n",
    "В таком случае, если один и тот же человек взял несколько кредитов за некоторый период времени, то в БД будет несколько записей о нем. \n",
    "\n",
    "2. В процессе предобработки данных мы сами создали дублирующиеся строки\n",
    "Заполняя столбцы `days_employed` и `total_income` медианными значениями мы могли создать совпадающие строки (дубликаты). \n",
    "\n",
    "*Комментарий для проверяющего:\n",
    "Ради эксперимента я вернулась в самое начало кода и после чтения файла посчитала количество дублирующихся строк, их число равно 0, что подтверждает гипотезу 2*"
   ]
  },
  {
   "cell_type": "markdown",
   "metadata": {},
   "source": [
    "### Вывод"
   ]
  },
  {
   "cell_type": "markdown",
   "metadata": {},
   "source": [
    "К удалению дубликатов необходимо относиться с осторожностью. В текущем проекте дубликаты были удалены, но если посмотреть с другой стороны, их количество настолько мало (54), что в случае оставления дубликатов на результат данной работы это не должно повлиять. \n",
    "\n",
    "В текущей выгрузке нет четких индивидуальных для каждого заемщика характеристики (например, id заемщика, номер паспорта и т.п.) поэтому невозможно до конца утверждать, что найденные дубликаты действительно являются дубликатами. Когда нет до конца уверенности, лучше оставить найденные \"дубликаты\" в таблице."
   ]
  },
  {
   "cell_type": "markdown",
   "metadata": {},
   "source": [
    "### Шаг 5. Лемматизация <a id=\"lemmatize\"></a>"
   ]
  },
  {
   "cell_type": "markdown",
   "metadata": {},
   "source": [
    "Воспользуемся методом `Mystem()` из библиотеки `pymystem3` для нахождения лемм в столбце `purpose`.\n",
    "\n",
    "Создадим новый столбец `purpose_lemma` и поместим туда список лемм значений столбца `purpose`\n",
    "\n",
    "Выведем первые 5 строк таблицы для просмотра результата выполнения кода"
   ]
  },
  {
   "cell_type": "code",
   "execution_count": 25,
   "metadata": {},
   "outputs": [
    {
     "data": {
      "text/html": [
       "<div>\n",
       "<style scoped>\n",
       "    .dataframe tbody tr th:only-of-type {\n",
       "        vertical-align: middle;\n",
       "    }\n",
       "\n",
       "    .dataframe tbody tr th {\n",
       "        vertical-align: top;\n",
       "    }\n",
       "\n",
       "    .dataframe thead th {\n",
       "        text-align: right;\n",
       "    }\n",
       "</style>\n",
       "<table border=\"1\" class=\"dataframe\">\n",
       "  <thead>\n",
       "    <tr style=\"text-align: right;\">\n",
       "      <th></th>\n",
       "      <th>children</th>\n",
       "      <th>days_employed</th>\n",
       "      <th>dob_years</th>\n",
       "      <th>education</th>\n",
       "      <th>education_id</th>\n",
       "      <th>family_status</th>\n",
       "      <th>family_status_id</th>\n",
       "      <th>gender</th>\n",
       "      <th>income_type</th>\n",
       "      <th>debt</th>\n",
       "      <th>total_income</th>\n",
       "      <th>purpose</th>\n",
       "      <th>purpose_lemma</th>\n",
       "    </tr>\n",
       "  </thead>\n",
       "  <tbody>\n",
       "    <tr>\n",
       "      <td>0</td>\n",
       "      <td>1</td>\n",
       "      <td>8437.673028</td>\n",
       "      <td>42</td>\n",
       "      <td>высшее</td>\n",
       "      <td>0</td>\n",
       "      <td>женат / замужем</td>\n",
       "      <td>0</td>\n",
       "      <td>F</td>\n",
       "      <td>сотрудник</td>\n",
       "      <td>0</td>\n",
       "      <td>253875</td>\n",
       "      <td>покупка жилья</td>\n",
       "      <td>[покупка,  , жилье, \\n]</td>\n",
       "    </tr>\n",
       "    <tr>\n",
       "      <td>1</td>\n",
       "      <td>1</td>\n",
       "      <td>4024.803754</td>\n",
       "      <td>36</td>\n",
       "      <td>среднее</td>\n",
       "      <td>1</td>\n",
       "      <td>женат / замужем</td>\n",
       "      <td>0</td>\n",
       "      <td>F</td>\n",
       "      <td>сотрудник</td>\n",
       "      <td>0</td>\n",
       "      <td>112080</td>\n",
       "      <td>приобретение автомобиля</td>\n",
       "      <td>[приобретение,  , автомобиль, \\n]</td>\n",
       "    </tr>\n",
       "    <tr>\n",
       "      <td>2</td>\n",
       "      <td>0</td>\n",
       "      <td>5623.422610</td>\n",
       "      <td>33</td>\n",
       "      <td>среднее</td>\n",
       "      <td>1</td>\n",
       "      <td>женат / замужем</td>\n",
       "      <td>0</td>\n",
       "      <td>M</td>\n",
       "      <td>сотрудник</td>\n",
       "      <td>0</td>\n",
       "      <td>145885</td>\n",
       "      <td>покупка жилья</td>\n",
       "      <td>[покупка,  , жилье, \\n]</td>\n",
       "    </tr>\n",
       "    <tr>\n",
       "      <td>3</td>\n",
       "      <td>3</td>\n",
       "      <td>4124.747207</td>\n",
       "      <td>32</td>\n",
       "      <td>среднее</td>\n",
       "      <td>1</td>\n",
       "      <td>женат / замужем</td>\n",
       "      <td>0</td>\n",
       "      <td>M</td>\n",
       "      <td>сотрудник</td>\n",
       "      <td>0</td>\n",
       "      <td>267628</td>\n",
       "      <td>дополнительное образование</td>\n",
       "      <td>[дополнительный,  , образование, \\n]</td>\n",
       "    </tr>\n",
       "    <tr>\n",
       "      <td>4</td>\n",
       "      <td>0</td>\n",
       "      <td>340266.072047</td>\n",
       "      <td>53</td>\n",
       "      <td>среднее</td>\n",
       "      <td>1</td>\n",
       "      <td>гражданский брак</td>\n",
       "      <td>1</td>\n",
       "      <td>F</td>\n",
       "      <td>пенсионер</td>\n",
       "      <td>0</td>\n",
       "      <td>158616</td>\n",
       "      <td>сыграть свадьбу</td>\n",
       "      <td>[сыграть,  , свадьба, \\n]</td>\n",
       "    </tr>\n",
       "  </tbody>\n",
       "</table>\n",
       "</div>"
      ],
      "text/plain": [
       "   children  days_employed  dob_years education  education_id  \\\n",
       "0         1    8437.673028         42    высшее             0   \n",
       "1         1    4024.803754         36   среднее             1   \n",
       "2         0    5623.422610         33   среднее             1   \n",
       "3         3    4124.747207         32   среднее             1   \n",
       "4         0  340266.072047         53   среднее             1   \n",
       "\n",
       "      family_status  family_status_id gender income_type  debt  total_income  \\\n",
       "0   женат / замужем                 0      F   сотрудник     0        253875   \n",
       "1   женат / замужем                 0      F   сотрудник     0        112080   \n",
       "2   женат / замужем                 0      M   сотрудник     0        145885   \n",
       "3   женат / замужем                 0      M   сотрудник     0        267628   \n",
       "4  гражданский брак                 1      F   пенсионер     0        158616   \n",
       "\n",
       "                      purpose                         purpose_lemma  \n",
       "0               покупка жилья               [покупка,  , жилье, \\n]  \n",
       "1     приобретение автомобиля     [приобретение,  , автомобиль, \\n]  \n",
       "2               покупка жилья               [покупка,  , жилье, \\n]  \n",
       "3  дополнительное образование  [дополнительный,  , образование, \\n]  \n",
       "4             сыграть свадьбу             [сыграть,  , свадьба, \\n]  "
      ]
     },
     "execution_count": 25,
     "metadata": {},
     "output_type": "execute_result"
    }
   ],
   "source": [
    "data['purpose_lemma'] = data['purpose'].apply(m.lemmatize)\n",
    "data.head()"
   ]
  },
  {
   "cell_type": "markdown",
   "metadata": {},
   "source": [
    "Выделение лемм является задачей, решение которой записано в 1 строку. Но чтобы написать эту одну строку, нужно пару раз ошибиться и еще один раз сменить стратегию:)\n",
    "\n",
    "*Комментарий для проверяющего:\n",
    "Изначально был более сложный вариант: выделила все уникальные значения из столбца purpose, затем соединила разные слова в единый текст с помощью метода join и лемматизировала уже конечный текст и методом Counter() подсчитала количество лемм. Но в следущем шаге я все равно пришла к тому, что записывала леммы в отдельный столбец в каждой строке и пришла к выводу, что я сама усложнила себе задачу, но зато это опыт:)*"
   ]
  },
  {
   "cell_type": "markdown",
   "metadata": {},
   "source": [
    "### Вывод"
   ]
  },
  {
   "cell_type": "markdown",
   "metadata": {},
   "source": [
    "Из двух способов: выполнить лемматизацию и отразить в той же строке или отразить в отдельных переменных - лучше выбрать 1 способ. Он немного дольше по времени, т.к. лемматизация проводится для более 20тыс. строк, но при других данных 1 способ покажет более точный результат. \n",
    "После определения лемм можно приступать к категоризации данных"
   ]
  },
  {
   "cell_type": "markdown",
   "metadata": {},
   "source": [
    "### Шаг 6. Категоризация данных <a id=\"cathegory\"></a>"
   ]
  },
  {
   "cell_type": "markdown",
   "metadata": {},
   "source": [
    "#### Работа со столбцом `purpose`"
   ]
  },
  {
   "cell_type": "markdown",
   "metadata": {},
   "source": [
    "Посмотрим все уникальные значения которые находятся в столбце `purpose_lemma`"
   ]
  },
  {
   "cell_type": "code",
   "execution_count": 26,
   "metadata": {},
   "outputs": [
    {
     "data": {
      "text/plain": [
       "[автомобиль, \\n]                                          972\n",
       "[свадьба, \\n]                                             791\n",
       "[на,  , проведение,  , свадьба, \\n]                       768\n",
       "[сыграть,  , свадьба, \\n]                                 765\n",
       "[операция,  , с,  , недвижимость, \\n]                     675\n",
       "[покупка,  , коммерческий,  , недвижимость, \\n]           661\n",
       "[операция,  , с,  , жилье, \\n]                            652\n",
       "[покупка,  , жилье,  , для,  , сдача, \\n]                 651\n",
       "[операция,  , с,  , коммерческий,  , недвижимость, \\n]    650\n",
       "[покупка,  , жилье, \\n]                                   646\n",
       "[жилье, \\n]                                               646\n",
       "[покупка,  , жилье,  , для,  , семья, \\n]                 638\n",
       "[строительство,  , собственный,  , недвижимость, \\n]      635\n",
       "[недвижимость, \\n]                                        633\n",
       "[операция,  , со,  , свой,  , недвижимость, \\n]           627\n",
       "[строительство,  , жилой,  , недвижимость, \\n]            624\n",
       "[покупка,  , недвижимость, \\n]                            621\n",
       "[покупка,  , свой,  , жилье, \\n]                          620\n",
       "[строительство,  , недвижимость, \\n]                      619\n",
       "[ремонт,  , жилье, \\n]                                    607\n",
       "[покупка,  , жилой,  , недвижимость, \\n]                  606\n",
       "[на,  , покупка,  , свой,  , автомобиль, \\n]              505\n",
       "[заниматься,  , высокий,  , образование, \\n]              496\n",
       "[сделка,  , с,  , подержанный,  , автомобиль, \\n]         486\n",
       "[свой,  , автомобиль, \\n]                                 478\n",
       "[на,  , покупка,  , подержать,  , автомобиль, \\n]         478\n",
       "[на,  , покупка,  , автомобиль, \\n]                       471\n",
       "[приобретение,  , автомобиль, \\n]                         461\n",
       "[дополнительный,  , образование, \\n]                      460\n",
       "[сделка,  , с,  , автомобиль, \\n]                         455\n",
       "[высокий,  , образование, \\n]                             452\n",
       "[образование, \\n]                                         447\n",
       "[получение,  , дополнительный,  , образование, \\n]        446\n",
       "[получение,  , образование, \\n]                           442\n",
       "[профильный,  , образование, \\n]                          436\n",
       "[получение,  , высокий,  , образование, \\n]               426\n",
       "[заниматься,  , образование, \\n]                          408\n",
       "Name: purpose_lemma, dtype: int64"
      ]
     },
     "execution_count": 26,
     "metadata": {},
     "output_type": "execute_result"
    }
   ],
   "source": [
    "data['purpose_lemma'].value_counts()"
   ]
  },
  {
   "cell_type": "markdown",
   "metadata": {},
   "source": [
    "Видим, что используется много синонимов для достижения одинаковых целей: приобретение жилья и покупка жилья, сыграть свадьбу и на проведение свадьбы и т.д. \n",
    "\n",
    "Выделим конкретные категории и напишем функцию, определяющую категорию по сравнению с леммой."
   ]
  },
  {
   "cell_type": "markdown",
   "metadata": {},
   "source": [
    "Выделенные категории: недвижимость, автомобиль, образование и свадьба"
   ]
  },
  {
   "cell_type": "code",
   "execution_count": 27,
   "metadata": {},
   "outputs": [],
   "source": [
    "def purpose_group(purpose):\n",
    "    if ('недвижимость' in purpose) or ('жилье' in purpose):\n",
    "        return 'недвижимость'\n",
    "    elif 'автомобиль' in purpose:\n",
    "        return 'автомобиль'\n",
    "    elif 'образование' in purpose:\n",
    "        return 'образование'\n",
    "    elif 'свадьба' in purpose:\n",
    "        return 'свадьба'\n",
    "    else:\n",
    "        return 'no cathegory'"
   ]
  },
  {
   "cell_type": "markdown",
   "metadata": {},
   "source": [
    "Категория `no cathegory` необходима для отслеживания, все ли категории мы выделили\n",
    "\n",
    "Определим категорию в новом столбце `purpose_cathegory` и выведем первые 5 строк на экран для проверки работы кода"
   ]
  },
  {
   "cell_type": "code",
   "execution_count": 28,
   "metadata": {},
   "outputs": [
    {
     "data": {
      "text/html": [
       "<div>\n",
       "<style scoped>\n",
       "    .dataframe tbody tr th:only-of-type {\n",
       "        vertical-align: middle;\n",
       "    }\n",
       "\n",
       "    .dataframe tbody tr th {\n",
       "        vertical-align: top;\n",
       "    }\n",
       "\n",
       "    .dataframe thead th {\n",
       "        text-align: right;\n",
       "    }\n",
       "</style>\n",
       "<table border=\"1\" class=\"dataframe\">\n",
       "  <thead>\n",
       "    <tr style=\"text-align: right;\">\n",
       "      <th></th>\n",
       "      <th>children</th>\n",
       "      <th>days_employed</th>\n",
       "      <th>dob_years</th>\n",
       "      <th>education</th>\n",
       "      <th>education_id</th>\n",
       "      <th>family_status</th>\n",
       "      <th>family_status_id</th>\n",
       "      <th>gender</th>\n",
       "      <th>income_type</th>\n",
       "      <th>debt</th>\n",
       "      <th>total_income</th>\n",
       "      <th>purpose</th>\n",
       "      <th>purpose_lemma</th>\n",
       "      <th>purpose_cathegory</th>\n",
       "    </tr>\n",
       "  </thead>\n",
       "  <tbody>\n",
       "    <tr>\n",
       "      <td>0</td>\n",
       "      <td>1</td>\n",
       "      <td>8437.673028</td>\n",
       "      <td>42</td>\n",
       "      <td>высшее</td>\n",
       "      <td>0</td>\n",
       "      <td>женат / замужем</td>\n",
       "      <td>0</td>\n",
       "      <td>F</td>\n",
       "      <td>сотрудник</td>\n",
       "      <td>0</td>\n",
       "      <td>253875</td>\n",
       "      <td>покупка жилья</td>\n",
       "      <td>[покупка,  , жилье, \\n]</td>\n",
       "      <td>недвижимость</td>\n",
       "    </tr>\n",
       "    <tr>\n",
       "      <td>1</td>\n",
       "      <td>1</td>\n",
       "      <td>4024.803754</td>\n",
       "      <td>36</td>\n",
       "      <td>среднее</td>\n",
       "      <td>1</td>\n",
       "      <td>женат / замужем</td>\n",
       "      <td>0</td>\n",
       "      <td>F</td>\n",
       "      <td>сотрудник</td>\n",
       "      <td>0</td>\n",
       "      <td>112080</td>\n",
       "      <td>приобретение автомобиля</td>\n",
       "      <td>[приобретение,  , автомобиль, \\n]</td>\n",
       "      <td>автомобиль</td>\n",
       "    </tr>\n",
       "    <tr>\n",
       "      <td>2</td>\n",
       "      <td>0</td>\n",
       "      <td>5623.422610</td>\n",
       "      <td>33</td>\n",
       "      <td>среднее</td>\n",
       "      <td>1</td>\n",
       "      <td>женат / замужем</td>\n",
       "      <td>0</td>\n",
       "      <td>M</td>\n",
       "      <td>сотрудник</td>\n",
       "      <td>0</td>\n",
       "      <td>145885</td>\n",
       "      <td>покупка жилья</td>\n",
       "      <td>[покупка,  , жилье, \\n]</td>\n",
       "      <td>недвижимость</td>\n",
       "    </tr>\n",
       "    <tr>\n",
       "      <td>3</td>\n",
       "      <td>3</td>\n",
       "      <td>4124.747207</td>\n",
       "      <td>32</td>\n",
       "      <td>среднее</td>\n",
       "      <td>1</td>\n",
       "      <td>женат / замужем</td>\n",
       "      <td>0</td>\n",
       "      <td>M</td>\n",
       "      <td>сотрудник</td>\n",
       "      <td>0</td>\n",
       "      <td>267628</td>\n",
       "      <td>дополнительное образование</td>\n",
       "      <td>[дополнительный,  , образование, \\n]</td>\n",
       "      <td>образование</td>\n",
       "    </tr>\n",
       "    <tr>\n",
       "      <td>4</td>\n",
       "      <td>0</td>\n",
       "      <td>340266.072047</td>\n",
       "      <td>53</td>\n",
       "      <td>среднее</td>\n",
       "      <td>1</td>\n",
       "      <td>гражданский брак</td>\n",
       "      <td>1</td>\n",
       "      <td>F</td>\n",
       "      <td>пенсионер</td>\n",
       "      <td>0</td>\n",
       "      <td>158616</td>\n",
       "      <td>сыграть свадьбу</td>\n",
       "      <td>[сыграть,  , свадьба, \\n]</td>\n",
       "      <td>свадьба</td>\n",
       "    </tr>\n",
       "  </tbody>\n",
       "</table>\n",
       "</div>"
      ],
      "text/plain": [
       "   children  days_employed  dob_years education  education_id  \\\n",
       "0         1    8437.673028         42    высшее             0   \n",
       "1         1    4024.803754         36   среднее             1   \n",
       "2         0    5623.422610         33   среднее             1   \n",
       "3         3    4124.747207         32   среднее             1   \n",
       "4         0  340266.072047         53   среднее             1   \n",
       "\n",
       "      family_status  family_status_id gender income_type  debt  total_income  \\\n",
       "0   женат / замужем                 0      F   сотрудник     0        253875   \n",
       "1   женат / замужем                 0      F   сотрудник     0        112080   \n",
       "2   женат / замужем                 0      M   сотрудник     0        145885   \n",
       "3   женат / замужем                 0      M   сотрудник     0        267628   \n",
       "4  гражданский брак                 1      F   пенсионер     0        158616   \n",
       "\n",
       "                      purpose                         purpose_lemma  \\\n",
       "0               покупка жилья               [покупка,  , жилье, \\n]   \n",
       "1     приобретение автомобиля     [приобретение,  , автомобиль, \\n]   \n",
       "2               покупка жилья               [покупка,  , жилье, \\n]   \n",
       "3  дополнительное образование  [дополнительный,  , образование, \\n]   \n",
       "4             сыграть свадьбу             [сыграть,  , свадьба, \\n]   \n",
       "\n",
       "  purpose_cathegory  \n",
       "0      недвижимость  \n",
       "1        автомобиль  \n",
       "2      недвижимость  \n",
       "3       образование  \n",
       "4           свадьба  "
      ]
     },
     "execution_count": 28,
     "metadata": {},
     "output_type": "execute_result"
    }
   ],
   "source": [
    "data['purpose_cathegory'] = data['purpose_lemma'].apply(purpose_group)\n",
    "data.head()"
   ]
  },
  {
   "cell_type": "markdown",
   "metadata": {},
   "source": [
    "Проверим, нет ли не выделенных категорий"
   ]
  },
  {
   "cell_type": "code",
   "execution_count": 29,
   "metadata": {},
   "outputs": [
    {
     "data": {
      "text/html": [
       "<div>\n",
       "<style scoped>\n",
       "    .dataframe tbody tr th:only-of-type {\n",
       "        vertical-align: middle;\n",
       "    }\n",
       "\n",
       "    .dataframe tbody tr th {\n",
       "        vertical-align: top;\n",
       "    }\n",
       "\n",
       "    .dataframe thead th {\n",
       "        text-align: right;\n",
       "    }\n",
       "</style>\n",
       "<table border=\"1\" class=\"dataframe\">\n",
       "  <thead>\n",
       "    <tr style=\"text-align: right;\">\n",
       "      <th></th>\n",
       "      <th>children</th>\n",
       "      <th>days_employed</th>\n",
       "      <th>dob_years</th>\n",
       "      <th>education</th>\n",
       "      <th>education_id</th>\n",
       "      <th>family_status</th>\n",
       "      <th>family_status_id</th>\n",
       "      <th>gender</th>\n",
       "      <th>income_type</th>\n",
       "      <th>debt</th>\n",
       "      <th>total_income</th>\n",
       "      <th>purpose</th>\n",
       "      <th>purpose_lemma</th>\n",
       "      <th>purpose_cathegory</th>\n",
       "    </tr>\n",
       "  </thead>\n",
       "  <tbody>\n",
       "  </tbody>\n",
       "</table>\n",
       "</div>"
      ],
      "text/plain": [
       "Empty DataFrame\n",
       "Columns: [children, days_employed, dob_years, education, education_id, family_status, family_status_id, gender, income_type, debt, total_income, purpose, purpose_lemma, purpose_cathegory]\n",
       "Index: []"
      ]
     },
     "execution_count": 29,
     "metadata": {},
     "output_type": "execute_result"
    }
   ],
   "source": [
    "data[data['purpose_cathegory'] == 'no cathegory']"
   ]
  },
  {
   "cell_type": "markdown",
   "metadata": {},
   "source": [
    "Невыявленных категорий нет.  \n",
    "Таблица, после добавления 3 столбцов с текстовыми значениями стала объемней. В случае, когда текста будет не 2-3 слова, читаемость такой таблицы уменьшится.  \n",
    "Выделим столбцы, связанные с целью взятия кредита в отдельную таблицу и присвоим каждой цели свои уникальный номер id"
   ]
  },
  {
   "cell_type": "code",
   "execution_count": 30,
   "metadata": {},
   "outputs": [
    {
     "data": {
      "text/html": [
       "<div>\n",
       "<style scoped>\n",
       "    .dataframe tbody tr th:only-of-type {\n",
       "        vertical-align: middle;\n",
       "    }\n",
       "\n",
       "    .dataframe tbody tr th {\n",
       "        vertical-align: top;\n",
       "    }\n",
       "\n",
       "    .dataframe thead th {\n",
       "        text-align: right;\n",
       "    }\n",
       "</style>\n",
       "<table border=\"1\" class=\"dataframe\">\n",
       "  <thead>\n",
       "    <tr style=\"text-align: right;\">\n",
       "      <th></th>\n",
       "      <th>purpose</th>\n",
       "      <th>purpose_lemma</th>\n",
       "      <th>purpose_cathegory</th>\n",
       "      <th>purpose_id</th>\n",
       "    </tr>\n",
       "  </thead>\n",
       "  <tbody>\n",
       "    <tr>\n",
       "      <td>0</td>\n",
       "      <td>покупка жилья</td>\n",
       "      <td>[покупка,  , жилье, \\n]</td>\n",
       "      <td>недвижимость</td>\n",
       "      <td>1</td>\n",
       "    </tr>\n",
       "    <tr>\n",
       "      <td>1</td>\n",
       "      <td>приобретение автомобиля</td>\n",
       "      <td>[приобретение,  , автомобиль, \\n]</td>\n",
       "      <td>автомобиль</td>\n",
       "      <td>2</td>\n",
       "    </tr>\n",
       "    <tr>\n",
       "      <td>2</td>\n",
       "      <td>покупка жилья</td>\n",
       "      <td>[покупка,  , жилье, \\n]</td>\n",
       "      <td>недвижимость</td>\n",
       "      <td>1</td>\n",
       "    </tr>\n",
       "    <tr>\n",
       "      <td>3</td>\n",
       "      <td>дополнительное образование</td>\n",
       "      <td>[дополнительный,  , образование, \\n]</td>\n",
       "      <td>образование</td>\n",
       "      <td>3</td>\n",
       "    </tr>\n",
       "    <tr>\n",
       "      <td>4</td>\n",
       "      <td>сыграть свадьбу</td>\n",
       "      <td>[сыграть,  , свадьба, \\n]</td>\n",
       "      <td>свадьба</td>\n",
       "      <td>4</td>\n",
       "    </tr>\n",
       "  </tbody>\n",
       "</table>\n",
       "</div>"
      ],
      "text/plain": [
       "                      purpose                         purpose_lemma  \\\n",
       "0               покупка жилья               [покупка,  , жилье, \\n]   \n",
       "1     приобретение автомобиля     [приобретение,  , автомобиль, \\n]   \n",
       "2               покупка жилья               [покупка,  , жилье, \\n]   \n",
       "3  дополнительное образование  [дополнительный,  , образование, \\n]   \n",
       "4             сыграть свадьбу             [сыграть,  , свадьба, \\n]   \n",
       "\n",
       "  purpose_cathegory purpose_id  \n",
       "0      недвижимость          1  \n",
       "1        автомобиль          2  \n",
       "2      недвижимость          1  \n",
       "3       образование          3  \n",
       "4           свадьба          4  "
      ]
     },
     "execution_count": 30,
     "metadata": {},
     "output_type": "execute_result"
    }
   ],
   "source": [
    "purpose_data = data[['purpose', 'purpose_lemma', 'purpose_cathegory']]\n",
    "\n",
    "def purpose_id_func(cathegory):\n",
    "    if 'недвижимость' in cathegory:\n",
    "        return '1'\n",
    "    elif 'автомобиль' in cathegory:\n",
    "        return '2'\n",
    "    elif 'образование' in cathegory:\n",
    "        return '3'\n",
    "    elif 'свадьба' in cathegory:\n",
    "        return '4'\n",
    "    \n",
    "purpose_data.loc[:, 'purpose_id'] = purpose_data['purpose_cathegory'].apply(purpose_id_func)\n",
    "purpose_data.head()"
   ]
  },
  {
   "cell_type": "markdown",
   "metadata": {},
   "source": [
    "Определим словарь для категорий целей. Создадим таблицу, состоящую из столбцов `purpose_cathegory` и `purpose_id`, удалим дубликаты в таблице-словаре и отсортируем по id. Выведем результат на экран"
   ]
  },
  {
   "cell_type": "code",
   "execution_count": 31,
   "metadata": {},
   "outputs": [
    {
     "data": {
      "text/html": [
       "<div>\n",
       "<style scoped>\n",
       "    .dataframe tbody tr th:only-of-type {\n",
       "        vertical-align: middle;\n",
       "    }\n",
       "\n",
       "    .dataframe tbody tr th {\n",
       "        vertical-align: top;\n",
       "    }\n",
       "\n",
       "    .dataframe thead th {\n",
       "        text-align: right;\n",
       "    }\n",
       "</style>\n",
       "<table border=\"1\" class=\"dataframe\">\n",
       "  <thead>\n",
       "    <tr style=\"text-align: right;\">\n",
       "      <th></th>\n",
       "      <th>purpose_cathegory</th>\n",
       "      <th>purpose_id</th>\n",
       "    </tr>\n",
       "  </thead>\n",
       "  <tbody>\n",
       "    <tr>\n",
       "      <td>0</td>\n",
       "      <td>недвижимость</td>\n",
       "      <td>1</td>\n",
       "    </tr>\n",
       "    <tr>\n",
       "      <td>1</td>\n",
       "      <td>автомобиль</td>\n",
       "      <td>2</td>\n",
       "    </tr>\n",
       "    <tr>\n",
       "      <td>2</td>\n",
       "      <td>образование</td>\n",
       "      <td>3</td>\n",
       "    </tr>\n",
       "    <tr>\n",
       "      <td>3</td>\n",
       "      <td>свадьба</td>\n",
       "      <td>4</td>\n",
       "    </tr>\n",
       "  </tbody>\n",
       "</table>\n",
       "</div>"
      ],
      "text/plain": [
       "  purpose_cathegory purpose_id\n",
       "0      недвижимость          1\n",
       "1        автомобиль          2\n",
       "2       образование          3\n",
       "3           свадьба          4"
      ]
     },
     "execution_count": 31,
     "metadata": {},
     "output_type": "execute_result"
    }
   ],
   "source": [
    "purpose_dict = purpose_data[['purpose_cathegory', 'purpose_id']]\n",
    "purpose_dict = purpose_dict.drop_duplicates().sort_values(by = 'purpose_id').reset_index(drop = True)\n",
    "purpose_dict"
   ]
  },
  {
   "cell_type": "markdown",
   "metadata": {},
   "source": [
    "Присоединим столбец `purpose_id` к основной таблице.  \n",
    "Также уменьшим количество данных в основной таблице `data`"
   ]
  },
  {
   "cell_type": "code",
   "execution_count": 32,
   "metadata": {},
   "outputs": [],
   "source": [
    "data = data.merge(purpose_dict, on = 'purpose_cathegory', how = 'right')"
   ]
  },
  {
   "cell_type": "code",
   "execution_count": 33,
   "metadata": {},
   "outputs": [
    {
     "data": {
      "text/html": [
       "<div>\n",
       "<style scoped>\n",
       "    .dataframe tbody tr th:only-of-type {\n",
       "        vertical-align: middle;\n",
       "    }\n",
       "\n",
       "    .dataframe tbody tr th {\n",
       "        vertical-align: top;\n",
       "    }\n",
       "\n",
       "    .dataframe thead th {\n",
       "        text-align: right;\n",
       "    }\n",
       "</style>\n",
       "<table border=\"1\" class=\"dataframe\">\n",
       "  <thead>\n",
       "    <tr style=\"text-align: right;\">\n",
       "      <th></th>\n",
       "      <th>children</th>\n",
       "      <th>days_employed</th>\n",
       "      <th>dob_years</th>\n",
       "      <th>education</th>\n",
       "      <th>education_id</th>\n",
       "      <th>family_status</th>\n",
       "      <th>family_status_id</th>\n",
       "      <th>gender</th>\n",
       "      <th>income_type</th>\n",
       "      <th>debt</th>\n",
       "      <th>total_income</th>\n",
       "      <th>purpose_id</th>\n",
       "    </tr>\n",
       "  </thead>\n",
       "  <tbody>\n",
       "    <tr>\n",
       "      <td>0</td>\n",
       "      <td>1</td>\n",
       "      <td>8437.673028</td>\n",
       "      <td>42</td>\n",
       "      <td>высшее</td>\n",
       "      <td>0</td>\n",
       "      <td>женат / замужем</td>\n",
       "      <td>0</td>\n",
       "      <td>F</td>\n",
       "      <td>сотрудник</td>\n",
       "      <td>0</td>\n",
       "      <td>253875</td>\n",
       "      <td>1</td>\n",
       "    </tr>\n",
       "    <tr>\n",
       "      <td>1</td>\n",
       "      <td>0</td>\n",
       "      <td>5623.422610</td>\n",
       "      <td>33</td>\n",
       "      <td>среднее</td>\n",
       "      <td>1</td>\n",
       "      <td>женат / замужем</td>\n",
       "      <td>0</td>\n",
       "      <td>M</td>\n",
       "      <td>сотрудник</td>\n",
       "      <td>0</td>\n",
       "      <td>145885</td>\n",
       "      <td>1</td>\n",
       "    </tr>\n",
       "    <tr>\n",
       "      <td>2</td>\n",
       "      <td>0</td>\n",
       "      <td>926.185831</td>\n",
       "      <td>27</td>\n",
       "      <td>высшее</td>\n",
       "      <td>0</td>\n",
       "      <td>гражданский брак</td>\n",
       "      <td>1</td>\n",
       "      <td>M</td>\n",
       "      <td>компаньон</td>\n",
       "      <td>0</td>\n",
       "      <td>255763</td>\n",
       "      <td>1</td>\n",
       "    </tr>\n",
       "    <tr>\n",
       "      <td>3</td>\n",
       "      <td>0</td>\n",
       "      <td>2879.202052</td>\n",
       "      <td>43</td>\n",
       "      <td>высшее</td>\n",
       "      <td>0</td>\n",
       "      <td>женат / замужем</td>\n",
       "      <td>0</td>\n",
       "      <td>F</td>\n",
       "      <td>компаньон</td>\n",
       "      <td>0</td>\n",
       "      <td>240525</td>\n",
       "      <td>1</td>\n",
       "    </tr>\n",
       "    <tr>\n",
       "      <td>4</td>\n",
       "      <td>0</td>\n",
       "      <td>2188.756445</td>\n",
       "      <td>41</td>\n",
       "      <td>среднее</td>\n",
       "      <td>1</td>\n",
       "      <td>женат / замужем</td>\n",
       "      <td>0</td>\n",
       "      <td>M</td>\n",
       "      <td>сотрудник</td>\n",
       "      <td>0</td>\n",
       "      <td>144425</td>\n",
       "      <td>1</td>\n",
       "    </tr>\n",
       "  </tbody>\n",
       "</table>\n",
       "</div>"
      ],
      "text/plain": [
       "   children  days_employed  dob_years education  education_id  \\\n",
       "0         1    8437.673028         42    высшее             0   \n",
       "1         0    5623.422610         33   среднее             1   \n",
       "2         0     926.185831         27    высшее             0   \n",
       "3         0    2879.202052         43    высшее             0   \n",
       "4         0    2188.756445         41   среднее             1   \n",
       "\n",
       "      family_status  family_status_id gender income_type  debt  total_income  \\\n",
       "0   женат / замужем                 0      F   сотрудник     0        253875   \n",
       "1   женат / замужем                 0      M   сотрудник     0        145885   \n",
       "2  гражданский брак                 1      M   компаньон     0        255763   \n",
       "3   женат / замужем                 0      F   компаньон     0        240525   \n",
       "4   женат / замужем                 0      M   сотрудник     0        144425   \n",
       "\n",
       "  purpose_id  \n",
       "0          1  \n",
       "1          1  \n",
       "2          1  \n",
       "3          1  \n",
       "4          1  "
      ]
     },
     "execution_count": 33,
     "metadata": {},
     "output_type": "execute_result"
    }
   ],
   "source": [
    "data = data[['children', 'days_employed', 'dob_years', 'education', 'education_id',\n",
    "       'family_status', 'family_status_id', 'gender', 'income_type', 'debt',\n",
    "       'total_income', 'purpose_id']]\n",
    "\n",
    "data.head()"
   ]
  },
  {
   "cell_type": "markdown",
   "metadata": {},
   "source": [
    "После применения метода merge() основная таблица была отсортирована, но с данными все в порядке.  \n",
    "Сортивка предположительно проведена по встречаемости категории. Видимо метод merge работает последовательно, т.е. первая строка в столбце `purpose_cathegory` была `жилье` и, предполагаю, что первые n-строк в соединенной таблице будут строки категории `жилье`.  \n",
    "Таким образом в таблице `data` данные отсортированы по категориям. "
   ]
  },
  {
   "cell_type": "markdown",
   "metadata": {},
   "source": [
    "Благодаря использованию таблиц-словарей мы уменьшили объем таблицы. Подобно действиям со столбцом `purpose` можно выделить словари для столбцов `education, education_id` и `family_status, family_status_id`  "
   ]
  },
  {
   "cell_type": "markdown",
   "metadata": {},
   "source": [
    "#### Работа со столбцами `education` и `family_status`"
   ]
  },
  {
   "cell_type": "markdown",
   "metadata": {},
   "source": [
    "Выделим словари для `education` и `family_status`. \n",
    "Мы знаем, что значения в столбце `education` имеет разный регистр:"
   ]
  },
  {
   "cell_type": "code",
   "execution_count": 34,
   "metadata": {},
   "outputs": [
    {
     "data": {
      "text/plain": [
       "среднее                15172\n",
       "высшее                  5250\n",
       "неоконченное высшее      744\n",
       "начальное                282\n",
       "ученая степень             6\n",
       "Name: education, dtype: int64"
      ]
     },
     "execution_count": 34,
     "metadata": {},
     "output_type": "execute_result"
    }
   ],
   "source": [
    "data['education'].value_counts()"
   ]
  },
  {
   "cell_type": "markdown",
   "metadata": {},
   "source": [
    "С помощью метода str.lower() приведем к общему нижнему решистру значения столбца `education`"
   ]
  },
  {
   "cell_type": "code",
   "execution_count": 35,
   "metadata": {},
   "outputs": [
    {
     "data": {
      "text/plain": [
       "среднее                15172\n",
       "высшее                  5250\n",
       "неоконченное высшее      744\n",
       "начальное                282\n",
       "ученая степень             6\n",
       "Name: education, dtype: int64"
      ]
     },
     "execution_count": 35,
     "metadata": {},
     "output_type": "execute_result"
    }
   ],
   "source": [
    "data['education'].value_counts()"
   ]
  },
  {
   "cell_type": "markdown",
   "metadata": {},
   "source": [
    "Проверим значения столбца `family_status`"
   ]
  },
  {
   "cell_type": "code",
   "execution_count": 36,
   "metadata": {},
   "outputs": [
    {
     "data": {
      "text/plain": [
       "женат / замужем          12339\n",
       "гражданский брак          4151\n",
       "Не женат / не замужем     2810\n",
       "в разводе                 1195\n",
       "вдовец / вдова             959\n",
       "Name: family_status, dtype: int64"
      ]
     },
     "execution_count": 36,
     "metadata": {},
     "output_type": "execute_result"
    }
   ],
   "source": [
    "data['family_status'].value_counts()"
   ]
  },
  {
   "cell_type": "markdown",
   "metadata": {},
   "source": [
    "Выделяем отдельные словари и уменьшаем объем основной таблицы.  \n",
    "Выведем результат на экран (первые 10 строк)"
   ]
  },
  {
   "cell_type": "code",
   "execution_count": 37,
   "metadata": {},
   "outputs": [],
   "source": [
    "education_dict = data[['education', 'education_id']]\n",
    "education_dict = education_dict.drop_duplicates().sort_values(by = 'education_id').reset_index(drop = True)\n",
    "\n",
    "family_status_dict = data[['family_status', 'family_status_id']]\n",
    "family_status_dict = family_status_dict.drop_duplicates().sort_values(by = 'family_status_id').reset_index(drop = True)\n",
    "\n",
    "data = data[['children', 'days_employed', 'dob_years', 'education_id',\n",
    "       'family_status_id', 'gender', 'income_type', 'debt',\n",
    "       'total_income', 'purpose_id']]"
   ]
  },
  {
   "cell_type": "code",
   "execution_count": 38,
   "metadata": {},
   "outputs": [
    {
     "data": {
      "text/html": [
       "<div>\n",
       "<style scoped>\n",
       "    .dataframe tbody tr th:only-of-type {\n",
       "        vertical-align: middle;\n",
       "    }\n",
       "\n",
       "    .dataframe tbody tr th {\n",
       "        vertical-align: top;\n",
       "    }\n",
       "\n",
       "    .dataframe thead th {\n",
       "        text-align: right;\n",
       "    }\n",
       "</style>\n",
       "<table border=\"1\" class=\"dataframe\">\n",
       "  <thead>\n",
       "    <tr style=\"text-align: right;\">\n",
       "      <th></th>\n",
       "      <th>children</th>\n",
       "      <th>days_employed</th>\n",
       "      <th>dob_years</th>\n",
       "      <th>education_id</th>\n",
       "      <th>family_status_id</th>\n",
       "      <th>gender</th>\n",
       "      <th>income_type</th>\n",
       "      <th>debt</th>\n",
       "      <th>total_income</th>\n",
       "      <th>purpose_id</th>\n",
       "    </tr>\n",
       "  </thead>\n",
       "  <tbody>\n",
       "    <tr>\n",
       "      <td>0</td>\n",
       "      <td>1</td>\n",
       "      <td>8437.673028</td>\n",
       "      <td>42</td>\n",
       "      <td>0</td>\n",
       "      <td>0</td>\n",
       "      <td>F</td>\n",
       "      <td>сотрудник</td>\n",
       "      <td>0</td>\n",
       "      <td>253875</td>\n",
       "      <td>1</td>\n",
       "    </tr>\n",
       "    <tr>\n",
       "      <td>1</td>\n",
       "      <td>0</td>\n",
       "      <td>5623.422610</td>\n",
       "      <td>33</td>\n",
       "      <td>1</td>\n",
       "      <td>0</td>\n",
       "      <td>M</td>\n",
       "      <td>сотрудник</td>\n",
       "      <td>0</td>\n",
       "      <td>145885</td>\n",
       "      <td>1</td>\n",
       "    </tr>\n",
       "    <tr>\n",
       "      <td>2</td>\n",
       "      <td>0</td>\n",
       "      <td>926.185831</td>\n",
       "      <td>27</td>\n",
       "      <td>0</td>\n",
       "      <td>1</td>\n",
       "      <td>M</td>\n",
       "      <td>компаньон</td>\n",
       "      <td>0</td>\n",
       "      <td>255763</td>\n",
       "      <td>1</td>\n",
       "    </tr>\n",
       "    <tr>\n",
       "      <td>3</td>\n",
       "      <td>0</td>\n",
       "      <td>2879.202052</td>\n",
       "      <td>43</td>\n",
       "      <td>0</td>\n",
       "      <td>0</td>\n",
       "      <td>F</td>\n",
       "      <td>компаньон</td>\n",
       "      <td>0</td>\n",
       "      <td>240525</td>\n",
       "      <td>1</td>\n",
       "    </tr>\n",
       "    <tr>\n",
       "      <td>4</td>\n",
       "      <td>0</td>\n",
       "      <td>2188.756445</td>\n",
       "      <td>41</td>\n",
       "      <td>1</td>\n",
       "      <td>0</td>\n",
       "      <td>M</td>\n",
       "      <td>сотрудник</td>\n",
       "      <td>0</td>\n",
       "      <td>144425</td>\n",
       "      <td>1</td>\n",
       "    </tr>\n",
       "    <tr>\n",
       "      <td>5</td>\n",
       "      <td>2</td>\n",
       "      <td>4171.483647</td>\n",
       "      <td>36</td>\n",
       "      <td>0</td>\n",
       "      <td>0</td>\n",
       "      <td>M</td>\n",
       "      <td>компаньон</td>\n",
       "      <td>0</td>\n",
       "      <td>113943</td>\n",
       "      <td>1</td>\n",
       "    </tr>\n",
       "    <tr>\n",
       "      <td>6</td>\n",
       "      <td>0</td>\n",
       "      <td>792.701887</td>\n",
       "      <td>40</td>\n",
       "      <td>1</td>\n",
       "      <td>0</td>\n",
       "      <td>F</td>\n",
       "      <td>сотрудник</td>\n",
       "      <td>0</td>\n",
       "      <td>77069</td>\n",
       "      <td>1</td>\n",
       "    </tr>\n",
       "    <tr>\n",
       "      <td>7</td>\n",
       "      <td>0</td>\n",
       "      <td>1844.956182</td>\n",
       "      <td>56</td>\n",
       "      <td>0</td>\n",
       "      <td>1</td>\n",
       "      <td>F</td>\n",
       "      <td>компаньон</td>\n",
       "      <td>1</td>\n",
       "      <td>165127</td>\n",
       "      <td>1</td>\n",
       "    </tr>\n",
       "    <tr>\n",
       "      <td>8</td>\n",
       "      <td>1</td>\n",
       "      <td>972.364419</td>\n",
       "      <td>26</td>\n",
       "      <td>1</td>\n",
       "      <td>0</td>\n",
       "      <td>F</td>\n",
       "      <td>сотрудник</td>\n",
       "      <td>0</td>\n",
       "      <td>116820</td>\n",
       "      <td>1</td>\n",
       "    </tr>\n",
       "    <tr>\n",
       "      <td>9</td>\n",
       "      <td>0</td>\n",
       "      <td>1719.934226</td>\n",
       "      <td>35</td>\n",
       "      <td>1</td>\n",
       "      <td>0</td>\n",
       "      <td>F</td>\n",
       "      <td>сотрудник</td>\n",
       "      <td>0</td>\n",
       "      <td>289202</td>\n",
       "      <td>1</td>\n",
       "    </tr>\n",
       "  </tbody>\n",
       "</table>\n",
       "</div>"
      ],
      "text/plain": [
       "   children  days_employed  dob_years  education_id  family_status_id gender  \\\n",
       "0         1    8437.673028         42             0                 0      F   \n",
       "1         0    5623.422610         33             1                 0      M   \n",
       "2         0     926.185831         27             0                 1      M   \n",
       "3         0    2879.202052         43             0                 0      F   \n",
       "4         0    2188.756445         41             1                 0      M   \n",
       "5         2    4171.483647         36             0                 0      M   \n",
       "6         0     792.701887         40             1                 0      F   \n",
       "7         0    1844.956182         56             0                 1      F   \n",
       "8         1     972.364419         26             1                 0      F   \n",
       "9         0    1719.934226         35             1                 0      F   \n",
       "\n",
       "  income_type  debt  total_income purpose_id  \n",
       "0   сотрудник     0        253875          1  \n",
       "1   сотрудник     0        145885          1  \n",
       "2   компаньон     0        255763          1  \n",
       "3   компаньон     0        240525          1  \n",
       "4   сотрудник     0        144425          1  \n",
       "5   компаньон     0        113943          1  \n",
       "6   сотрудник     0         77069          1  \n",
       "7   компаньон     1        165127          1  \n",
       "8   сотрудник     0        116820          1  \n",
       "9   сотрудник     0        289202          1  "
      ]
     },
     "execution_count": 38,
     "metadata": {},
     "output_type": "execute_result"
    }
   ],
   "source": [
    "data.head(10)"
   ]
  },
  {
   "cell_type": "markdown",
   "metadata": {},
   "source": [
    "### Вывод"
   ]
  },
  {
   "cell_type": "markdown",
   "metadata": {},
   "source": [
    "Основная таблица имеет читаемый вид и первично-обработанные данные. Теперь можно приступать к аналитике, чтобы ответить на поставленные вопросы о влиянии различных факторов на погашение кредита в срок."
   ]
  },
  {
   "cell_type": "markdown",
   "metadata": {},
   "source": [
    "## 3. Анализ данных <a id=\"analysis\"></a>"
   ]
  },
  {
   "cell_type": "markdown",
   "metadata": {},
   "source": [
    "## Зависимость между наличием детей и возвратом кредита в срок <a id=\"question1\"></a>"
   ]
  },
  {
   "cell_type": "markdown",
   "metadata": {},
   "source": [
    "Посмотрим на уникальность значений в столбцах `children` и `debt`"
   ]
  },
  {
   "cell_type": "code",
   "execution_count": 39,
   "metadata": {},
   "outputs": [
    {
     "data": {
      "text/plain": [
       "0     14138\n",
       "1      4808\n",
       "2      2052\n",
       "3       330\n",
       "20       76\n",
       "4        41\n",
       "5         9\n",
       "Name: children, dtype: int64"
      ]
     },
     "execution_count": 39,
     "metadata": {},
     "output_type": "execute_result"
    }
   ],
   "source": [
    "data['children'].value_counts()"
   ]
  },
  {
   "cell_type": "code",
   "execution_count": 40,
   "metadata": {},
   "outputs": [
    {
     "data": {
      "text/plain": [
       "0    19713\n",
       "1     1741\n",
       "Name: debt, dtype: int64"
      ]
     },
     "execution_count": 40,
     "metadata": {},
     "output_type": "execute_result"
    }
   ],
   "source": [
    "data['debt'].value_counts()"
   ]
  },
  {
   "cell_type": "markdown",
   "metadata": {},
   "source": [
    "Сгруппируем данные по столбцам `children` и `debt`, посчитаем общее количество должников и тех, кто проводит выплаты вовремя"
   ]
  },
  {
   "cell_type": "code",
   "execution_count": 41,
   "metadata": {},
   "outputs": [
    {
     "data": {
      "text/html": [
       "<div>\n",
       "<style scoped>\n",
       "    .dataframe tbody tr th:only-of-type {\n",
       "        vertical-align: middle;\n",
       "    }\n",
       "\n",
       "    .dataframe tbody tr th {\n",
       "        vertical-align: top;\n",
       "    }\n",
       "\n",
       "    .dataframe thead th {\n",
       "        text-align: right;\n",
       "    }\n",
       "</style>\n",
       "<table border=\"1\" class=\"dataframe\">\n",
       "  <thead>\n",
       "    <tr style=\"text-align: right;\">\n",
       "      <th></th>\n",
       "      <th></th>\n",
       "      <th>debt</th>\n",
       "    </tr>\n",
       "    <tr>\n",
       "      <th>children</th>\n",
       "      <th>debt</th>\n",
       "      <th></th>\n",
       "    </tr>\n",
       "  </thead>\n",
       "  <tbody>\n",
       "    <tr>\n",
       "      <td rowspan=\"2\" valign=\"top\">0</td>\n",
       "      <td>0</td>\n",
       "      <td>13074</td>\n",
       "    </tr>\n",
       "    <tr>\n",
       "      <td>1</td>\n",
       "      <td>1064</td>\n",
       "    </tr>\n",
       "    <tr>\n",
       "      <td rowspan=\"2\" valign=\"top\">1</td>\n",
       "      <td>0</td>\n",
       "      <td>4364</td>\n",
       "    </tr>\n",
       "    <tr>\n",
       "      <td>1</td>\n",
       "      <td>444</td>\n",
       "    </tr>\n",
       "    <tr>\n",
       "      <td rowspan=\"2\" valign=\"top\">2</td>\n",
       "      <td>0</td>\n",
       "      <td>1858</td>\n",
       "    </tr>\n",
       "    <tr>\n",
       "      <td>1</td>\n",
       "      <td>194</td>\n",
       "    </tr>\n",
       "    <tr>\n",
       "      <td rowspan=\"2\" valign=\"top\">3</td>\n",
       "      <td>0</td>\n",
       "      <td>303</td>\n",
       "    </tr>\n",
       "    <tr>\n",
       "      <td>1</td>\n",
       "      <td>27</td>\n",
       "    </tr>\n",
       "    <tr>\n",
       "      <td rowspan=\"2\" valign=\"top\">4</td>\n",
       "      <td>0</td>\n",
       "      <td>37</td>\n",
       "    </tr>\n",
       "    <tr>\n",
       "      <td>1</td>\n",
       "      <td>4</td>\n",
       "    </tr>\n",
       "    <tr>\n",
       "      <td>5</td>\n",
       "      <td>0</td>\n",
       "      <td>9</td>\n",
       "    </tr>\n",
       "    <tr>\n",
       "      <td rowspan=\"2\" valign=\"top\">20</td>\n",
       "      <td>0</td>\n",
       "      <td>68</td>\n",
       "    </tr>\n",
       "    <tr>\n",
       "      <td>1</td>\n",
       "      <td>8</td>\n",
       "    </tr>\n",
       "  </tbody>\n",
       "</table>\n",
       "</div>"
      ],
      "text/plain": [
       "                debt\n",
       "children debt       \n",
       "0        0     13074\n",
       "         1      1064\n",
       "1        0      4364\n",
       "         1       444\n",
       "2        0      1858\n",
       "         1       194\n",
       "3        0       303\n",
       "         1        27\n",
       "4        0        37\n",
       "         1         4\n",
       "5        0         9\n",
       "20       0        68\n",
       "         1         8"
      ]
     },
     "execution_count": 41,
     "metadata": {},
     "output_type": "execute_result"
    }
   ],
   "source": [
    "data_group_children = data.groupby(['children', 'debt']).agg({'debt':'count'})\n",
    "data_group_children"
   ]
  },
  {
   "cell_type": "markdown",
   "metadata": {},
   "source": [
    "Цифры цифрами, но в процентах было бы лучше увидеть. Посчитаем процентное значение должников в зависимости от количества детей"
   ]
  },
  {
   "cell_type": "code",
   "execution_count": 42,
   "metadata": {},
   "outputs": [
    {
     "data": {
      "text/html": [
       "<div>\n",
       "<style scoped>\n",
       "    .dataframe tbody tr th:only-of-type {\n",
       "        vertical-align: middle;\n",
       "    }\n",
       "\n",
       "    .dataframe tbody tr th {\n",
       "        vertical-align: top;\n",
       "    }\n",
       "\n",
       "    .dataframe thead th {\n",
       "        text-align: right;\n",
       "    }\n",
       "</style>\n",
       "<table border=\"1\" class=\"dataframe\">\n",
       "  <thead>\n",
       "    <tr style=\"text-align: right;\">\n",
       "      <th></th>\n",
       "      <th>debt</th>\n",
       "    </tr>\n",
       "    <tr>\n",
       "      <th>children</th>\n",
       "      <th></th>\n",
       "    </tr>\n",
       "  </thead>\n",
       "  <tbody>\n",
       "    <tr>\n",
       "      <td>0</td>\n",
       "      <td>0.075258</td>\n",
       "    </tr>\n",
       "    <tr>\n",
       "      <td>1</td>\n",
       "      <td>0.092346</td>\n",
       "    </tr>\n",
       "    <tr>\n",
       "      <td>2</td>\n",
       "      <td>0.094542</td>\n",
       "    </tr>\n",
       "    <tr>\n",
       "      <td>3</td>\n",
       "      <td>0.081818</td>\n",
       "    </tr>\n",
       "    <tr>\n",
       "      <td>4</td>\n",
       "      <td>0.097561</td>\n",
       "    </tr>\n",
       "    <tr>\n",
       "      <td>5</td>\n",
       "      <td>0.000000</td>\n",
       "    </tr>\n",
       "    <tr>\n",
       "      <td>20</td>\n",
       "      <td>0.105263</td>\n",
       "    </tr>\n",
       "  </tbody>\n",
       "</table>\n",
       "</div>"
      ],
      "text/plain": [
       "              debt\n",
       "children          \n",
       "0         0.075258\n",
       "1         0.092346\n",
       "2         0.094542\n",
       "3         0.081818\n",
       "4         0.097561\n",
       "5         0.000000\n",
       "20        0.105263"
      ]
     },
     "execution_count": 42,
     "metadata": {},
     "output_type": "execute_result"
    }
   ],
   "source": [
    "data_group_children_proc = data.groupby('children').agg({'debt': 'mean'})\n",
    "data_group_children_proc.head(10)"
   ]
  },
  {
   "cell_type": "code",
   "execution_count": 43,
   "metadata": {},
   "outputs": [
    {
     "data": {
      "text/html": [
       "<style  type=\"text/css\" >\n",
       "</style><table id=\"T_62ff8f3a_c337_11eb_9108_02420a394b2c\" ><thead>    <tr>        <th class=\"blank level0\" ></th>        <th class=\"col_heading level0 col0\" >no_debt</th>        <th class=\"col_heading level0 col1\" >debt</th>        <th class=\"col_heading level0 col2\" >%</th>    </tr>    <tr>        <th class=\"index_name level0\" >children</th>        <th class=\"blank\" ></th>        <th class=\"blank\" ></th>        <th class=\"blank\" ></th>    </tr></thead><tbody>\n",
       "                <tr>\n",
       "                        <th id=\"T_62ff8f3a_c337_11eb_9108_02420a394b2clevel0_row0\" class=\"row_heading level0 row0\" >0</th>\n",
       "                        <td id=\"T_62ff8f3a_c337_11eb_9108_02420a394b2crow0_col0\" class=\"data row0 col0\" >13074</td>\n",
       "                        <td id=\"T_62ff8f3a_c337_11eb_9108_02420a394b2crow0_col1\" class=\"data row0 col1\" >1064</td>\n",
       "                        <td id=\"T_62ff8f3a_c337_11eb_9108_02420a394b2crow0_col2\" class=\"data row0 col2\" >7.53%</td>\n",
       "            </tr>\n",
       "            <tr>\n",
       "                        <th id=\"T_62ff8f3a_c337_11eb_9108_02420a394b2clevel0_row1\" class=\"row_heading level0 row1\" >1</th>\n",
       "                        <td id=\"T_62ff8f3a_c337_11eb_9108_02420a394b2crow1_col0\" class=\"data row1 col0\" >4364</td>\n",
       "                        <td id=\"T_62ff8f3a_c337_11eb_9108_02420a394b2crow1_col1\" class=\"data row1 col1\" >444</td>\n",
       "                        <td id=\"T_62ff8f3a_c337_11eb_9108_02420a394b2crow1_col2\" class=\"data row1 col2\" >9.23%</td>\n",
       "            </tr>\n",
       "            <tr>\n",
       "                        <th id=\"T_62ff8f3a_c337_11eb_9108_02420a394b2clevel0_row2\" class=\"row_heading level0 row2\" >2</th>\n",
       "                        <td id=\"T_62ff8f3a_c337_11eb_9108_02420a394b2crow2_col0\" class=\"data row2 col0\" >1858</td>\n",
       "                        <td id=\"T_62ff8f3a_c337_11eb_9108_02420a394b2crow2_col1\" class=\"data row2 col1\" >194</td>\n",
       "                        <td id=\"T_62ff8f3a_c337_11eb_9108_02420a394b2crow2_col2\" class=\"data row2 col2\" >9.45%</td>\n",
       "            </tr>\n",
       "            <tr>\n",
       "                        <th id=\"T_62ff8f3a_c337_11eb_9108_02420a394b2clevel0_row3\" class=\"row_heading level0 row3\" >3</th>\n",
       "                        <td id=\"T_62ff8f3a_c337_11eb_9108_02420a394b2crow3_col0\" class=\"data row3 col0\" >303</td>\n",
       "                        <td id=\"T_62ff8f3a_c337_11eb_9108_02420a394b2crow3_col1\" class=\"data row3 col1\" >27</td>\n",
       "                        <td id=\"T_62ff8f3a_c337_11eb_9108_02420a394b2crow3_col2\" class=\"data row3 col2\" >8.18%</td>\n",
       "            </tr>\n",
       "            <tr>\n",
       "                        <th id=\"T_62ff8f3a_c337_11eb_9108_02420a394b2clevel0_row4\" class=\"row_heading level0 row4\" >4</th>\n",
       "                        <td id=\"T_62ff8f3a_c337_11eb_9108_02420a394b2crow4_col0\" class=\"data row4 col0\" >37</td>\n",
       "                        <td id=\"T_62ff8f3a_c337_11eb_9108_02420a394b2crow4_col1\" class=\"data row4 col1\" >4</td>\n",
       "                        <td id=\"T_62ff8f3a_c337_11eb_9108_02420a394b2crow4_col2\" class=\"data row4 col2\" >9.76%</td>\n",
       "            </tr>\n",
       "            <tr>\n",
       "                        <th id=\"T_62ff8f3a_c337_11eb_9108_02420a394b2clevel0_row5\" class=\"row_heading level0 row5\" >5</th>\n",
       "                        <td id=\"T_62ff8f3a_c337_11eb_9108_02420a394b2crow5_col0\" class=\"data row5 col0\" >9</td>\n",
       "                        <td id=\"T_62ff8f3a_c337_11eb_9108_02420a394b2crow5_col1\" class=\"data row5 col1\" >0</td>\n",
       "                        <td id=\"T_62ff8f3a_c337_11eb_9108_02420a394b2crow5_col2\" class=\"data row5 col2\" >0.00%</td>\n",
       "            </tr>\n",
       "            <tr>\n",
       "                        <th id=\"T_62ff8f3a_c337_11eb_9108_02420a394b2clevel0_row6\" class=\"row_heading level0 row6\" >20</th>\n",
       "                        <td id=\"T_62ff8f3a_c337_11eb_9108_02420a394b2crow6_col0\" class=\"data row6 col0\" >68</td>\n",
       "                        <td id=\"T_62ff8f3a_c337_11eb_9108_02420a394b2crow6_col1\" class=\"data row6 col1\" >8</td>\n",
       "                        <td id=\"T_62ff8f3a_c337_11eb_9108_02420a394b2crow6_col2\" class=\"data row6 col2\" >10.53%</td>\n",
       "            </tr>\n",
       "    </tbody></table>"
      ],
      "text/plain": [
       "<pandas.io.formats.style.Styler at 0x7fc2fd12fbd0>"
      ]
     },
     "execution_count": 43,
     "metadata": {},
     "output_type": "execute_result"
    }
   ],
   "source": [
    "#создадим таблицу, в которой все значения NaN заменим на 0\n",
    "data_pivot = data.pivot_table(index='children',columns='debt', values='total_income', aggfunc='count').fillna(0)\n",
    "data_pivot.columns = ['no_debt', 'debt']\n",
    "#добавим столбец, в котором отображается процент задолженности\n",
    "data_pivot['%'] = data_pivot['debt'] / (data_pivot['debt'] + data_pivot['no_debt'])\n",
    "data_pivot.style.format({'%':'{:.2%}'})"
   ]
  },
  {
   "cell_type": "markdown",
   "metadata": {},
   "source": [
    "Процент задолжников при наличии 20 детей больше всех и это снова кажется подозрительным. Для уверенности необходимо спросить у эксплуатационного персонала, корректны ли данные. "
   ]
  },
  {
   "cell_type": "markdown",
   "metadata": {},
   "source": [
    "### Вывод"
   ]
  },
  {
   "cell_type": "markdown",
   "metadata": {},
   "source": [
    "Небольшая зависимость все же виднеется. Заемщик без детей платит по кредиту в срок чаще, чем заемщик с ребенком/детьми. Это может исходить из такого фактора как \"наличие свободных денег\", ведь когда есть дети необходимо планировать свои финансы и порой могут возникнуть непредвиденные траты (сдать на шторы в школу, или купить новую одежду).  \n",
    "Но среди заемщиков с детьми уже сложнее понять зависимость - можно было бы предположить, что чем больше детей, тем чаще заемщик не выплачивает кредит в срок, но процент должников при 3, 5 и 20 детях не дает нам подтвердить гипотезу. Необходимо смотреть на другие факторы."
   ]
  },
  {
   "cell_type": "markdown",
   "metadata": {},
   "source": [
    "## Зависимость между семейным положением и возвратом кредита в срок <a id=\"question2\"></a>"
   ]
  },
  {
   "cell_type": "markdown",
   "metadata": {},
   "source": [
    "Сгруппируем данные по id семейного статуса и посчитаем общее количество должников и тех, кто проводит выплаты вовремя"
   ]
  },
  {
   "cell_type": "code",
   "execution_count": 44,
   "metadata": {},
   "outputs": [
    {
     "data": {
      "text/html": [
       "<div>\n",
       "<style scoped>\n",
       "    .dataframe tbody tr th:only-of-type {\n",
       "        vertical-align: middle;\n",
       "    }\n",
       "\n",
       "    .dataframe tbody tr th {\n",
       "        vertical-align: top;\n",
       "    }\n",
       "\n",
       "    .dataframe thead th {\n",
       "        text-align: right;\n",
       "    }\n",
       "</style>\n",
       "<table border=\"1\" class=\"dataframe\">\n",
       "  <thead>\n",
       "    <tr style=\"text-align: right;\">\n",
       "      <th></th>\n",
       "      <th></th>\n",
       "      <th>debt</th>\n",
       "    </tr>\n",
       "    <tr>\n",
       "      <th>family_status_id</th>\n",
       "      <th>debt</th>\n",
       "      <th></th>\n",
       "    </tr>\n",
       "  </thead>\n",
       "  <tbody>\n",
       "    <tr>\n",
       "      <td rowspan=\"2\" valign=\"top\">0</td>\n",
       "      <td>0</td>\n",
       "      <td>11408</td>\n",
       "    </tr>\n",
       "    <tr>\n",
       "      <td>1</td>\n",
       "      <td>931</td>\n",
       "    </tr>\n",
       "    <tr>\n",
       "      <td rowspan=\"2\" valign=\"top\">1</td>\n",
       "      <td>0</td>\n",
       "      <td>3763</td>\n",
       "    </tr>\n",
       "    <tr>\n",
       "      <td>1</td>\n",
       "      <td>388</td>\n",
       "    </tr>\n",
       "    <tr>\n",
       "      <td rowspan=\"2\" valign=\"top\">2</td>\n",
       "      <td>0</td>\n",
       "      <td>896</td>\n",
       "    </tr>\n",
       "    <tr>\n",
       "      <td>1</td>\n",
       "      <td>63</td>\n",
       "    </tr>\n",
       "    <tr>\n",
       "      <td rowspan=\"2\" valign=\"top\">3</td>\n",
       "      <td>0</td>\n",
       "      <td>1110</td>\n",
       "    </tr>\n",
       "    <tr>\n",
       "      <td>1</td>\n",
       "      <td>85</td>\n",
       "    </tr>\n",
       "    <tr>\n",
       "      <td rowspan=\"2\" valign=\"top\">4</td>\n",
       "      <td>0</td>\n",
       "      <td>2536</td>\n",
       "    </tr>\n",
       "    <tr>\n",
       "      <td>1</td>\n",
       "      <td>274</td>\n",
       "    </tr>\n",
       "  </tbody>\n",
       "</table>\n",
       "</div>"
      ],
      "text/plain": [
       "                        debt\n",
       "family_status_id debt       \n",
       "0                0     11408\n",
       "                 1       931\n",
       "1                0      3763\n",
       "                 1       388\n",
       "2                0       896\n",
       "                 1        63\n",
       "3                0      1110\n",
       "                 1        85\n",
       "4                0      2536\n",
       "                 1       274"
      ]
     },
     "execution_count": 44,
     "metadata": {},
     "output_type": "execute_result"
    }
   ],
   "source": [
    "data_group_fam_stat = data.groupby(['family_status_id', 'debt']).agg({'debt':'count'})\n",
    "data_group_fam_stat"
   ]
  },
  {
   "cell_type": "markdown",
   "metadata": {},
   "source": [
    "Посчитаем процентное значение должников в зависимости от"
   ]
  },
  {
   "cell_type": "code",
   "execution_count": 45,
   "metadata": {},
   "outputs": [
    {
     "data": {
      "text/html": [
       "<div>\n",
       "<style scoped>\n",
       "    .dataframe tbody tr th:only-of-type {\n",
       "        vertical-align: middle;\n",
       "    }\n",
       "\n",
       "    .dataframe tbody tr th {\n",
       "        vertical-align: top;\n",
       "    }\n",
       "\n",
       "    .dataframe thead th {\n",
       "        text-align: right;\n",
       "    }\n",
       "</style>\n",
       "<table border=\"1\" class=\"dataframe\">\n",
       "  <thead>\n",
       "    <tr style=\"text-align: right;\">\n",
       "      <th></th>\n",
       "      <th>debt</th>\n",
       "    </tr>\n",
       "    <tr>\n",
       "      <th>family_status_id</th>\n",
       "      <th></th>\n",
       "    </tr>\n",
       "  </thead>\n",
       "  <tbody>\n",
       "    <tr>\n",
       "      <td>0</td>\n",
       "      <td>0.075452</td>\n",
       "    </tr>\n",
       "    <tr>\n",
       "      <td>1</td>\n",
       "      <td>0.093471</td>\n",
       "    </tr>\n",
       "    <tr>\n",
       "      <td>2</td>\n",
       "      <td>0.065693</td>\n",
       "    </tr>\n",
       "    <tr>\n",
       "      <td>3</td>\n",
       "      <td>0.071130</td>\n",
       "    </tr>\n",
       "    <tr>\n",
       "      <td>4</td>\n",
       "      <td>0.097509</td>\n",
       "    </tr>\n",
       "  </tbody>\n",
       "</table>\n",
       "</div>"
      ],
      "text/plain": [
       "                      debt\n",
       "family_status_id          \n",
       "0                 0.075452\n",
       "1                 0.093471\n",
       "2                 0.065693\n",
       "3                 0.071130\n",
       "4                 0.097509"
      ]
     },
     "execution_count": 45,
     "metadata": {},
     "output_type": "execute_result"
    }
   ],
   "source": [
    "data_group_fam_stat_proc = data.groupby('family_status_id').agg({'debt': 'mean'})\n",
    "data_group_fam_stat_proc.head(10)"
   ]
  },
  {
   "cell_type": "markdown",
   "metadata": {},
   "source": [
    "И для красоты заменим наименования индексов по словарю"
   ]
  },
  {
   "cell_type": "code",
   "execution_count": 46,
   "metadata": {},
   "outputs": [],
   "source": [
    "data_group_fam_stat_proc = data_group_fam_stat_proc.merge(family_status_dict, on = 'family_status_id', how = 'left')"
   ]
  },
  {
   "cell_type": "markdown",
   "metadata": {},
   "source": [
    "Выведем полученную информацию на экран"
   ]
  },
  {
   "cell_type": "code",
   "execution_count": 47,
   "metadata": {},
   "outputs": [
    {
     "data": {
      "text/html": [
       "<div>\n",
       "<style scoped>\n",
       "    .dataframe tbody tr th:only-of-type {\n",
       "        vertical-align: middle;\n",
       "    }\n",
       "\n",
       "    .dataframe tbody tr th {\n",
       "        vertical-align: top;\n",
       "    }\n",
       "\n",
       "    .dataframe thead th {\n",
       "        text-align: right;\n",
       "    }\n",
       "</style>\n",
       "<table border=\"1\" class=\"dataframe\">\n",
       "  <thead>\n",
       "    <tr style=\"text-align: right;\">\n",
       "      <th></th>\n",
       "      <th>family_status_id</th>\n",
       "      <th>debt</th>\n",
       "      <th>family_status</th>\n",
       "    </tr>\n",
       "  </thead>\n",
       "  <tbody>\n",
       "    <tr>\n",
       "      <td>0</td>\n",
       "      <td>0</td>\n",
       "      <td>0.075452</td>\n",
       "      <td>женат / замужем</td>\n",
       "    </tr>\n",
       "    <tr>\n",
       "      <td>1</td>\n",
       "      <td>1</td>\n",
       "      <td>0.093471</td>\n",
       "      <td>гражданский брак</td>\n",
       "    </tr>\n",
       "    <tr>\n",
       "      <td>2</td>\n",
       "      <td>2</td>\n",
       "      <td>0.065693</td>\n",
       "      <td>вдовец / вдова</td>\n",
       "    </tr>\n",
       "    <tr>\n",
       "      <td>3</td>\n",
       "      <td>3</td>\n",
       "      <td>0.071130</td>\n",
       "      <td>в разводе</td>\n",
       "    </tr>\n",
       "    <tr>\n",
       "      <td>4</td>\n",
       "      <td>4</td>\n",
       "      <td>0.097509</td>\n",
       "      <td>Не женат / не замужем</td>\n",
       "    </tr>\n",
       "  </tbody>\n",
       "</table>\n",
       "</div>"
      ],
      "text/plain": [
       "   family_status_id      debt          family_status\n",
       "0                 0  0.075452        женат / замужем\n",
       "1                 1  0.093471       гражданский брак\n",
       "2                 2  0.065693         вдовец / вдова\n",
       "3                 3  0.071130              в разводе\n",
       "4                 4  0.097509  Не женат / не замужем"
      ]
     },
     "execution_count": 47,
     "metadata": {},
     "output_type": "execute_result"
    }
   ],
   "source": [
    "data_group_fam_stat_proc"
   ]
  },
  {
   "cell_type": "markdown",
   "metadata": {},
   "source": [
    "Для красивого вида моно поменять местами столбцы `debt` и `family_status`, но в этом нет необходимости в рамках задачи"
   ]
  },
  {
   "cell_type": "markdown",
   "metadata": {},
   "source": [
    "### Вывод"
   ]
  },
  {
   "cell_type": "markdown",
   "metadata": {},
   "source": [
    "Более ответственными являются люди, так скажем \"повидавшие жизнь\": прошедшие через этап бракосочетания, когда-то определившие семейный бюджет и освоившие финансовое планирование - это люди из категорий `вдовец/вдова`, `в разводе` и `женат/замужем`.  \n",
    "Но причина, скорее всего, другая: эти люди или получают пенсию по потере кормильца, или могут расчитвывать на доход партнера. Т.к., они более финансово устойчивы.  \n",
    "Люди из категорий `гражданский брак` и `не жена/не замужем` показали себя как менее ответственные и как люди, которым нечего терять.  "
   ]
  },
  {
   "cell_type": "markdown",
   "metadata": {},
   "source": [
    "## Зависимость между уровнем дохода и возвратом кредита в срок <a id=\"question3\"></a>"
   ]
  },
  {
   "cell_type": "markdown",
   "metadata": {},
   "source": [
    "Просмотр по аналогии с вопросами выше на сгруппированные данные не даст нам результата. Значения ежемесячного дохода сильно разнятся, поэтому воспользуемся методом, который разделяет данные на равные части и зададим уровни доходов:"
   ]
  },
  {
   "cell_type": "code",
   "execution_count": 48,
   "metadata": {},
   "outputs": [],
   "source": [
    "bin_labels_3 = ['низкий', 'средний', 'высокий']\n",
    "\n",
    "data['level'] = pd.qcut(data['total_income'],\n",
    "                              q=3,\n",
    "                              labels=bin_labels_3)"
   ]
  },
  {
   "cell_type": "code",
   "execution_count": 49,
   "metadata": {},
   "outputs": [
    {
     "data": {
      "text/html": [
       "<div>\n",
       "<style scoped>\n",
       "    .dataframe tbody tr th:only-of-type {\n",
       "        vertical-align: middle;\n",
       "    }\n",
       "\n",
       "    .dataframe tbody tr th {\n",
       "        vertical-align: top;\n",
       "    }\n",
       "\n",
       "    .dataframe thead th {\n",
       "        text-align: right;\n",
       "    }\n",
       "</style>\n",
       "<table border=\"1\" class=\"dataframe\">\n",
       "  <thead>\n",
       "    <tr style=\"text-align: right;\">\n",
       "      <th></th>\n",
       "      <th>children</th>\n",
       "      <th>days_employed</th>\n",
       "      <th>dob_years</th>\n",
       "      <th>education_id</th>\n",
       "      <th>family_status_id</th>\n",
       "      <th>gender</th>\n",
       "      <th>income_type</th>\n",
       "      <th>debt</th>\n",
       "      <th>total_income</th>\n",
       "      <th>purpose_id</th>\n",
       "      <th>level</th>\n",
       "    </tr>\n",
       "  </thead>\n",
       "  <tbody>\n",
       "    <tr>\n",
       "      <td>0</td>\n",
       "      <td>1</td>\n",
       "      <td>8437.673028</td>\n",
       "      <td>42</td>\n",
       "      <td>0</td>\n",
       "      <td>0</td>\n",
       "      <td>F</td>\n",
       "      <td>сотрудник</td>\n",
       "      <td>0</td>\n",
       "      <td>253875</td>\n",
       "      <td>1</td>\n",
       "      <td>высокий</td>\n",
       "    </tr>\n",
       "    <tr>\n",
       "      <td>1</td>\n",
       "      <td>0</td>\n",
       "      <td>5623.422610</td>\n",
       "      <td>33</td>\n",
       "      <td>1</td>\n",
       "      <td>0</td>\n",
       "      <td>M</td>\n",
       "      <td>сотрудник</td>\n",
       "      <td>0</td>\n",
       "      <td>145885</td>\n",
       "      <td>1</td>\n",
       "      <td>средний</td>\n",
       "    </tr>\n",
       "    <tr>\n",
       "      <td>2</td>\n",
       "      <td>0</td>\n",
       "      <td>926.185831</td>\n",
       "      <td>27</td>\n",
       "      <td>0</td>\n",
       "      <td>1</td>\n",
       "      <td>M</td>\n",
       "      <td>компаньон</td>\n",
       "      <td>0</td>\n",
       "      <td>255763</td>\n",
       "      <td>1</td>\n",
       "      <td>высокий</td>\n",
       "    </tr>\n",
       "    <tr>\n",
       "      <td>3</td>\n",
       "      <td>0</td>\n",
       "      <td>2879.202052</td>\n",
       "      <td>43</td>\n",
       "      <td>0</td>\n",
       "      <td>0</td>\n",
       "      <td>F</td>\n",
       "      <td>компаньон</td>\n",
       "      <td>0</td>\n",
       "      <td>240525</td>\n",
       "      <td>1</td>\n",
       "      <td>высокий</td>\n",
       "    </tr>\n",
       "    <tr>\n",
       "      <td>4</td>\n",
       "      <td>0</td>\n",
       "      <td>2188.756445</td>\n",
       "      <td>41</td>\n",
       "      <td>1</td>\n",
       "      <td>0</td>\n",
       "      <td>M</td>\n",
       "      <td>сотрудник</td>\n",
       "      <td>0</td>\n",
       "      <td>144425</td>\n",
       "      <td>1</td>\n",
       "      <td>средний</td>\n",
       "    </tr>\n",
       "  </tbody>\n",
       "</table>\n",
       "</div>"
      ],
      "text/plain": [
       "   children  days_employed  dob_years  education_id  family_status_id gender  \\\n",
       "0         1    8437.673028         42             0                 0      F   \n",
       "1         0    5623.422610         33             1                 0      M   \n",
       "2         0     926.185831         27             0                 1      M   \n",
       "3         0    2879.202052         43             0                 0      F   \n",
       "4         0    2188.756445         41             1                 0      M   \n",
       "\n",
       "  income_type  debt  total_income purpose_id    level  \n",
       "0   сотрудник     0        253875          1  высокий  \n",
       "1   сотрудник     0        145885          1  средний  \n",
       "2   компаньон     0        255763          1  высокий  \n",
       "3   компаньон     0        240525          1  высокий  \n",
       "4   сотрудник     0        144425          1  средний  "
      ]
     },
     "execution_count": 49,
     "metadata": {},
     "output_type": "execute_result"
    }
   ],
   "source": [
    "data.head()"
   ]
  },
  {
   "cell_type": "markdown",
   "metadata": {},
   "source": [
    "Теперь посмотрим на данные в процентах (аналогично как делали в предыдущх пунктах:"
   ]
  },
  {
   "cell_type": "code",
   "execution_count": 50,
   "metadata": {},
   "outputs": [
    {
     "data": {
      "text/html": [
       "<div>\n",
       "<style scoped>\n",
       "    .dataframe tbody tr th:only-of-type {\n",
       "        vertical-align: middle;\n",
       "    }\n",
       "\n",
       "    .dataframe tbody tr th {\n",
       "        vertical-align: top;\n",
       "    }\n",
       "\n",
       "    .dataframe thead th {\n",
       "        text-align: right;\n",
       "    }\n",
       "</style>\n",
       "<table border=\"1\" class=\"dataframe\">\n",
       "  <thead>\n",
       "    <tr style=\"text-align: right;\">\n",
       "      <th></th>\n",
       "      <th>debt</th>\n",
       "    </tr>\n",
       "    <tr>\n",
       "      <th>level</th>\n",
       "      <th></th>\n",
       "    </tr>\n",
       "  </thead>\n",
       "  <tbody>\n",
       "    <tr>\n",
       "      <td>низкий</td>\n",
       "      <td>0.081236</td>\n",
       "    </tr>\n",
       "    <tr>\n",
       "      <td>средний</td>\n",
       "      <td>0.086754</td>\n",
       "    </tr>\n",
       "    <tr>\n",
       "      <td>высокий</td>\n",
       "      <td>0.075246</td>\n",
       "    </tr>\n",
       "  </tbody>\n",
       "</table>\n",
       "</div>"
      ],
      "text/plain": [
       "             debt\n",
       "level            \n",
       "низкий   0.081236\n",
       "средний  0.086754\n",
       "высокий  0.075246"
      ]
     },
     "execution_count": 50,
     "metadata": {},
     "output_type": "execute_result"
    }
   ],
   "source": [
    "data_group_income_proc = data.groupby('level').agg({'debt': 'mean'})\n",
    "data_group_income_proc"
   ]
  },
  {
   "cell_type": "markdown",
   "metadata": {},
   "source": [
    "*Комментарий для проверяющего:\n",
    "Сначала я воспользовалась другим методом, по аналогии как делала выше. Категории уровня доходов выделиила сама на основе среднего уровня доходов по Москве, код был следующий:*  \n",
    "  \n",
    "Функция для определения категории:  \n",
    "**def income_level(income):  \n",
    "    if income <=50000:  \n",
    "        return 'низкий'  \n",
    "    elif 50000 < income <= 100000:  \n",
    "        return 'средний'  \n",
    "    elif income > 100000:  \n",
    "        return 'высокий'  \n",
    "    else:  \n",
    "        return 'no level'**  \n",
    "  \n",
    "Создание доп. таблицы для анализа. Вызов функции income_level  \n",
    "**data_total_income = data[['total_income', 'debt']]  \n",
    "data_total_income['level'] = data_total_income['total_income'].apply(income_level)  \n",
    "print(data_total_income)**  \n",
    "  \n",
    "Группировка данных для анализа задолжников  \n",
    "**data_group_income_proc = data_total_income.groupby('level').agg({'debt': 'mean'})  \n",
    "print(data_group_income_proc.head(10))**  \n",
    "  \n",
    "Выводы с такими данными были иные: ***Данные говорят о том, что чем выше доход, тем выше процент задолженности. Интересный феномен, кажется что в реальности все должно быть по-другому: чем ниже доход, тем выше процент задолженности.***  \n",
    "И такие результаты казались немного странными, были сомнения в правильности подхода к анализу и не зря"
   ]
  },
  {
   "cell_type": "markdown",
   "metadata": {},
   "source": [
    "### Вывод"
   ]
  },
  {
   "cell_type": "markdown",
   "metadata": {},
   "source": [
    "Видится зависимость между уровнем дохода и погашению кредита в срок. Люди с высоким уровнем дохода более ответтсвенны и осуществляют платеж по кредиту в срок, чем люди с низким или средним доходом. "
   ]
  },
  {
   "cell_type": "markdown",
   "metadata": {},
   "source": [
    "## Влияние разных целей на возврат кредита в срок <a id=\"question4\"></a>"
   ]
  },
  {
   "cell_type": "markdown",
   "metadata": {},
   "source": [
    "Сгруппируем данные по id цели и посчитаем общее количество должников и тех, кто проводит выплаты вовремя"
   ]
  },
  {
   "cell_type": "code",
   "execution_count": 51,
   "metadata": {},
   "outputs": [
    {
     "data": {
      "text/html": [
       "<div>\n",
       "<style scoped>\n",
       "    .dataframe tbody tr th:only-of-type {\n",
       "        vertical-align: middle;\n",
       "    }\n",
       "\n",
       "    .dataframe tbody tr th {\n",
       "        vertical-align: top;\n",
       "    }\n",
       "\n",
       "    .dataframe thead th {\n",
       "        text-align: right;\n",
       "    }\n",
       "</style>\n",
       "<table border=\"1\" class=\"dataframe\">\n",
       "  <thead>\n",
       "    <tr style=\"text-align: right;\">\n",
       "      <th></th>\n",
       "      <th></th>\n",
       "      <th>debt</th>\n",
       "    </tr>\n",
       "    <tr>\n",
       "      <th>purpose_id</th>\n",
       "      <th>debt</th>\n",
       "      <th></th>\n",
       "    </tr>\n",
       "  </thead>\n",
       "  <tbody>\n",
       "    <tr>\n",
       "      <td rowspan=\"2\" valign=\"top\">1</td>\n",
       "      <td>0</td>\n",
       "      <td>10029</td>\n",
       "    </tr>\n",
       "    <tr>\n",
       "      <td>1</td>\n",
       "      <td>782</td>\n",
       "    </tr>\n",
       "    <tr>\n",
       "      <td rowspan=\"2\" valign=\"top\">2</td>\n",
       "      <td>0</td>\n",
       "      <td>3903</td>\n",
       "    </tr>\n",
       "    <tr>\n",
       "      <td>1</td>\n",
       "      <td>403</td>\n",
       "    </tr>\n",
       "    <tr>\n",
       "      <td rowspan=\"2\" valign=\"top\">3</td>\n",
       "      <td>0</td>\n",
       "      <td>3643</td>\n",
       "    </tr>\n",
       "    <tr>\n",
       "      <td>1</td>\n",
       "      <td>370</td>\n",
       "    </tr>\n",
       "    <tr>\n",
       "      <td rowspan=\"2\" valign=\"top\">4</td>\n",
       "      <td>0</td>\n",
       "      <td>2138</td>\n",
       "    </tr>\n",
       "    <tr>\n",
       "      <td>1</td>\n",
       "      <td>186</td>\n",
       "    </tr>\n",
       "  </tbody>\n",
       "</table>\n",
       "</div>"
      ],
      "text/plain": [
       "                  debt\n",
       "purpose_id debt       \n",
       "1          0     10029\n",
       "           1       782\n",
       "2          0      3903\n",
       "           1       403\n",
       "3          0      3643\n",
       "           1       370\n",
       "4          0      2138\n",
       "           1       186"
      ]
     },
     "execution_count": 51,
     "metadata": {},
     "output_type": "execute_result"
    }
   ],
   "source": [
    "data_group_purpose = data.groupby(['purpose_id', 'debt']).agg({'debt':'count'})\n",
    "data_group_purpose"
   ]
  },
  {
   "cell_type": "markdown",
   "metadata": {},
   "source": [
    "Посчитаем процентное значение должников в зависимости от цели"
   ]
  },
  {
   "cell_type": "code",
   "execution_count": 52,
   "metadata": {},
   "outputs": [
    {
     "data": {
      "text/html": [
       "<div>\n",
       "<style scoped>\n",
       "    .dataframe tbody tr th:only-of-type {\n",
       "        vertical-align: middle;\n",
       "    }\n",
       "\n",
       "    .dataframe tbody tr th {\n",
       "        vertical-align: top;\n",
       "    }\n",
       "\n",
       "    .dataframe thead th {\n",
       "        text-align: right;\n",
       "    }\n",
       "</style>\n",
       "<table border=\"1\" class=\"dataframe\">\n",
       "  <thead>\n",
       "    <tr style=\"text-align: right;\">\n",
       "      <th></th>\n",
       "      <th>debt</th>\n",
       "    </tr>\n",
       "    <tr>\n",
       "      <th>purpose_id</th>\n",
       "      <th></th>\n",
       "    </tr>\n",
       "  </thead>\n",
       "  <tbody>\n",
       "    <tr>\n",
       "      <td>1</td>\n",
       "      <td>0.072334</td>\n",
       "    </tr>\n",
       "    <tr>\n",
       "      <td>2</td>\n",
       "      <td>0.093590</td>\n",
       "    </tr>\n",
       "    <tr>\n",
       "      <td>3</td>\n",
       "      <td>0.092200</td>\n",
       "    </tr>\n",
       "    <tr>\n",
       "      <td>4</td>\n",
       "      <td>0.080034</td>\n",
       "    </tr>\n",
       "  </tbody>\n",
       "</table>\n",
       "</div>"
      ],
      "text/plain": [
       "                debt\n",
       "purpose_id          \n",
       "1           0.072334\n",
       "2           0.093590\n",
       "3           0.092200\n",
       "4           0.080034"
      ]
     },
     "execution_count": 52,
     "metadata": {},
     "output_type": "execute_result"
    }
   ],
   "source": [
    "data_group_purpose_proc = data.groupby('purpose_id').agg({'debt': 'mean'})\n",
    "data_group_purpose_proc"
   ]
  },
  {
   "cell_type": "markdown",
   "metadata": {},
   "source": [
    "И для красоты заменим наименования индексов по словарю"
   ]
  },
  {
   "cell_type": "code",
   "execution_count": 53,
   "metadata": {},
   "outputs": [],
   "source": [
    "data_group_purpose_proc = data_group_purpose_proc.merge(purpose_dict, on = 'purpose_id', how = 'left')"
   ]
  },
  {
   "cell_type": "markdown",
   "metadata": {},
   "source": [
    "Выведем полученную информацию на экран"
   ]
  },
  {
   "cell_type": "code",
   "execution_count": 54,
   "metadata": {},
   "outputs": [
    {
     "data": {
      "text/html": [
       "<div>\n",
       "<style scoped>\n",
       "    .dataframe tbody tr th:only-of-type {\n",
       "        vertical-align: middle;\n",
       "    }\n",
       "\n",
       "    .dataframe tbody tr th {\n",
       "        vertical-align: top;\n",
       "    }\n",
       "\n",
       "    .dataframe thead th {\n",
       "        text-align: right;\n",
       "    }\n",
       "</style>\n",
       "<table border=\"1\" class=\"dataframe\">\n",
       "  <thead>\n",
       "    <tr style=\"text-align: right;\">\n",
       "      <th></th>\n",
       "      <th>purpose_id</th>\n",
       "      <th>debt</th>\n",
       "      <th>purpose_cathegory</th>\n",
       "    </tr>\n",
       "  </thead>\n",
       "  <tbody>\n",
       "    <tr>\n",
       "      <td>0</td>\n",
       "      <td>1</td>\n",
       "      <td>0.072334</td>\n",
       "      <td>недвижимость</td>\n",
       "    </tr>\n",
       "    <tr>\n",
       "      <td>1</td>\n",
       "      <td>2</td>\n",
       "      <td>0.093590</td>\n",
       "      <td>автомобиль</td>\n",
       "    </tr>\n",
       "    <tr>\n",
       "      <td>2</td>\n",
       "      <td>3</td>\n",
       "      <td>0.092200</td>\n",
       "      <td>образование</td>\n",
       "    </tr>\n",
       "    <tr>\n",
       "      <td>3</td>\n",
       "      <td>4</td>\n",
       "      <td>0.080034</td>\n",
       "      <td>свадьба</td>\n",
       "    </tr>\n",
       "  </tbody>\n",
       "</table>\n",
       "</div>"
      ],
      "text/plain": [
       "  purpose_id      debt purpose_cathegory\n",
       "0          1  0.072334      недвижимость\n",
       "1          2  0.093590        автомобиль\n",
       "2          3  0.092200       образование\n",
       "3          4  0.080034           свадьба"
      ]
     },
     "execution_count": 54,
     "metadata": {},
     "output_type": "execute_result"
    }
   ],
   "source": [
    "data_group_purpose_proc"
   ]
  },
  {
   "cell_type": "markdown",
   "metadata": {},
   "source": [
    "### Вывод"
   ]
  },
  {
   "cell_type": "markdown",
   "metadata": {},
   "source": [
    "Выплаты по недвижимость проводятся в срок чаще, чем выплата по кредиту на автомобиль или образование. Это может быть связано с процентными ставками - недвижимость обычно приобретается в ипотеку, а ипотека имеет более низкие проценты чем обычный кредит, также за счет условия срока ипотеки заемщик может установить для себя комфортную ежемесячную плату.  \n",
    "Предположительно, про такое высокое значение просрочек по кредиту на образование можно сказать, что чаще всего люди берут кредит на образование, чтобы обучиться и в дальнейшем зарабатывать хорошие деньги, но во время обучения доход может быть низким"
   ]
  },
  {
   "cell_type": "markdown",
   "metadata": {},
   "source": [
    "### 4. Общий вывод <a id=\"conclusion\"></a>"
   ]
  },
  {
   "cell_type": "markdown",
   "metadata": {},
   "source": [
    "Отвечая на вопросы о влиянии различных факторов на погашение кредита в срок можно сделать следующие выводы: самыми ненадежными плательщиками являются:\n",
    "* заемщики с детьми\n",
    "* заемщики, находящиеся в гражданском браке или в статусе \"не женат/не замужем\"\n",
    "* заемщики с низким уровнем дохода\n",
    "* заемщики, взявшие кредит на покупку автомобиля или на получение образования.\n",
    "  \n",
    "Выводы выше не означает, что все кто попадает под вышеопределенные параметры обязательно будут иметь задолженности по кредиту. Выделенные выше категории находятся в зоне риска и к таким заемщикам требуется уделить больше внимания, анализируя заемщика комплексно. "
   ]
  }
 ],
 "metadata": {
  "kernelspec": {
   "display_name": "Python 3 (ipykernel)",
   "language": "python",
   "name": "python3"
  },
  "language_info": {
   "codemirror_mode": {
    "name": "ipython",
    "version": 3
   },
   "file_extension": ".py",
   "mimetype": "text/x-python",
   "name": "python",
   "nbconvert_exporter": "python",
   "pygments_lexer": "ipython3",
   "version": "3.9.12"
  },
  "toc": {
   "base_numbering": 1,
   "nav_menu": {},
   "number_sections": false,
   "sideBar": true,
   "skip_h1_title": true,
   "title_cell": "Table of Contents",
   "title_sidebar": "Contents",
   "toc_cell": false,
   "toc_position": {},
   "toc_section_display": true,
   "toc_window_display": false
  }
 },
 "nbformat": 4,
 "nbformat_minor": 2
}
